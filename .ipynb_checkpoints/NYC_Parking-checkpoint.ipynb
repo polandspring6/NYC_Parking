{
 "cells": [
  {
   "cell_type": "markdown",
   "metadata": {},
   "source": [
    "# Importing, merging, cleaning data"
   ]
  },
  {
   "cell_type": "code",
   "execution_count": 1,
   "metadata": {},
   "outputs": [],
   "source": [
    "import pandas as pd\n",
    "import numpy as np\n",
    "import matplotlib.pyplot as plt\n",
    "from tqdm import tqdm\n",
    "tqdm.pandas()"
   ]
  },
  {
   "cell_type": "code",
   "execution_count": null,
   "metadata": {},
   "outputs": [],
   "source": [
    "pip install scikit-learn"
   ]
  },
  {
   "cell_type": "code",
   "execution_count": null,
   "metadata": {},
   "outputs": [],
   "source": [
    "from sklearn import model_selection, metrics, linear_model\n",
    "from sklearn.linear_model import LinearRegression, Ridge, LogisticRegression, RidgeCV\n",
    "from sklearn.metrics import mean_squared_error\n",
    "from sklearn.neighbors import KNeighborsClassifier\n",
    "from sklearn.preprocessing import StandardScaler\n",
    "from math import sqrt\n",
    "import statsmodels.api as sm\n",
    "\n",
    "\n",
    "\n",
    "from sklearn.discriminant_analysis import LinearDiscriminantAnalysis\n",
    "from sklearn.ensemble import RandomForestClassifier, RandomForestRegressor\n",
    "\n",
    "from sklearn.metrics import accuracy_score\n",
    "from sklearn.metrics import r2_score\n",
    "\n",
    "import seaborn as sns\n",
    "import matplotlib.pyplot as plt\n",
    "sns.set(style=\"ticks\", color_codes=True)"
   ]
  },
  {
   "cell_type": "code",
   "execution_count": 110,
   "metadata": {},
   "outputs": [],
   "source": [
    "df2019 = pd.read_csv (r'C:\\Users\\38150\\Desktop\\CapstoneData\\Parking_Violations_Issued_-_Fiscal_Year_2019.csv', low_memory=False)\n",
    "df2018 = pd.read_csv (r'C:\\Users\\38150\\Desktop\\CapstoneData\\Parking_Violations_Issued_-_Fiscal_Year_2018.csv', low_memory=False)\n",
    "df2017 = pd.read_csv (r'C:\\Users\\38150\\Desktop\\CapstoneData\\Parking_Violations_Issued_-_Fiscal_Year_2017.csv', low_memory=False)\n",
    "df2016 = pd.read_csv (r'C:\\Users\\38150\\Desktop\\CapstoneData\\Parking_Violations_Issued_-_Fiscal_Year_2016.csv', low_memory=False)\n",
    "df2015 = pd.read_csv (r'C:\\Users\\38150\\Desktop\\CapstoneData\\Parking_Violations_Issued_-_Fiscal_Year_2015.csv', low_memory=False)"
   ]
  },
  {
   "cell_type": "code",
   "execution_count": 111,
   "metadata": {},
   "outputs": [],
   "source": [
    "columns_list = ['Summons Number',\n",
    "'Issue Date',\n",
    "'Violation Code',\n",
    "'Issuing Agency',\n",
    "'Street Code1',\n",
    "'Street Code2',\n",
    "'Street Code3',\n",
    "'Vehicle Expiration Date',\n",
    "'Violation Precinct',\n",
    "'Issuer Precinct',\n",
    "'Violation Time',\n",
    "'Time First Observed',\n",
    "'Violation County',\n",
    "'House Number',\n",
    "'Street Name',\n",
    "'Intersecting Street']"
   ]
  },
  {
   "cell_type": "code",
   "execution_count": 112,
   "metadata": {},
   "outputs": [],
   "source": [
    "df2019v2 = df2019.filter(items=columns_list)\n",
    "df2018v2 = df2018.filter(items=columns_list)\n",
    "df2017v2 = df2017.filter(items=columns_list)\n",
    "df2016v2 = df2016.filter(items=columns_list)\n",
    "df2015v2 = df2015.filter(items=columns_list)"
   ]
  },
  {
   "cell_type": "code",
   "execution_count": 113,
   "metadata": {},
   "outputs": [],
   "source": [
    "del df2019, df2018, df2017, df2016, df2015"
   ]
  },
  {
   "cell_type": "code",
   "execution_count": 114,
   "metadata": {},
   "outputs": [],
   "source": [
    "dfcombined = pd.concat([df2019v2, df2018v2, df2017v2, df2016v2, df2015v2], axis = 0, sort = False)"
   ]
  },
  {
   "cell_type": "code",
   "execution_count": 115,
   "metadata": {},
   "outputs": [],
   "source": [
    "del df2019v2, df2018v2, df2017v2, df2016v2, df2015v2"
   ]
  },
  {
   "cell_type": "code",
   "execution_count": 116,
   "metadata": {},
   "outputs": [
    {
     "data": {
      "text/plain": [
       "(56428292, 16)"
      ]
     },
     "execution_count": 116,
     "metadata": {},
     "output_type": "execute_result"
    }
   ],
   "source": [
    "dfcombined.shape"
   ]
  },
  {
   "cell_type": "code",
   "execution_count": 117,
   "metadata": {},
   "outputs": [],
   "source": [
    "dfcombined_new = dfcombined.groupby(['Issue Date', 'Violation Precinct']).size().reset_index(name='N_violations')"
   ]
  },
  {
   "cell_type": "code",
   "execution_count": 118,
   "metadata": {},
   "outputs": [
    {
     "data": {
      "text/plain": [
       "(163694, 3)"
      ]
     },
     "execution_count": 118,
     "metadata": {},
     "output_type": "execute_result"
    }
   ],
   "source": [
    "dfcombined_new.shape"
   ]
  },
  {
   "cell_type": "code",
   "execution_count": 119,
   "metadata": {},
   "outputs": [],
   "source": [
    "dfcombined_new.to_csv(r'C:\\Users\\38150\\Desktop\\CapstoneData\\AllYearsData.csv')"
   ]
  },
  {
   "cell_type": "code",
   "execution_count": 12,
   "metadata": {},
   "outputs": [],
   "source": [
    "dfcombined['Issue Date'] =  pd.to_datetime(dfcombined['Issue Date'], format=\"%m/%d/%Y\")"
   ]
  },
  {
   "cell_type": "code",
   "execution_count": 13,
   "metadata": {},
   "outputs": [],
   "source": [
    "dfcombined['year'] = dfcombined['Issue Date'].dt.year\n",
    "#dfcombined['month'] = dfcombined['Issue Date'].dt.month\n",
    "#dfcombined['day'] = dfcombined['Issue Date'].dt.day\n",
    "#dfcombined['weekday'] = dfcombined['Issue Date'].dt.dayofweek"
   ]
  },
  {
   "cell_type": "code",
   "execution_count": 14,
   "metadata": {},
   "outputs": [],
   "source": [
    "dfcombined2 = dfcombined[(dfcombined.year > 2014) & (dfcombined.year < 2020)]"
   ]
  },
  {
   "cell_type": "code",
   "execution_count": 15,
   "metadata": {},
   "outputs": [],
   "source": [
    "del dfcombined"
   ]
  },
  {
   "cell_type": "code",
   "execution_count": 16,
   "metadata": {},
   "outputs": [],
   "source": [
    "count_of_years = dfcombined2[['year']].groupby(['year']).size()"
   ]
  },
  {
   "cell_type": "code",
   "execution_count": 17,
   "metadata": {
    "scrolled": true
   },
   "outputs": [
    {
     "data": {
      "text/plain": [
       "year\n",
       "2015.0         583\n",
       "2016.0     5369007\n",
       "2017.0    11434926\n",
       "2018.0    11832784\n",
       "2019.0     5352638\n",
       "dtype: int64"
      ]
     },
     "execution_count": 17,
     "metadata": {},
     "output_type": "execute_result"
    }
   ],
   "source": [
    "count_of_years"
   ]
  },
  {
   "cell_type": "code",
   "execution_count": 22,
   "metadata": {},
   "outputs": [
    {
     "data": {
      "text/plain": [
       "(33989938, 6)"
      ]
     },
     "execution_count": 22,
     "metadata": {},
     "output_type": "execute_result"
    }
   ],
   "source": [
    "dfcombined2.shape"
   ]
  },
  {
   "cell_type": "markdown",
   "metadata": {},
   "source": [
    "#### Aggregating by precinct and by day"
   ]
  },
  {
   "cell_type": "code",
   "execution_count": 21,
   "metadata": {},
   "outputs": [],
   "source": [
    "dfcombined2 = dfcombined2.filter(items=['Issue Date','Violation Precinct', 'year', 'month','day', 'weekday'])"
   ]
  },
  {
   "cell_type": "code",
   "execution_count": 26,
   "metadata": {},
   "outputs": [],
   "source": [
    "dfcombined3 = dfcombined2.groupby(['Issue Date', 'Violation Precinct']).size().reset_index(name='N_violations')"
   ]
  },
  {
   "cell_type": "code",
   "execution_count": 33,
   "metadata": {},
   "outputs": [],
   "source": [
    "dfcombined3['year'] = dfcombined3['Issue Date'].dt.year\n",
    "dfcombined3['month'] = dfcombined3['Issue Date'].dt.month\n",
    "dfcombined3['day'] = dfcombined3['Issue Date'].dt.day\n",
    "dfcombined3['weekday'] = dfcombined3['Issue Date'].dt.dayofweek"
   ]
  },
  {
   "cell_type": "code",
   "execution_count": 38,
   "metadata": {},
   "outputs": [],
   "source": [
    "dfcombined4 = dfcombined3[(dfcombined3.year == 2017) | (dfcombined3.year == 2018) | (dfcombined3.year == 2019)]"
   ]
  },
  {
   "cell_type": "code",
   "execution_count": 42,
   "metadata": {
    "scrolled": true
   },
   "outputs": [
    {
     "data": {
      "text/html": [
       "<div>\n",
       "<style scoped>\n",
       "    .dataframe tbody tr th:only-of-type {\n",
       "        vertical-align: middle;\n",
       "    }\n",
       "\n",
       "    .dataframe tbody tr th {\n",
       "        vertical-align: top;\n",
       "    }\n",
       "\n",
       "    .dataframe thead th {\n",
       "        text-align: right;\n",
       "    }\n",
       "</style>\n",
       "<table border=\"1\" class=\"dataframe\">\n",
       "  <thead>\n",
       "    <tr style=\"text-align: right;\">\n",
       "      <th></th>\n",
       "      <th>Issue Date</th>\n",
       "      <th>Violation Precinct</th>\n",
       "      <th>N_violations</th>\n",
       "      <th>year</th>\n",
       "      <th>month</th>\n",
       "      <th>day</th>\n",
       "      <th>weekday</th>\n",
       "    </tr>\n",
       "  </thead>\n",
       "  <tbody>\n",
       "    <tr>\n",
       "      <th>19447</th>\n",
       "      <td>2017-01-01</td>\n",
       "      <td>0</td>\n",
       "      <td>1235</td>\n",
       "      <td>2017</td>\n",
       "      <td>1</td>\n",
       "      <td>1</td>\n",
       "      <td>6</td>\n",
       "    </tr>\n",
       "    <tr>\n",
       "      <th>19448</th>\n",
       "      <td>2017-01-01</td>\n",
       "      <td>1</td>\n",
       "      <td>119</td>\n",
       "      <td>2017</td>\n",
       "      <td>1</td>\n",
       "      <td>1</td>\n",
       "      <td>6</td>\n",
       "    </tr>\n",
       "    <tr>\n",
       "      <th>19449</th>\n",
       "      <td>2017-01-01</td>\n",
       "      <td>5</td>\n",
       "      <td>43</td>\n",
       "      <td>2017</td>\n",
       "      <td>1</td>\n",
       "      <td>1</td>\n",
       "      <td>6</td>\n",
       "    </tr>\n",
       "    <tr>\n",
       "      <th>19450</th>\n",
       "      <td>2017-01-01</td>\n",
       "      <td>6</td>\n",
       "      <td>16</td>\n",
       "      <td>2017</td>\n",
       "      <td>1</td>\n",
       "      <td>1</td>\n",
       "      <td>6</td>\n",
       "    </tr>\n",
       "    <tr>\n",
       "      <th>19451</th>\n",
       "      <td>2017-01-01</td>\n",
       "      <td>7</td>\n",
       "      <td>15</td>\n",
       "      <td>2017</td>\n",
       "      <td>1</td>\n",
       "      <td>1</td>\n",
       "      <td>6</td>\n",
       "    </tr>\n",
       "    <tr>\n",
       "      <th>19452</th>\n",
       "      <td>2017-01-01</td>\n",
       "      <td>8</td>\n",
       "      <td>1</td>\n",
       "      <td>2017</td>\n",
       "      <td>1</td>\n",
       "      <td>1</td>\n",
       "      <td>6</td>\n",
       "    </tr>\n",
       "    <tr>\n",
       "      <th>19453</th>\n",
       "      <td>2017-01-01</td>\n",
       "      <td>9</td>\n",
       "      <td>10</td>\n",
       "      <td>2017</td>\n",
       "      <td>1</td>\n",
       "      <td>1</td>\n",
       "      <td>6</td>\n",
       "    </tr>\n",
       "    <tr>\n",
       "      <th>19454</th>\n",
       "      <td>2017-01-01</td>\n",
       "      <td>10</td>\n",
       "      <td>16</td>\n",
       "      <td>2017</td>\n",
       "      <td>1</td>\n",
       "      <td>1</td>\n",
       "      <td>6</td>\n",
       "    </tr>\n",
       "    <tr>\n",
       "      <th>19455</th>\n",
       "      <td>2017-01-01</td>\n",
       "      <td>13</td>\n",
       "      <td>24</td>\n",
       "      <td>2017</td>\n",
       "      <td>1</td>\n",
       "      <td>1</td>\n",
       "      <td>6</td>\n",
       "    </tr>\n",
       "    <tr>\n",
       "      <th>19456</th>\n",
       "      <td>2017-01-01</td>\n",
       "      <td>14</td>\n",
       "      <td>82</td>\n",
       "      <td>2017</td>\n",
       "      <td>1</td>\n",
       "      <td>1</td>\n",
       "      <td>6</td>\n",
       "    </tr>\n",
       "    <tr>\n",
       "      <th>19457</th>\n",
       "      <td>2017-01-01</td>\n",
       "      <td>17</td>\n",
       "      <td>81</td>\n",
       "      <td>2017</td>\n",
       "      <td>1</td>\n",
       "      <td>1</td>\n",
       "      <td>6</td>\n",
       "    </tr>\n",
       "    <tr>\n",
       "      <th>19458</th>\n",
       "      <td>2017-01-01</td>\n",
       "      <td>18</td>\n",
       "      <td>66</td>\n",
       "      <td>2017</td>\n",
       "      <td>1</td>\n",
       "      <td>1</td>\n",
       "      <td>6</td>\n",
       "    </tr>\n",
       "    <tr>\n",
       "      <th>19459</th>\n",
       "      <td>2017-01-01</td>\n",
       "      <td>19</td>\n",
       "      <td>150</td>\n",
       "      <td>2017</td>\n",
       "      <td>1</td>\n",
       "      <td>1</td>\n",
       "      <td>6</td>\n",
       "    </tr>\n",
       "    <tr>\n",
       "      <th>19460</th>\n",
       "      <td>2017-01-01</td>\n",
       "      <td>20</td>\n",
       "      <td>85</td>\n",
       "      <td>2017</td>\n",
       "      <td>1</td>\n",
       "      <td>1</td>\n",
       "      <td>6</td>\n",
       "    </tr>\n",
       "    <tr>\n",
       "      <th>19461</th>\n",
       "      <td>2017-01-01</td>\n",
       "      <td>23</td>\n",
       "      <td>62</td>\n",
       "      <td>2017</td>\n",
       "      <td>1</td>\n",
       "      <td>1</td>\n",
       "      <td>6</td>\n",
       "    </tr>\n",
       "    <tr>\n",
       "      <th>19462</th>\n",
       "      <td>2017-01-01</td>\n",
       "      <td>24</td>\n",
       "      <td>29</td>\n",
       "      <td>2017</td>\n",
       "      <td>1</td>\n",
       "      <td>1</td>\n",
       "      <td>6</td>\n",
       "    </tr>\n",
       "    <tr>\n",
       "      <th>19463</th>\n",
       "      <td>2017-01-01</td>\n",
       "      <td>25</td>\n",
       "      <td>9</td>\n",
       "      <td>2017</td>\n",
       "      <td>1</td>\n",
       "      <td>1</td>\n",
       "      <td>6</td>\n",
       "    </tr>\n",
       "    <tr>\n",
       "      <th>19464</th>\n",
       "      <td>2017-01-01</td>\n",
       "      <td>26</td>\n",
       "      <td>8</td>\n",
       "      <td>2017</td>\n",
       "      <td>1</td>\n",
       "      <td>1</td>\n",
       "      <td>6</td>\n",
       "    </tr>\n",
       "    <tr>\n",
       "      <th>19465</th>\n",
       "      <td>2017-01-01</td>\n",
       "      <td>28</td>\n",
       "      <td>25</td>\n",
       "      <td>2017</td>\n",
       "      <td>1</td>\n",
       "      <td>1</td>\n",
       "      <td>6</td>\n",
       "    </tr>\n",
       "    <tr>\n",
       "      <th>19466</th>\n",
       "      <td>2017-01-01</td>\n",
       "      <td>30</td>\n",
       "      <td>19</td>\n",
       "      <td>2017</td>\n",
       "      <td>1</td>\n",
       "      <td>1</td>\n",
       "      <td>6</td>\n",
       "    </tr>\n",
       "    <tr>\n",
       "      <th>19467</th>\n",
       "      <td>2017-01-01</td>\n",
       "      <td>32</td>\n",
       "      <td>50</td>\n",
       "      <td>2017</td>\n",
       "      <td>1</td>\n",
       "      <td>1</td>\n",
       "      <td>6</td>\n",
       "    </tr>\n",
       "    <tr>\n",
       "      <th>19468</th>\n",
       "      <td>2017-01-01</td>\n",
       "      <td>33</td>\n",
       "      <td>25</td>\n",
       "      <td>2017</td>\n",
       "      <td>1</td>\n",
       "      <td>1</td>\n",
       "      <td>6</td>\n",
       "    </tr>\n",
       "    <tr>\n",
       "      <th>19469</th>\n",
       "      <td>2017-01-01</td>\n",
       "      <td>34</td>\n",
       "      <td>35</td>\n",
       "      <td>2017</td>\n",
       "      <td>1</td>\n",
       "      <td>1</td>\n",
       "      <td>6</td>\n",
       "    </tr>\n",
       "    <tr>\n",
       "      <th>19470</th>\n",
       "      <td>2017-01-01</td>\n",
       "      <td>39</td>\n",
       "      <td>1</td>\n",
       "      <td>2017</td>\n",
       "      <td>1</td>\n",
       "      <td>1</td>\n",
       "      <td>6</td>\n",
       "    </tr>\n",
       "    <tr>\n",
       "      <th>19471</th>\n",
       "      <td>2017-01-01</td>\n",
       "      <td>40</td>\n",
       "      <td>75</td>\n",
       "      <td>2017</td>\n",
       "      <td>1</td>\n",
       "      <td>1</td>\n",
       "      <td>6</td>\n",
       "    </tr>\n",
       "    <tr>\n",
       "      <th>19472</th>\n",
       "      <td>2017-01-01</td>\n",
       "      <td>41</td>\n",
       "      <td>10</td>\n",
       "      <td>2017</td>\n",
       "      <td>1</td>\n",
       "      <td>1</td>\n",
       "      <td>6</td>\n",
       "    </tr>\n",
       "    <tr>\n",
       "      <th>19473</th>\n",
       "      <td>2017-01-01</td>\n",
       "      <td>42</td>\n",
       "      <td>52</td>\n",
       "      <td>2017</td>\n",
       "      <td>1</td>\n",
       "      <td>1</td>\n",
       "      <td>6</td>\n",
       "    </tr>\n",
       "    <tr>\n",
       "      <th>19474</th>\n",
       "      <td>2017-01-01</td>\n",
       "      <td>43</td>\n",
       "      <td>71</td>\n",
       "      <td>2017</td>\n",
       "      <td>1</td>\n",
       "      <td>1</td>\n",
       "      <td>6</td>\n",
       "    </tr>\n",
       "    <tr>\n",
       "      <th>19475</th>\n",
       "      <td>2017-01-01</td>\n",
       "      <td>44</td>\n",
       "      <td>65</td>\n",
       "      <td>2017</td>\n",
       "      <td>1</td>\n",
       "      <td>1</td>\n",
       "      <td>6</td>\n",
       "    </tr>\n",
       "    <tr>\n",
       "      <th>19476</th>\n",
       "      <td>2017-01-01</td>\n",
       "      <td>45</td>\n",
       "      <td>8</td>\n",
       "      <td>2017</td>\n",
       "      <td>1</td>\n",
       "      <td>1</td>\n",
       "      <td>6</td>\n",
       "    </tr>\n",
       "    <tr>\n",
       "      <th>...</th>\n",
       "      <td>...</td>\n",
       "      <td>...</td>\n",
       "      <td>...</td>\n",
       "      <td>...</td>\n",
       "      <td>...</td>\n",
       "      <td>...</td>\n",
       "      <td>...</td>\n",
       "    </tr>\n",
       "    <tr>\n",
       "      <th>96359</th>\n",
       "      <td>2019-12-28</td>\n",
       "      <td>32</td>\n",
       "      <td>1</td>\n",
       "      <td>2019</td>\n",
       "      <td>12</td>\n",
       "      <td>28</td>\n",
       "      <td>5</td>\n",
       "    </tr>\n",
       "    <tr>\n",
       "      <th>96360</th>\n",
       "      <td>2019-12-28</td>\n",
       "      <td>42</td>\n",
       "      <td>1</td>\n",
       "      <td>2019</td>\n",
       "      <td>12</td>\n",
       "      <td>28</td>\n",
       "      <td>5</td>\n",
       "    </tr>\n",
       "    <tr>\n",
       "      <th>96361</th>\n",
       "      <td>2019-12-28</td>\n",
       "      <td>44</td>\n",
       "      <td>1</td>\n",
       "      <td>2019</td>\n",
       "      <td>12</td>\n",
       "      <td>28</td>\n",
       "      <td>5</td>\n",
       "    </tr>\n",
       "    <tr>\n",
       "      <th>96362</th>\n",
       "      <td>2019-12-28</td>\n",
       "      <td>46</td>\n",
       "      <td>1</td>\n",
       "      <td>2019</td>\n",
       "      <td>12</td>\n",
       "      <td>28</td>\n",
       "      <td>5</td>\n",
       "    </tr>\n",
       "    <tr>\n",
       "      <th>96363</th>\n",
       "      <td>2019-12-28</td>\n",
       "      <td>67</td>\n",
       "      <td>2</td>\n",
       "      <td>2019</td>\n",
       "      <td>12</td>\n",
       "      <td>28</td>\n",
       "      <td>5</td>\n",
       "    </tr>\n",
       "    <tr>\n",
       "      <th>96364</th>\n",
       "      <td>2019-12-28</td>\n",
       "      <td>70</td>\n",
       "      <td>1</td>\n",
       "      <td>2019</td>\n",
       "      <td>12</td>\n",
       "      <td>28</td>\n",
       "      <td>5</td>\n",
       "    </tr>\n",
       "    <tr>\n",
       "      <th>96365</th>\n",
       "      <td>2019-12-28</td>\n",
       "      <td>104</td>\n",
       "      <td>1</td>\n",
       "      <td>2019</td>\n",
       "      <td>12</td>\n",
       "      <td>28</td>\n",
       "      <td>5</td>\n",
       "    </tr>\n",
       "    <tr>\n",
       "      <th>96366</th>\n",
       "      <td>2019-12-28</td>\n",
       "      <td>108</td>\n",
       "      <td>1</td>\n",
       "      <td>2019</td>\n",
       "      <td>12</td>\n",
       "      <td>28</td>\n",
       "      <td>5</td>\n",
       "    </tr>\n",
       "    <tr>\n",
       "      <th>96367</th>\n",
       "      <td>2019-12-28</td>\n",
       "      <td>113</td>\n",
       "      <td>2</td>\n",
       "      <td>2019</td>\n",
       "      <td>12</td>\n",
       "      <td>28</td>\n",
       "      <td>5</td>\n",
       "    </tr>\n",
       "    <tr>\n",
       "      <th>96368</th>\n",
       "      <td>2019-12-29</td>\n",
       "      <td>25</td>\n",
       "      <td>1</td>\n",
       "      <td>2019</td>\n",
       "      <td>12</td>\n",
       "      <td>29</td>\n",
       "      <td>6</td>\n",
       "    </tr>\n",
       "    <tr>\n",
       "      <th>96369</th>\n",
       "      <td>2019-12-29</td>\n",
       "      <td>34</td>\n",
       "      <td>1</td>\n",
       "      <td>2019</td>\n",
       "      <td>12</td>\n",
       "      <td>29</td>\n",
       "      <td>6</td>\n",
       "    </tr>\n",
       "    <tr>\n",
       "      <th>96370</th>\n",
       "      <td>2019-12-29</td>\n",
       "      <td>44</td>\n",
       "      <td>1</td>\n",
       "      <td>2019</td>\n",
       "      <td>12</td>\n",
       "      <td>29</td>\n",
       "      <td>6</td>\n",
       "    </tr>\n",
       "    <tr>\n",
       "      <th>96371</th>\n",
       "      <td>2019-12-29</td>\n",
       "      <td>73</td>\n",
       "      <td>2</td>\n",
       "      <td>2019</td>\n",
       "      <td>12</td>\n",
       "      <td>29</td>\n",
       "      <td>6</td>\n",
       "    </tr>\n",
       "    <tr>\n",
       "      <th>96372</th>\n",
       "      <td>2019-12-29</td>\n",
       "      <td>78</td>\n",
       "      <td>1</td>\n",
       "      <td>2019</td>\n",
       "      <td>12</td>\n",
       "      <td>29</td>\n",
       "      <td>6</td>\n",
       "    </tr>\n",
       "    <tr>\n",
       "      <th>96373</th>\n",
       "      <td>2019-12-29</td>\n",
       "      <td>107</td>\n",
       "      <td>1</td>\n",
       "      <td>2019</td>\n",
       "      <td>12</td>\n",
       "      <td>29</td>\n",
       "      <td>6</td>\n",
       "    </tr>\n",
       "    <tr>\n",
       "      <th>96374</th>\n",
       "      <td>2019-12-29</td>\n",
       "      <td>115</td>\n",
       "      <td>1</td>\n",
       "      <td>2019</td>\n",
       "      <td>12</td>\n",
       "      <td>29</td>\n",
       "      <td>6</td>\n",
       "    </tr>\n",
       "    <tr>\n",
       "      <th>96375</th>\n",
       "      <td>2019-12-30</td>\n",
       "      <td>13</td>\n",
       "      <td>1</td>\n",
       "      <td>2019</td>\n",
       "      <td>12</td>\n",
       "      <td>30</td>\n",
       "      <td>0</td>\n",
       "    </tr>\n",
       "    <tr>\n",
       "      <th>96376</th>\n",
       "      <td>2019-12-30</td>\n",
       "      <td>23</td>\n",
       "      <td>1</td>\n",
       "      <td>2019</td>\n",
       "      <td>12</td>\n",
       "      <td>30</td>\n",
       "      <td>0</td>\n",
       "    </tr>\n",
       "    <tr>\n",
       "      <th>96377</th>\n",
       "      <td>2019-12-30</td>\n",
       "      <td>44</td>\n",
       "      <td>2</td>\n",
       "      <td>2019</td>\n",
       "      <td>12</td>\n",
       "      <td>30</td>\n",
       "      <td>0</td>\n",
       "    </tr>\n",
       "    <tr>\n",
       "      <th>96378</th>\n",
       "      <td>2019-12-30</td>\n",
       "      <td>60</td>\n",
       "      <td>1</td>\n",
       "      <td>2019</td>\n",
       "      <td>12</td>\n",
       "      <td>30</td>\n",
       "      <td>0</td>\n",
       "    </tr>\n",
       "    <tr>\n",
       "      <th>96379</th>\n",
       "      <td>2019-12-30</td>\n",
       "      <td>72</td>\n",
       "      <td>1</td>\n",
       "      <td>2019</td>\n",
       "      <td>12</td>\n",
       "      <td>30</td>\n",
       "      <td>0</td>\n",
       "    </tr>\n",
       "    <tr>\n",
       "      <th>96380</th>\n",
       "      <td>2019-12-30</td>\n",
       "      <td>107</td>\n",
       "      <td>1</td>\n",
       "      <td>2019</td>\n",
       "      <td>12</td>\n",
       "      <td>30</td>\n",
       "      <td>0</td>\n",
       "    </tr>\n",
       "    <tr>\n",
       "      <th>96381</th>\n",
       "      <td>2019-12-31</td>\n",
       "      <td>0</td>\n",
       "      <td>1</td>\n",
       "      <td>2019</td>\n",
       "      <td>12</td>\n",
       "      <td>31</td>\n",
       "      <td>1</td>\n",
       "    </tr>\n",
       "    <tr>\n",
       "      <th>96382</th>\n",
       "      <td>2019-12-31</td>\n",
       "      <td>13</td>\n",
       "      <td>1</td>\n",
       "      <td>2019</td>\n",
       "      <td>12</td>\n",
       "      <td>31</td>\n",
       "      <td>1</td>\n",
       "    </tr>\n",
       "    <tr>\n",
       "      <th>96383</th>\n",
       "      <td>2019-12-31</td>\n",
       "      <td>42</td>\n",
       "      <td>1</td>\n",
       "      <td>2019</td>\n",
       "      <td>12</td>\n",
       "      <td>31</td>\n",
       "      <td>1</td>\n",
       "    </tr>\n",
       "    <tr>\n",
       "      <th>96384</th>\n",
       "      <td>2019-12-31</td>\n",
       "      <td>45</td>\n",
       "      <td>2</td>\n",
       "      <td>2019</td>\n",
       "      <td>12</td>\n",
       "      <td>31</td>\n",
       "      <td>1</td>\n",
       "    </tr>\n",
       "    <tr>\n",
       "      <th>96385</th>\n",
       "      <td>2019-12-31</td>\n",
       "      <td>52</td>\n",
       "      <td>1</td>\n",
       "      <td>2019</td>\n",
       "      <td>12</td>\n",
       "      <td>31</td>\n",
       "      <td>1</td>\n",
       "    </tr>\n",
       "    <tr>\n",
       "      <th>96386</th>\n",
       "      <td>2019-12-31</td>\n",
       "      <td>72</td>\n",
       "      <td>1</td>\n",
       "      <td>2019</td>\n",
       "      <td>12</td>\n",
       "      <td>31</td>\n",
       "      <td>1</td>\n",
       "    </tr>\n",
       "    <tr>\n",
       "      <th>96387</th>\n",
       "      <td>2019-12-31</td>\n",
       "      <td>75</td>\n",
       "      <td>1</td>\n",
       "      <td>2019</td>\n",
       "      <td>12</td>\n",
       "      <td>31</td>\n",
       "      <td>1</td>\n",
       "    </tr>\n",
       "    <tr>\n",
       "      <th>96388</th>\n",
       "      <td>2019-12-31</td>\n",
       "      <td>84</td>\n",
       "      <td>1</td>\n",
       "      <td>2019</td>\n",
       "      <td>12</td>\n",
       "      <td>31</td>\n",
       "      <td>1</td>\n",
       "    </tr>\n",
       "  </tbody>\n",
       "</table>\n",
       "<p>76942 rows × 7 columns</p>\n",
       "</div>"
      ],
      "text/plain": [
       "      Issue Date  Violation Precinct  N_violations  year  month  day  weekday\n",
       "19447 2017-01-01                   0          1235  2017      1    1        6\n",
       "19448 2017-01-01                   1           119  2017      1    1        6\n",
       "19449 2017-01-01                   5            43  2017      1    1        6\n",
       "19450 2017-01-01                   6            16  2017      1    1        6\n",
       "19451 2017-01-01                   7            15  2017      1    1        6\n",
       "19452 2017-01-01                   8             1  2017      1    1        6\n",
       "19453 2017-01-01                   9            10  2017      1    1        6\n",
       "19454 2017-01-01                  10            16  2017      1    1        6\n",
       "19455 2017-01-01                  13            24  2017      1    1        6\n",
       "19456 2017-01-01                  14            82  2017      1    1        6\n",
       "19457 2017-01-01                  17            81  2017      1    1        6\n",
       "19458 2017-01-01                  18            66  2017      1    1        6\n",
       "19459 2017-01-01                  19           150  2017      1    1        6\n",
       "19460 2017-01-01                  20            85  2017      1    1        6\n",
       "19461 2017-01-01                  23            62  2017      1    1        6\n",
       "19462 2017-01-01                  24            29  2017      1    1        6\n",
       "19463 2017-01-01                  25             9  2017      1    1        6\n",
       "19464 2017-01-01                  26             8  2017      1    1        6\n",
       "19465 2017-01-01                  28            25  2017      1    1        6\n",
       "19466 2017-01-01                  30            19  2017      1    1        6\n",
       "19467 2017-01-01                  32            50  2017      1    1        6\n",
       "19468 2017-01-01                  33            25  2017      1    1        6\n",
       "19469 2017-01-01                  34            35  2017      1    1        6\n",
       "19470 2017-01-01                  39             1  2017      1    1        6\n",
       "19471 2017-01-01                  40            75  2017      1    1        6\n",
       "19472 2017-01-01                  41            10  2017      1    1        6\n",
       "19473 2017-01-01                  42            52  2017      1    1        6\n",
       "19474 2017-01-01                  43            71  2017      1    1        6\n",
       "19475 2017-01-01                  44            65  2017      1    1        6\n",
       "19476 2017-01-01                  45             8  2017      1    1        6\n",
       "...          ...                 ...           ...   ...    ...  ...      ...\n",
       "96359 2019-12-28                  32             1  2019     12   28        5\n",
       "96360 2019-12-28                  42             1  2019     12   28        5\n",
       "96361 2019-12-28                  44             1  2019     12   28        5\n",
       "96362 2019-12-28                  46             1  2019     12   28        5\n",
       "96363 2019-12-28                  67             2  2019     12   28        5\n",
       "96364 2019-12-28                  70             1  2019     12   28        5\n",
       "96365 2019-12-28                 104             1  2019     12   28        5\n",
       "96366 2019-12-28                 108             1  2019     12   28        5\n",
       "96367 2019-12-28                 113             2  2019     12   28        5\n",
       "96368 2019-12-29                  25             1  2019     12   29        6\n",
       "96369 2019-12-29                  34             1  2019     12   29        6\n",
       "96370 2019-12-29                  44             1  2019     12   29        6\n",
       "96371 2019-12-29                  73             2  2019     12   29        6\n",
       "96372 2019-12-29                  78             1  2019     12   29        6\n",
       "96373 2019-12-29                 107             1  2019     12   29        6\n",
       "96374 2019-12-29                 115             1  2019     12   29        6\n",
       "96375 2019-12-30                  13             1  2019     12   30        0\n",
       "96376 2019-12-30                  23             1  2019     12   30        0\n",
       "96377 2019-12-30                  44             2  2019     12   30        0\n",
       "96378 2019-12-30                  60             1  2019     12   30        0\n",
       "96379 2019-12-30                  72             1  2019     12   30        0\n",
       "96380 2019-12-30                 107             1  2019     12   30        0\n",
       "96381 2019-12-31                   0             1  2019     12   31        1\n",
       "96382 2019-12-31                  13             1  2019     12   31        1\n",
       "96383 2019-12-31                  42             1  2019     12   31        1\n",
       "96384 2019-12-31                  45             2  2019     12   31        1\n",
       "96385 2019-12-31                  52             1  2019     12   31        1\n",
       "96386 2019-12-31                  72             1  2019     12   31        1\n",
       "96387 2019-12-31                  75             1  2019     12   31        1\n",
       "96388 2019-12-31                  84             1  2019     12   31        1\n",
       "\n",
       "[76942 rows x 7 columns]"
      ]
     },
     "execution_count": 42,
     "metadata": {},
     "output_type": "execute_result"
    }
   ],
   "source": [
    "dfcombined4.sort_values(by=['Issue Date', 'Violation Precinct'])"
   ]
  },
  {
   "cell_type": "code",
   "execution_count": 134,
   "metadata": {},
   "outputs": [
    {
     "name": "stdout",
     "output_type": "stream",
     "text": [
      "<class 'pandas.core.frame.DataFrame'>\n",
      "Int64Index: 70751 entries, 19448 to 96388\n",
      "Data columns (total 8 columns):\n",
      "Issue Date            70751 non-null datetime64[ns]\n",
      "Violation Precinct    70751 non-null int64\n",
      "N_violations          70751 non-null int64\n",
      "year                  70751 non-null int64\n",
      "month                 70751 non-null int64\n",
      "day                   70751 non-null int64\n",
      "weekday               70751 non-null int64\n",
      "Borough               70751 non-null object\n",
      "dtypes: datetime64[ns](1), int64(6), object(1)\n",
      "memory usage: 4.9+ MB\n"
     ]
    }
   ],
   "source": [
    "dfcombined4.info()"
   ]
  },
  {
   "cell_type": "markdown",
   "metadata": {},
   "source": [
    "#### Defining police precincts"
   ]
  },
  {
   "cell_type": "code",
   "execution_count": 47,
   "metadata": {},
   "outputs": [],
   "source": [
    "precincts_on_map = [1,5,6,7,9,10,13,14,17,18,19,20,22,23,24,25,26,28,30,\n",
    "                    32,33,34,40,41,42,43,44,45,46,47,48,49,50,52,60,61,62,63,\n",
    "                    66,67,68,69,70,71,72,73,75,76,77,78,79,81,83,84,88,90,94,100,\n",
    "                    101,102,103,104,105,106,107,108,109,110,111,112,113,114,115,120,121,122,123]\n",
    "#Manhattan precincts are those from 1 to 34"
   ]
  },
  {
   "cell_type": "code",
   "execution_count": 50,
   "metadata": {},
   "outputs": [],
   "source": [
    "dfcombined4 = dfcombined4[dfcombined4['Violation Precinct'].isin(precincts_on_map)]"
   ]
  },
  {
   "cell_type": "code",
   "execution_count": 66,
   "metadata": {},
   "outputs": [],
   "source": [
    "def f(row):\n",
    "    if row['Violation Precinct'] < 35:\n",
    "        return \"Manhattan\"\n",
    "    else:\n",
    "        return \"Not Manhattan\""
   ]
  },
  {
   "cell_type": "code",
   "execution_count": 67,
   "metadata": {},
   "outputs": [],
   "source": [
    "dfcombined4['Borough'] = dfcombined4.apply(f, axis=1)"
   ]
  },
  {
   "cell_type": "code",
   "execution_count": 68,
   "metadata": {},
   "outputs": [
    {
     "data": {
      "text/html": [
       "<div>\n",
       "<style scoped>\n",
       "    .dataframe tbody tr th:only-of-type {\n",
       "        vertical-align: middle;\n",
       "    }\n",
       "\n",
       "    .dataframe tbody tr th {\n",
       "        vertical-align: top;\n",
       "    }\n",
       "\n",
       "    .dataframe thead th {\n",
       "        text-align: right;\n",
       "    }\n",
       "</style>\n",
       "<table border=\"1\" class=\"dataframe\">\n",
       "  <thead>\n",
       "    <tr style=\"text-align: right;\">\n",
       "      <th></th>\n",
       "      <th>Issue Date</th>\n",
       "      <th>Violation Precinct</th>\n",
       "      <th>N_violations</th>\n",
       "      <th>year</th>\n",
       "      <th>month</th>\n",
       "      <th>day</th>\n",
       "      <th>weekday</th>\n",
       "      <th>Borough</th>\n",
       "    </tr>\n",
       "  </thead>\n",
       "  <tbody>\n",
       "    <tr>\n",
       "      <th>19448</th>\n",
       "      <td>2017-01-01</td>\n",
       "      <td>1</td>\n",
       "      <td>119</td>\n",
       "      <td>2017</td>\n",
       "      <td>1</td>\n",
       "      <td>1</td>\n",
       "      <td>6</td>\n",
       "      <td>Manhattan</td>\n",
       "    </tr>\n",
       "    <tr>\n",
       "      <th>19449</th>\n",
       "      <td>2017-01-01</td>\n",
       "      <td>5</td>\n",
       "      <td>43</td>\n",
       "      <td>2017</td>\n",
       "      <td>1</td>\n",
       "      <td>1</td>\n",
       "      <td>6</td>\n",
       "      <td>Manhattan</td>\n",
       "    </tr>\n",
       "    <tr>\n",
       "      <th>19450</th>\n",
       "      <td>2017-01-01</td>\n",
       "      <td>6</td>\n",
       "      <td>16</td>\n",
       "      <td>2017</td>\n",
       "      <td>1</td>\n",
       "      <td>1</td>\n",
       "      <td>6</td>\n",
       "      <td>Manhattan</td>\n",
       "    </tr>\n",
       "    <tr>\n",
       "      <th>19451</th>\n",
       "      <td>2017-01-01</td>\n",
       "      <td>7</td>\n",
       "      <td>15</td>\n",
       "      <td>2017</td>\n",
       "      <td>1</td>\n",
       "      <td>1</td>\n",
       "      <td>6</td>\n",
       "      <td>Manhattan</td>\n",
       "    </tr>\n",
       "    <tr>\n",
       "      <th>19453</th>\n",
       "      <td>2017-01-01</td>\n",
       "      <td>9</td>\n",
       "      <td>10</td>\n",
       "      <td>2017</td>\n",
       "      <td>1</td>\n",
       "      <td>1</td>\n",
       "      <td>6</td>\n",
       "      <td>Manhattan</td>\n",
       "    </tr>\n",
       "  </tbody>\n",
       "</table>\n",
       "</div>"
      ],
      "text/plain": [
       "      Issue Date  Violation Precinct  N_violations  year  month  day  weekday  \\\n",
       "19448 2017-01-01                   1           119  2017      1    1        6   \n",
       "19449 2017-01-01                   5            43  2017      1    1        6   \n",
       "19450 2017-01-01                   6            16  2017      1    1        6   \n",
       "19451 2017-01-01                   7            15  2017      1    1        6   \n",
       "19453 2017-01-01                   9            10  2017      1    1        6   \n",
       "\n",
       "         Borough  \n",
       "19448  Manhattan  \n",
       "19449  Manhattan  \n",
       "19450  Manhattan  \n",
       "19451  Manhattan  \n",
       "19453  Manhattan  "
      ]
     },
     "execution_count": 68,
     "metadata": {},
     "output_type": "execute_result"
    }
   ],
   "source": [
    "dfcombined4.head()"
   ]
  },
  {
   "cell_type": "code",
   "execution_count": 87,
   "metadata": {},
   "outputs": [],
   "source": [
    "dfcombined4.to_csv(r'C:\\Users\\38150\\Desktop\\CapstoneData\\AggTicketData.csv')"
   ]
  },
  {
   "cell_type": "markdown",
   "metadata": {},
   "source": [
    "#### Add in weather"
   ]
  },
  {
   "cell_type": "code",
   "execution_count": 98,
   "metadata": {},
   "outputs": [],
   "source": [
    "weather = pd.read_csv (r'C:\\Users\\38150\\Desktop\\CapstoneData\\weather.csv', low_memory=False)"
   ]
  },
  {
   "cell_type": "code",
   "execution_count": 103,
   "metadata": {},
   "outputs": [
    {
     "data": {
      "text/html": [
       "<div>\n",
       "<style scoped>\n",
       "    .dataframe tbody tr th:only-of-type {\n",
       "        vertical-align: middle;\n",
       "    }\n",
       "\n",
       "    .dataframe tbody tr th {\n",
       "        vertical-align: top;\n",
       "    }\n",
       "\n",
       "    .dataframe thead th {\n",
       "        text-align: right;\n",
       "    }\n",
       "</style>\n",
       "<table border=\"1\" class=\"dataframe\">\n",
       "  <thead>\n",
       "    <tr style=\"text-align: right;\">\n",
       "      <th></th>\n",
       "      <th>STATION</th>\n",
       "      <th>NAME</th>\n",
       "      <th>DATE</th>\n",
       "      <th>PRCP</th>\n",
       "      <th>SNOW</th>\n",
       "      <th>SNWD</th>\n",
       "      <th>TAVG</th>\n",
       "      <th>TMAX</th>\n",
       "      <th>TMIN</th>\n",
       "    </tr>\n",
       "  </thead>\n",
       "  <tbody>\n",
       "    <tr>\n",
       "      <th>0</th>\n",
       "      <td>USW00094728</td>\n",
       "      <td>NY CITY CENTRAL PARK, NY US</td>\n",
       "      <td>2003-01-01</td>\n",
       "      <td>1.52</td>\n",
       "      <td>0.0</td>\n",
       "      <td>NaN</td>\n",
       "      <td>43.0</td>\n",
       "      <td>50</td>\n",
       "      <td>36</td>\n",
       "    </tr>\n",
       "    <tr>\n",
       "      <th>1</th>\n",
       "      <td>USW00094728</td>\n",
       "      <td>NY CITY CENTRAL PARK, NY US</td>\n",
       "      <td>2003-01-02</td>\n",
       "      <td>0.07</td>\n",
       "      <td>0.0</td>\n",
       "      <td>NaN</td>\n",
       "      <td>33.0</td>\n",
       "      <td>37</td>\n",
       "      <td>29</td>\n",
       "    </tr>\n",
       "    <tr>\n",
       "      <th>2</th>\n",
       "      <td>USW00094728</td>\n",
       "      <td>NY CITY CENTRAL PARK, NY US</td>\n",
       "      <td>2003-01-03</td>\n",
       "      <td>0.41</td>\n",
       "      <td>0.0</td>\n",
       "      <td>NaN</td>\n",
       "      <td>32.0</td>\n",
       "      <td>34</td>\n",
       "      <td>29</td>\n",
       "    </tr>\n",
       "    <tr>\n",
       "      <th>3</th>\n",
       "      <td>USW00094728</td>\n",
       "      <td>NY CITY CENTRAL PARK, NY US</td>\n",
       "      <td>2003-01-04</td>\n",
       "      <td>0.03</td>\n",
       "      <td>0.0</td>\n",
       "      <td>0.0</td>\n",
       "      <td>34.0</td>\n",
       "      <td>36</td>\n",
       "      <td>31</td>\n",
       "    </tr>\n",
       "    <tr>\n",
       "      <th>4</th>\n",
       "      <td>USW00094728</td>\n",
       "      <td>NY CITY CENTRAL PARK, NY US</td>\n",
       "      <td>2003-01-05</td>\n",
       "      <td>0.09</td>\n",
       "      <td>0.3</td>\n",
       "      <td>NaN</td>\n",
       "      <td>34.0</td>\n",
       "      <td>36</td>\n",
       "      <td>32</td>\n",
       "    </tr>\n",
       "  </tbody>\n",
       "</table>\n",
       "</div>"
      ],
      "text/plain": [
       "       STATION                         NAME       DATE  PRCP  SNOW  SNWD  \\\n",
       "0  USW00094728  NY CITY CENTRAL PARK, NY US 2003-01-01  1.52   0.0   NaN   \n",
       "1  USW00094728  NY CITY CENTRAL PARK, NY US 2003-01-02  0.07   0.0   NaN   \n",
       "2  USW00094728  NY CITY CENTRAL PARK, NY US 2003-01-03  0.41   0.0   NaN   \n",
       "3  USW00094728  NY CITY CENTRAL PARK, NY US 2003-01-04  0.03   0.0   0.0   \n",
       "4  USW00094728  NY CITY CENTRAL PARK, NY US 2003-01-05  0.09   0.3   NaN   \n",
       "\n",
       "   TAVG  TMAX  TMIN  \n",
       "0  43.0    50    36  \n",
       "1  33.0    37    29  \n",
       "2  32.0    34    29  \n",
       "3  34.0    36    31  \n",
       "4  34.0    36    32  "
      ]
     },
     "execution_count": 103,
     "metadata": {},
     "output_type": "execute_result"
    }
   ],
   "source": [
    "weather.head()"
   ]
  },
  {
   "cell_type": "code",
   "execution_count": 100,
   "metadata": {},
   "outputs": [],
   "source": [
    "weather['DATE'] =  pd.to_datetime(weather['DATE'],infer_datetime_format=True, format='%Y%m%d')"
   ]
  },
  {
   "cell_type": "code",
   "execution_count": 104,
   "metadata": {},
   "outputs": [],
   "source": [
    "dfcombined5 = dfcombined4.merge(weather, left_on='Issue Date', right_on='DATE')"
   ]
  },
  {
   "cell_type": "markdown",
   "metadata": {},
   "source": [
    "#### Add in special events (based on permit data)"
   ]
  },
  {
   "cell_type": "code",
   "execution_count": 108,
   "metadata": {},
   "outputs": [],
   "source": [
    "NYC_events = pd.read_csv (r'C:\\Users\\38150\\Desktop\\CapstoneData\\NYC_Permitted_Event_Information_-_Historical.csv', low_memory=False)"
   ]
  },
  {
   "cell_type": "code",
   "execution_count": 109,
   "metadata": {},
   "outputs": [
    {
     "data": {
      "text/plain": [
       "(3594100, 12)"
      ]
     },
     "execution_count": 109,
     "metadata": {},
     "output_type": "execute_result"
    }
   ],
   "source": [
    "NYC_events.shape"
   ]
  },
  {
   "cell_type": "code",
   "execution_count": 119,
   "metadata": {},
   "outputs": [],
   "source": [
    "NYC_events.rename(columns={'Event ID':'EventID'}, inplace=True)"
   ]
  },
  {
   "cell_type": "code",
   "execution_count": 133,
   "metadata": {},
   "outputs": [
    {
     "name": "stdout",
     "output_type": "stream",
     "text": [
      "<class 'pandas.core.frame.DataFrame'>\n",
      "Int64Index: 120386 entries, 0 to 3594085\n",
      "Data columns (total 12 columns):\n",
      "EventID                120386 non-null float64\n",
      "Event Name             120386 non-null object\n",
      "Start Date/Time        120385 non-null datetime64[ns]\n",
      "End Date/Time          120385 non-null object\n",
      "Event Agency           120385 non-null object\n",
      "Event Type             120385 non-null object\n",
      "Event Borough          120367 non-null object\n",
      "Event Location         120373 non-null object\n",
      "Event Street Side      45747 non-null object\n",
      "Street Closure Type    46719 non-null object\n",
      "Community Board        116503 non-null object\n",
      "Police Precinct        118987 non-null object\n",
      "dtypes: datetime64[ns](1), float64(1), object(10)\n",
      "memory usage: 11.9+ MB\n"
     ]
    }
   ],
   "source": [
    "NYC_events.info()"
   ]
  },
  {
   "cell_type": "code",
   "execution_count": 125,
   "metadata": {},
   "outputs": [],
   "source": [
    "NYC_events.drop_duplicates(subset =\"EventID\", keep = False, inplace = True) "
   ]
  },
  {
   "cell_type": "code",
   "execution_count": 131,
   "metadata": {},
   "outputs": [],
   "source": [
    "NYC_events['Start Date/Time'] =  pd.to_datetime(NYC_events['Start Date/Time'])"
   ]
  },
  {
   "cell_type": "code",
   "execution_count": 137,
   "metadata": {},
   "outputs": [],
   "source": [
    "NYC_events['Start Date/Time'] = NYC_events['Start Date/Time'].dt.floor('d')"
   ]
  },
  {
   "cell_type": "code",
   "execution_count": 141,
   "metadata": {},
   "outputs": [],
   "source": [
    "NYC_events['year'] = NYC_events['Start Date/Time'].dt.year"
   ]
  },
  {
   "cell_type": "code",
   "execution_count": 143,
   "metadata": {},
   "outputs": [],
   "source": [
    "NYC_events2 = NYC_events[(NYC_events.year == 2017) | (NYC_events.year == 2018) | (NYC_events.year == 2019)]"
   ]
  },
  {
   "cell_type": "code",
   "execution_count": 149,
   "metadata": {},
   "outputs": [
    {
     "data": {
      "text/plain": [
       "Full Street Closure                2723\n",
       "Curb Lane Only                      856\n",
       "Sidewalk and Curb Lane Closure      307\n",
       "Partial Sidewalk Closure            250\n",
       "Pedestrian Plaza                    199\n",
       "Sidewalk and Street Closure         190\n",
       "Full Sidewalk Closure                45\n",
       "Name: Street Closure Type, dtype: int64"
      ]
     },
     "execution_count": 149,
     "metadata": {},
     "output_type": "execute_result"
    }
   ],
   "source": [
    "NYC_events2['Street Closure Type'].value_counts()"
   ]
  },
  {
   "cell_type": "code",
   "execution_count": 150,
   "metadata": {},
   "outputs": [
    {
     "data": {
      "text/html": [
       "<div>\n",
       "<style scoped>\n",
       "    .dataframe tbody tr th:only-of-type {\n",
       "        vertical-align: middle;\n",
       "    }\n",
       "\n",
       "    .dataframe tbody tr th {\n",
       "        vertical-align: top;\n",
       "    }\n",
       "\n",
       "    .dataframe thead th {\n",
       "        text-align: right;\n",
       "    }\n",
       "</style>\n",
       "<table border=\"1\" class=\"dataframe\">\n",
       "  <thead>\n",
       "    <tr style=\"text-align: right;\">\n",
       "      <th></th>\n",
       "      <th>EventID</th>\n",
       "      <th>Event Name</th>\n",
       "      <th>Start Date/Time</th>\n",
       "      <th>End Date/Time</th>\n",
       "      <th>Event Agency</th>\n",
       "      <th>Event Type</th>\n",
       "      <th>Event Borough</th>\n",
       "      <th>Event Location</th>\n",
       "      <th>Event Street Side</th>\n",
       "      <th>Street Closure Type</th>\n",
       "      <th>Community Board</th>\n",
       "      <th>Police Precinct</th>\n",
       "      <th>year</th>\n",
       "    </tr>\n",
       "  </thead>\n",
       "  <tbody>\n",
       "    <tr>\n",
       "      <th>28</th>\n",
       "      <td>356356.0</td>\n",
       "      <td>Celebration</td>\n",
       "      <td>2017-07-08</td>\n",
       "      <td>07/08/2017 07:00:00 PM</td>\n",
       "      <td>Parks Department</td>\n",
       "      <td>Special Event</td>\n",
       "      <td>Brooklyn</td>\n",
       "      <td>Canarsie Park: Lawn Area E 93rd Street and Ski...</td>\n",
       "      <td>NaN</td>\n",
       "      <td>NaN</td>\n",
       "      <td>18,</td>\n",
       "      <td>69,</td>\n",
       "      <td>2017.0</td>\n",
       "    </tr>\n",
       "    <tr>\n",
       "      <th>40</th>\n",
       "      <td>357510.0</td>\n",
       "      <td>Class Picnic</td>\n",
       "      <td>2017-06-21</td>\n",
       "      <td>06/21/2017 08:00:00 PM</td>\n",
       "      <td>Hudson River Park Trust</td>\n",
       "      <td>Special Event</td>\n",
       "      <td>Manhattan</td>\n",
       "      <td>HRPT Piers: Pier 45</td>\n",
       "      <td>NaN</td>\n",
       "      <td>NaN</td>\n",
       "      <td>2,</td>\n",
       "      <td>6,</td>\n",
       "      <td>2017.0</td>\n",
       "    </tr>\n",
       "  </tbody>\n",
       "</table>\n",
       "</div>"
      ],
      "text/plain": [
       "     EventID    Event Name Start Date/Time           End Date/Time  \\\n",
       "28  356356.0  Celebration       2017-07-08  07/08/2017 07:00:00 PM   \n",
       "40  357510.0  Class Picnic      2017-06-21  06/21/2017 08:00:00 PM   \n",
       "\n",
       "               Event Agency     Event Type Event Borough  \\\n",
       "28         Parks Department  Special Event      Brooklyn   \n",
       "40  Hudson River Park Trust  Special Event     Manhattan   \n",
       "\n",
       "                                       Event Location Event Street Side  \\\n",
       "28  Canarsie Park: Lawn Area E 93rd Street and Ski...               NaN   \n",
       "40                             HRPT Piers: Pier 45                  NaN   \n",
       "\n",
       "   Street Closure Type Community Board Police Precinct    year  \n",
       "28                 NaN            18,             69,   2017.0  \n",
       "40                 NaN             2,              6,   2017.0  "
      ]
     },
     "execution_count": 150,
     "metadata": {},
     "output_type": "execute_result"
    }
   ],
   "source": [
    "NYC_events2.head(2)"
   ]
  },
  {
   "cell_type": "code",
   "execution_count": 153,
   "metadata": {},
   "outputs": [],
   "source": [
    "def tidy_split(df, column, sep='|', keep=False):\n",
    "    indexes = list()\n",
    "    new_values = list()\n",
    "    df = df.dropna(subset=[column])\n",
    "    for i, presplit in enumerate(df[column].astype(str)):\n",
    "        values = presplit.split(sep)\n",
    "        if keep and len(values) > 1:\n",
    "            indexes.append(i)\n",
    "            new_values.append(presplit)\n",
    "        for value in values:\n",
    "            indexes.append(i)\n",
    "            new_values.append(value)\n",
    "    new_df = df.iloc[indexes, :].copy()\n",
    "    new_df[column] = new_values\n",
    "    return new_df"
   ]
  },
  {
   "cell_type": "code",
   "execution_count": 155,
   "metadata": {},
   "outputs": [],
   "source": [
    "NYC_events3 = tidy_split(NYC_events2, 'Police Precinct', sep=',')"
   ]
  },
  {
   "cell_type": "code",
   "execution_count": 172,
   "metadata": {},
   "outputs": [],
   "source": [
    "NYC_events3.rename(columns={'Police Precinct':'PolicePrecinct'}, inplace=True)"
   ]
  },
  {
   "cell_type": "code",
   "execution_count": 174,
   "metadata": {},
   "outputs": [],
   "source": [
    "NYC_events3.PolicePrecinct = pd.to_numeric(NYC_events3.PolicePrecinct, errors='coerce').fillna(0).astype(np.int64)"
   ]
  },
  {
   "cell_type": "code",
   "execution_count": 177,
   "metadata": {},
   "outputs": [],
   "source": [
    "NYC_events4 = NYC_events3[NYC_events3['PolicePrecinct'].isin(precincts_on_map)]"
   ]
  },
  {
   "cell_type": "code",
   "execution_count": 184,
   "metadata": {},
   "outputs": [],
   "source": [
    "NYC_events5 = NYC_events4.groupby(['Start Date/Time', 'PolicePrecinct', \n",
    "                                   'Street Closure Type']).size().reset_index(name='N_events')"
   ]
  },
  {
   "cell_type": "code",
   "execution_count": 192,
   "metadata": {},
   "outputs": [],
   "source": [
    "NYC_events6 = NYC_events5.pivot_table('N_events', ['Start Date/Time', 'PolicePrecinct'], 'Street Closure Type')"
   ]
  },
  {
   "cell_type": "code",
   "execution_count": 196,
   "metadata": {},
   "outputs": [],
   "source": [
    "NYC_events6.reset_index(drop=False, inplace=True )"
   ]
  },
  {
   "cell_type": "code",
   "execution_count": 201,
   "metadata": {},
   "outputs": [],
   "source": [
    "dfcombined6 = pd.merge(dfcombined5, NYC_events6,  how='left', left_on=['Issue Date','Violation Precinct'], \n",
    "                       right_on = ['Start Date/Time','PolicePrecinct'])"
   ]
  },
  {
   "cell_type": "code",
   "execution_count": 204,
   "metadata": {},
   "outputs": [
    {
     "data": {
      "text/plain": [
       "(55731, 26)"
      ]
     },
     "execution_count": 204,
     "metadata": {},
     "output_type": "execute_result"
    }
   ],
   "source": [
    "dfcombined6.shape"
   ]
  },
  {
   "cell_type": "markdown",
   "metadata": {},
   "source": [
    "#### Add in federal holidays"
   ]
  },
  {
   "cell_type": "code",
   "execution_count": 206,
   "metadata": {},
   "outputs": [],
   "source": [
    "Holidays = pd.read_csv (r'C:\\Users\\38150\\Desktop\\CapstoneData\\FederalHolidays.csv', low_memory=False)"
   ]
  },
  {
   "cell_type": "code",
   "execution_count": 210,
   "metadata": {},
   "outputs": [],
   "source": [
    "Holidays['FederalHoliday'] =  pd.to_datetime(Holidays['FederalHoliday'])"
   ]
  },
  {
   "cell_type": "code",
   "execution_count": 214,
   "metadata": {},
   "outputs": [],
   "source": [
    "Holidays['FedHoliday'] = 1"
   ]
  },
  {
   "cell_type": "code",
   "execution_count": 281,
   "metadata": {},
   "outputs": [],
   "source": [
    "dfcombined7 = pd.merge(dfcombined6, Holidays,  how='left', left_on=['Issue Date'], \n",
    "                       right_on = ['FederalHoliday'])"
   ]
  },
  {
   "cell_type": "code",
   "execution_count": 282,
   "metadata": {},
   "outputs": [],
   "source": [
    "dfcombined7.rename(columns={'Full Sidewalk Closure ':'FullSidewalkClosure', 'Full Street Closure ':'FullStreetClosure',\n",
    "                            'Partial Sidewalk Closure ':'PartialSidewalkClosure',\n",
    "                           'Pedestrian Plaza ':'PedestrianPlaza', \n",
    "                            'Sidewalk and Curb Lane Closure ':'SidewalkandCurbLaneClosure',\n",
    "                           'Sidewalk and Street Closure ':'SidewalkandStreetClosure'}, inplace=True)"
   ]
  },
  {
   "cell_type": "code",
   "execution_count": 311,
   "metadata": {},
   "outputs": [],
   "source": [
    "dfcombined8 = dfcombined7.drop(columns=['STATION', 'NAME', 'DATE', 'Start Date/Time', 'PolicePrecinct', 'FederalHoliday'])"
   ]
  },
  {
   "cell_type": "code",
   "execution_count": 312,
   "metadata": {},
   "outputs": [
    {
     "name": "stdout",
     "output_type": "stream",
     "text": [
      "Index(['Issue Date', 'Violation Precinct', 'N_violations', 'year', 'month',\n",
      "       'day', 'weekday', 'Borough', 'PRCP', 'SNOW', 'SNWD', 'TAVG', 'TMAX',\n",
      "       'TMIN', 'Curb Lane Only', 'FullSidewalkClosure', 'FullStreetClosure',\n",
      "       'PartialSidewalkClosure', 'PedestrianPlaza',\n",
      "       'SidewalkandCurbLaneClosure', 'SidewalkandStreetClosure', 'FedHoliday'],\n",
      "      dtype='object')\n"
     ]
    }
   ],
   "source": [
    "print(dfcombined8.columns)"
   ]
  },
  {
   "cell_type": "code",
   "execution_count": 316,
   "metadata": {},
   "outputs": [],
   "source": [
    "dfcombined9 = dfcombined8.fillna(0)"
   ]
  },
  {
   "cell_type": "code",
   "execution_count": 317,
   "metadata": {},
   "outputs": [],
   "source": [
    "dfcombined9['Total_Events'] = (dfcombined9['Curb Lane Only'] + dfcombined9['FullSidewalkClosure'] \n",
    "                               + dfcombined9['FullStreetClosure'] + dfcombined9['PartialSidewalkClosure'] \n",
    "                               + dfcombined9['PedestrianPlaza'] + dfcombined9['SidewalkandCurbLaneClosure']\n",
    "                               + dfcombined9['SidewalkandStreetClosure'])"
   ]
  },
  {
   "cell_type": "code",
   "execution_count": 319,
   "metadata": {},
   "outputs": [],
   "source": [
    "dfcombined9.to_csv(r'C:\\Users\\38150\\Desktop\\CapstoneData\\TicketsDataClean.csv')"
   ]
  },
  {
   "cell_type": "markdown",
   "metadata": {},
   "source": [
    "# Cleaned data starting here"
   ]
  },
  {
   "cell_type": "code",
   "execution_count": 2,
   "metadata": {},
   "outputs": [],
   "source": [
    "dfcombined9 = pd.read_csv (r'C:\\Users\\Elliot\\Desktop\\NYC_Parking\\TicketsDataClean.csv', low_memory=False)\n"
   ]
  },
  {
   "cell_type": "code",
   "execution_count": 202,
   "metadata": {},
   "outputs": [
    {
     "data": {
      "text/html": [
       "<div>\n",
       "<style scoped>\n",
       "    .dataframe tbody tr th:only-of-type {\n",
       "        vertical-align: middle;\n",
       "    }\n",
       "\n",
       "    .dataframe tbody tr th {\n",
       "        vertical-align: top;\n",
       "    }\n",
       "\n",
       "    .dataframe thead th {\n",
       "        text-align: right;\n",
       "    }\n",
       "</style>\n",
       "<table border=\"1\" class=\"dataframe\">\n",
       "  <thead>\n",
       "    <tr style=\"text-align: right;\">\n",
       "      <th></th>\n",
       "      <th>Unnamed: 0</th>\n",
       "      <th>Issue Date</th>\n",
       "      <th>Violation Precinct</th>\n",
       "      <th>N_violations</th>\n",
       "      <th>year</th>\n",
       "      <th>month</th>\n",
       "      <th>day</th>\n",
       "      <th>weekday</th>\n",
       "      <th>Borough</th>\n",
       "      <th>PRCP</th>\n",
       "      <th>...</th>\n",
       "      <th>TMIN</th>\n",
       "      <th>Curb Lane Only</th>\n",
       "      <th>FullSidewalkClosure</th>\n",
       "      <th>FullStreetClosure</th>\n",
       "      <th>PartialSidewalkClosure</th>\n",
       "      <th>PedestrianPlaza</th>\n",
       "      <th>SidewalkandCurbLaneClosure</th>\n",
       "      <th>SidewalkandStreetClosure</th>\n",
       "      <th>FedHoliday</th>\n",
       "      <th>Total_Events</th>\n",
       "    </tr>\n",
       "  </thead>\n",
       "  <tbody>\n",
       "    <tr>\n",
       "      <th>0</th>\n",
       "      <td>0</td>\n",
       "      <td>2017-01-01</td>\n",
       "      <td>1</td>\n",
       "      <td>119</td>\n",
       "      <td>2017</td>\n",
       "      <td>1</td>\n",
       "      <td>1</td>\n",
       "      <td>6</td>\n",
       "      <td>Manhattan</td>\n",
       "      <td>0.0</td>\n",
       "      <td>...</td>\n",
       "      <td>40</td>\n",
       "      <td>0.0</td>\n",
       "      <td>0.0</td>\n",
       "      <td>0.0</td>\n",
       "      <td>0.0</td>\n",
       "      <td>0.0</td>\n",
       "      <td>0.0</td>\n",
       "      <td>0.0</td>\n",
       "      <td>1.0</td>\n",
       "      <td>0.0</td>\n",
       "    </tr>\n",
       "    <tr>\n",
       "      <th>1</th>\n",
       "      <td>1</td>\n",
       "      <td>2017-01-01</td>\n",
       "      <td>5</td>\n",
       "      <td>43</td>\n",
       "      <td>2017</td>\n",
       "      <td>1</td>\n",
       "      <td>1</td>\n",
       "      <td>6</td>\n",
       "      <td>Manhattan</td>\n",
       "      <td>0.0</td>\n",
       "      <td>...</td>\n",
       "      <td>40</td>\n",
       "      <td>0.0</td>\n",
       "      <td>0.0</td>\n",
       "      <td>0.0</td>\n",
       "      <td>0.0</td>\n",
       "      <td>0.0</td>\n",
       "      <td>0.0</td>\n",
       "      <td>0.0</td>\n",
       "      <td>1.0</td>\n",
       "      <td>0.0</td>\n",
       "    </tr>\n",
       "    <tr>\n",
       "      <th>2</th>\n",
       "      <td>2</td>\n",
       "      <td>2017-01-01</td>\n",
       "      <td>6</td>\n",
       "      <td>16</td>\n",
       "      <td>2017</td>\n",
       "      <td>1</td>\n",
       "      <td>1</td>\n",
       "      <td>6</td>\n",
       "      <td>Manhattan</td>\n",
       "      <td>0.0</td>\n",
       "      <td>...</td>\n",
       "      <td>40</td>\n",
       "      <td>0.0</td>\n",
       "      <td>0.0</td>\n",
       "      <td>0.0</td>\n",
       "      <td>0.0</td>\n",
       "      <td>0.0</td>\n",
       "      <td>0.0</td>\n",
       "      <td>0.0</td>\n",
       "      <td>1.0</td>\n",
       "      <td>0.0</td>\n",
       "    </tr>\n",
       "    <tr>\n",
       "      <th>3</th>\n",
       "      <td>3</td>\n",
       "      <td>2017-01-01</td>\n",
       "      <td>7</td>\n",
       "      <td>15</td>\n",
       "      <td>2017</td>\n",
       "      <td>1</td>\n",
       "      <td>1</td>\n",
       "      <td>6</td>\n",
       "      <td>Manhattan</td>\n",
       "      <td>0.0</td>\n",
       "      <td>...</td>\n",
       "      <td>40</td>\n",
       "      <td>0.0</td>\n",
       "      <td>0.0</td>\n",
       "      <td>0.0</td>\n",
       "      <td>0.0</td>\n",
       "      <td>0.0</td>\n",
       "      <td>0.0</td>\n",
       "      <td>0.0</td>\n",
       "      <td>1.0</td>\n",
       "      <td>0.0</td>\n",
       "    </tr>\n",
       "    <tr>\n",
       "      <th>4</th>\n",
       "      <td>4</td>\n",
       "      <td>2017-01-01</td>\n",
       "      <td>9</td>\n",
       "      <td>10</td>\n",
       "      <td>2017</td>\n",
       "      <td>1</td>\n",
       "      <td>1</td>\n",
       "      <td>6</td>\n",
       "      <td>Manhattan</td>\n",
       "      <td>0.0</td>\n",
       "      <td>...</td>\n",
       "      <td>40</td>\n",
       "      <td>0.0</td>\n",
       "      <td>0.0</td>\n",
       "      <td>0.0</td>\n",
       "      <td>0.0</td>\n",
       "      <td>0.0</td>\n",
       "      <td>0.0</td>\n",
       "      <td>0.0</td>\n",
       "      <td>1.0</td>\n",
       "      <td>0.0</td>\n",
       "    </tr>\n",
       "  </tbody>\n",
       "</table>\n",
       "<p>5 rows × 24 columns</p>\n",
       "</div>"
      ],
      "text/plain": [
       "   Unnamed: 0  Issue Date  Violation Precinct  N_violations  year  month  day  \\\n",
       "0           0  2017-01-01                   1           119  2017      1    1   \n",
       "1           1  2017-01-01                   5            43  2017      1    1   \n",
       "2           2  2017-01-01                   6            16  2017      1    1   \n",
       "3           3  2017-01-01                   7            15  2017      1    1   \n",
       "4           4  2017-01-01                   9            10  2017      1    1   \n",
       "\n",
       "   weekday    Borough  PRCP  ...  TMIN  Curb Lane Only  FullSidewalkClosure  \\\n",
       "0        6  Manhattan   0.0  ...    40             0.0                  0.0   \n",
       "1        6  Manhattan   0.0  ...    40             0.0                  0.0   \n",
       "2        6  Manhattan   0.0  ...    40             0.0                  0.0   \n",
       "3        6  Manhattan   0.0  ...    40             0.0                  0.0   \n",
       "4        6  Manhattan   0.0  ...    40             0.0                  0.0   \n",
       "\n",
       "   FullStreetClosure  PartialSidewalkClosure  PedestrianPlaza  \\\n",
       "0                0.0                     0.0              0.0   \n",
       "1                0.0                     0.0              0.0   \n",
       "2                0.0                     0.0              0.0   \n",
       "3                0.0                     0.0              0.0   \n",
       "4                0.0                     0.0              0.0   \n",
       "\n",
       "   SidewalkandCurbLaneClosure  SidewalkandStreetClosure  FedHoliday  \\\n",
       "0                         0.0                       0.0         1.0   \n",
       "1                         0.0                       0.0         1.0   \n",
       "2                         0.0                       0.0         1.0   \n",
       "3                         0.0                       0.0         1.0   \n",
       "4                         0.0                       0.0         1.0   \n",
       "\n",
       "   Total_Events  \n",
       "0           0.0  \n",
       "1           0.0  \n",
       "2           0.0  \n",
       "3           0.0  \n",
       "4           0.0  \n",
       "\n",
       "[5 rows x 24 columns]"
      ]
     },
     "execution_count": 202,
     "metadata": {},
     "output_type": "execute_result"
    }
   ],
   "source": [
    "dfcombined9.head()"
   ]
  },
  {
   "cell_type": "code",
   "execution_count": 204,
   "metadata": {},
   "outputs": [
    {
     "data": {
      "text/plain": [
       "(55731, 24)"
      ]
     },
     "execution_count": 204,
     "metadata": {},
     "output_type": "execute_result"
    }
   ],
   "source": [
    "dfcombined9.shape"
   ]
  },
  {
   "cell_type": "code",
   "execution_count": 26,
   "metadata": {},
   "outputs": [],
   "source": [
    "def temperature(example_int):\n",
    "    if example_int < 20:\n",
    "        return '<20'\n",
    "    elif example_int < 40:\n",
    "        return '20 - 40'\n",
    "    elif example_int < 60:\n",
    "        return '40 - 60'\n",
    "    elif example_int < 80:\n",
    "        return '60 - 80'\n",
    "    else:\n",
    "        return '>80'\n",
    "\n",
    "def precipitation(example_float):\n",
    "    if example_float == 0:\n",
    "        return '0'\n",
    "    elif example_float < 0.5:\n",
    "        return '0.1 - 0.5'\n",
    "    elif example_float < 1.0:\n",
    "        return '0.5 - 1.0'\n",
    "    elif example_float < 1.5:\n",
    "        return '1.0 - 1.5'\n",
    "    elif example_float < 2.0:\n",
    "        return '1.5 - 2.0'\n",
    "    elif example_float < 2.5:\n",
    "        return '2.0 - 2.5'\n",
    "    elif example_float < 3.0:\n",
    "        return '2.5 - 3.0'\n",
    "    else:\n",
    "        return '3.0+'\n",
    "\n",
    "def weekday(example_int):\n",
    "    if example_int == 0:\n",
    "        return 'Monday'\n",
    "    elif example_int == 1:\n",
    "        return 'Tuesday'\n",
    "    elif example_int == 2:\n",
    "        return 'Wednesday'\n",
    "    elif example_int == 3:\n",
    "        return 'Thursday'\n",
    "    elif example_int == 4:\n",
    "        return 'Friday'\n",
    "    elif example_int == 5:\n",
    "        return 'Saturday'\n",
    "    elif example_int == 6:\n",
    "        return 'Sunday'"
   ]
  },
  {
   "cell_type": "markdown",
   "metadata": {},
   "source": [
    "#### Set up temporary test dataset for 1 Precinct"
   ]
  },
  {
   "cell_type": "code",
   "execution_count": 362,
   "metadata": {},
   "outputs": [],
   "source": [
    "TestModel = dfcombined9.loc[dfcombined9['Violation Precinct'] == 18] #18 is midtown Manhattan"
   ]
  },
  {
   "cell_type": "code",
   "execution_count": 363,
   "metadata": {},
   "outputs": [],
   "source": [
    "TestModel = TestModel[['N_violations', 'weekday', 'PRCP', 'SNOW', 'TMIN', 'TMAX', 'Total_Events', 'FedHoliday']]"
   ]
  },
  {
   "cell_type": "markdown",
   "metadata": {},
   "source": [
    "# Data Visualizations"
   ]
  },
  {
   "cell_type": "code",
   "execution_count": 364,
   "metadata": {},
   "outputs": [
    {
     "name": "stderr",
     "output_type": "stream",
     "text": [
      "100%|████████████████████████████████████████████████████████████████████████████| 730/730 [00:00<00:00, 360216.70it/s]\n"
     ]
    }
   ],
   "source": [
    "TestModel['TEMP_GROUP'] = TestModel['TMAX'].astype('int').progress_apply(temperature)"
   ]
  },
  {
   "cell_type": "code",
   "execution_count": 365,
   "metadata": {
    "scrolled": true
   },
   "outputs": [
    {
     "name": "stderr",
     "output_type": "stream",
     "text": [
      "100%|████████████████████████████████████████████████████████████████████████████| 730/730 [00:00<00:00, 243796.63it/s]\n"
     ]
    }
   ],
   "source": [
    "TestModel['PRCP_GROUP'] = TestModel['PRCP'].astype('float').progress_apply(precipitation)"
   ]
  },
  {
   "cell_type": "code",
   "execution_count": 366,
   "metadata": {
    "scrolled": true
   },
   "outputs": [
    {
     "name": "stderr",
     "output_type": "stream",
     "text": [
      "100%|████████████████████████████████████████████████████████████████████████████| 730/730 [00:00<00:00, 731797.78it/s]\n"
     ]
    }
   ],
   "source": [
    "TestModel['weekday2'] = TestModel['weekday'].astype('int').progress_apply(weekday)"
   ]
  },
  {
   "cell_type": "code",
   "execution_count": 369,
   "metadata": {},
   "outputs": [
    {
     "data": {
      "text/plain": [
       "<seaborn.axisgrid.FacetGrid at 0x22ab6940cf8>"
      ]
     },
     "execution_count": 369,
     "metadata": {},
     "output_type": "execute_result"
    },
    {
     "data": {
      "image/png": "[encoded data removed]",
      "text/plain": [
       "<Figure size 720x360 with 1 Axes>"
      ]
     },
     "metadata": {},
     "output_type": "display_data"
    }
   ],
   "source": [
    "sns.catplot(x='TEMP_GROUP', y='N_violations', kind=\"box\", order=['<20', '20 - 40', '40 - 60', '60 - 80', '>80'], height=5, \n",
    "            aspect=2, data=TestModel, color = 'wheat').set(title = \"Number of violations by Temperature\", \n",
    "                                                           xlabel = \"Temperature in Farenheit\", ylabel = \"Number of violations\")"
   ]
  },
  {
   "cell_type": "code",
   "execution_count": 370,
   "metadata": {},
   "outputs": [
    {
     "data": {
      "text/plain": [
       "<seaborn.axisgrid.FacetGrid at 0x22ab5ef62e8>"
      ]
     },
     "execution_count": 370,
     "metadata": {},
     "output_type": "execute_result"
    },
    {
     "data": {
      "image/png": "[encoded data removed]",
      "text/plain": [
       "<Figure size 720x360 with 1 Axes>"
      ]
     },
     "metadata": {},
     "output_type": "display_data"
    }
   ],
   "source": [
    "sns.catplot(x='PRCP_GROUP', y='N_violations', kind=\"box\", order=['0','0.1 - 0.5','0.5 - 1.0','1.0 - 1.5','1.5 - 2.0',\n",
    "                                                                   '2.0 - 2.5','2.5 - 3.0','3.0+'] ,\n",
    "            height=5, aspect=2, data=TestModel, color = 'skyblue').set(title = \"Number of violations by Rain\", \n",
    "                                                           xlabel = \"Rainfall in inches\", ylabel = \"Number of violations\")"
   ]
  },
  {
   "cell_type": "code",
   "execution_count": 371,
   "metadata": {},
   "outputs": [
    {
     "data": {
      "text/plain": [
       "<seaborn.axisgrid.FacetGrid at 0x22ab6a6e438>"
      ]
     },
     "execution_count": 371,
     "metadata": {},
     "output_type": "execute_result"
    },
    {
     "data": {
      "image/png": "[encoded data removed]",
      "text/plain": [
       "<Figure size 360x360 with 1 Axes>"
      ]
     },
     "metadata": {},
     "output_type": "display_data"
    }
   ],
   "source": [
    "sns.catplot(x='Total_Events', y='N_violations', kind=\"box\", data=TestModel, \n",
    "            color = 'plum').set(title = \"Number of violations by Events\", xlabel = \"Number of events e.g., parades\", \n",
    "                                ylabel = \"Number of violations\")"
   ]
  },
  {
   "cell_type": "code",
   "execution_count": 372,
   "metadata": {},
   "outputs": [
    {
     "data": {
      "text/plain": [
       "<seaborn.axisgrid.FacetGrid at 0x22ab6b4e128>"
      ]
     },
     "execution_count": 372,
     "metadata": {},
     "output_type": "execute_result"
    },
    {
     "data": {
      "image/png": "[encoded data removed]",
      "text/plain": [
       "<Figure size 720x360 with 1 Axes>"
      ]
     },
     "metadata": {},
     "output_type": "display_data"
    }
   ],
   "source": [
    "sns.catplot(x='weekday2', y='N_violations', kind=\"box\", data=TestModel, height=5, aspect= 2,  \n",
    "            color = 'mediumaquamarine').set(title = \"Number of violations by Day of week\", \n",
    "                                                           xlabel = \"Day of week\", ylabel = \"Number of violations\")"
   ]
  },
  {
   "cell_type": "markdown",
   "metadata": {},
   "source": [
    "# Modeling"
   ]
  },
  {
   "cell_type": "code",
   "execution_count": 374,
   "metadata": {},
   "outputs": [],
   "source": [
    "TestModel = TestModel.drop(columns=['TEMP_GROUP', 'PRCP_GROUP'])"
   ]
  },
  {
   "cell_type": "code",
   "execution_count": 376,
   "metadata": {},
   "outputs": [],
   "source": [
    "TestModel2 = pd.get_dummies(TestModel)"
   ]
  },
  {
   "cell_type": "markdown",
   "metadata": {},
   "source": [
    "### RF"
   ]
  },
  {
   "cell_type": "code",
   "execution_count": 378,
   "metadata": {},
   "outputs": [],
   "source": [
    "X = TestModel2[['weekday2_Friday', 'weekday2_Monday', 'weekday2_Tuesday', 'weekday2_Wednesday', 'weekday2_Thursday', \n",
    "               'weekday2_Saturday', 'weekday2_Sunday', 'PRCP', 'SNOW', 'TMIN', 'TMAX', 'Total_Events', 'FedHoliday']] \n",
    "        # N features for multiple regression. \n",
    "Y = TestModel2['N_violations']"
   ]
  },
  {
   "cell_type": "code",
   "execution_count": 379,
   "metadata": {},
   "outputs": [
    {
     "data": {
      "text/plain": [
       "((730, 13), (584, 13), (146, 13))"
      ]
     },
     "execution_count": 379,
     "metadata": {},
     "output_type": "execute_result"
    }
   ],
   "source": [
    "X_train, X_test, y_train, y_test = model_selection.train_test_split(X, Y, test_size=0.2, random_state=42)\n",
    "X.shape, X_train.shape, X_test.shape"
   ]
  },
  {
   "cell_type": "code",
   "execution_count": 380,
   "metadata": {},
   "outputs": [],
   "source": [
    "X_train, X_test, y_train, y_test = model_selection.train_test_split(X, Y, test_size = 0.2, random_state = 42)"
   ]
  },
  {
   "cell_type": "code",
   "execution_count": 381,
   "metadata": {},
   "outputs": [],
   "source": [
    "rf = RandomForestRegressor(n_estimators = 100, random_state = 42)\n",
    "rf.fit(X_train, y_train);"
   ]
  },
  {
   "cell_type": "code",
   "execution_count": 382,
   "metadata": {},
   "outputs": [
    {
     "name": "stdout",
     "output_type": "stream",
     "text": [
      "R2: 0.59\n"
     ]
    }
   ],
   "source": [
    "y_model = rf.predict(X_test)\n",
    "acc_score = r2_score(y_model, y_test)\n",
    "print('R2:', round(acc_score, 2))"
   ]
  },
  {
   "cell_type": "code",
   "execution_count": 383,
   "metadata": {},
   "outputs": [
    {
     "data": {
      "image/png": "[encoded data removed]",
      "text/plain": [
       "<Figure size 432x288 with 1 Axes>"
      ]
     },
     "metadata": {},
     "output_type": "display_data"
    }
   ],
   "source": [
    "plt.scatter(y_test, y_model, color='green')\n",
    "plt.title('Midtown Manhattan prediction with Random Forest', fontsize=14)\n",
    "plt.xlabel('Model', fontsize=14)\n",
    "plt.ylabel('Actual', fontsize=14)\n",
    "plt.grid(True)\n",
    "plt.show()"
   ]
  },
  {
   "cell_type": "markdown",
   "metadata": {},
   "source": [
    "### Ridge"
   ]
  },
  {
   "cell_type": "code",
   "execution_count": 384,
   "metadata": {},
   "outputs": [
    {
     "data": {
      "text/plain": [
       "((730, 13), (584, 13), (146, 13))"
      ]
     },
     "execution_count": 384,
     "metadata": {},
     "output_type": "execute_result"
    }
   ],
   "source": [
    "X_train, X_test, y_train, y_test = model_selection.train_test_split(X, Y, test_size=0.2, random_state=42)\n",
    "X.shape, X_train.shape, X_test.shape"
   ]
  },
  {
   "cell_type": "code",
   "execution_count": 385,
   "metadata": {},
   "outputs": [],
   "source": [
    "scaler = StandardScaler()\n",
    "X_std = scaler.fit_transform(X_train)"
   ]
  },
  {
   "cell_type": "code",
   "execution_count": 386,
   "metadata": {},
   "outputs": [
    {
     "data": {
      "text/plain": [
       "6.0"
      ]
     },
     "execution_count": 386,
     "metadata": {},
     "output_type": "execute_result"
    }
   ],
   "source": [
    "regr_cv = RidgeCV(alphas=[0.1, 1.0, 2.0, 3.0, 4.0, 5.0, 6.0, 7.0, 8.0, 9.0, 10.0, 15.0, 20.0, 30.0, 40.0])\n",
    "model_cv = regr_cv.fit(X_std, y_train)\n",
    "model_cv.alpha_"
   ]
  },
  {
   "cell_type": "code",
   "execution_count": 387,
   "metadata": {},
   "outputs": [
    {
     "data": {
      "text/plain": [
       "Ridge(alpha=6.0, copy_X=True, fit_intercept=True, max_iter=None,\n",
       "      normalize=False, random_state=99, solver='auto', tol=0.001)"
      ]
     },
     "execution_count": 387,
     "metadata": {},
     "output_type": "execute_result"
    }
   ],
   "source": [
    "ridge = Ridge(alpha=6.0, fit_intercept=True, random_state=99)\n",
    "ridge.fit(X_train, y_train)"
   ]
  },
  {
   "cell_type": "code",
   "execution_count": 388,
   "metadata": {},
   "outputs": [],
   "source": [
    "y_model = ridge.predict(X_test)"
   ]
  },
  {
   "cell_type": "code",
   "execution_count": 389,
   "metadata": {},
   "outputs": [
    {
     "data": {
      "text/plain": [
       "0.7000881419158047"
      ]
     },
     "execution_count": 389,
     "metadata": {},
     "output_type": "execute_result"
    }
   ],
   "source": [
    "r2_score(y_test, y_model)"
   ]
  },
  {
   "cell_type": "code",
   "execution_count": 390,
   "metadata": {
    "scrolled": true
   },
   "outputs": [
    {
     "data": {
      "image/png": "[encoded data removed]",
      "text/plain": [
       "<Figure size 432x288 with 1 Axes>"
      ]
     },
     "metadata": {},
     "output_type": "display_data"
    }
   ],
   "source": [
    "plt.scatter(y_model, y_test, color='blue')\n",
    "plt.title('Midtown Manhattan prediction with Ridge Regression', fontsize=14)\n",
    "plt.xlabel('Model', fontsize=14)\n",
    "plt.ylabel('Actual', fontsize=14)\n",
    "plt.grid(True)\n",
    "plt.show()"
   ]
  },
  {
   "cell_type": "code",
   "execution_count": 106,
   "metadata": {},
   "outputs": [],
   "source": [
    "models = []\n",
    "#models.append(('LR', LogisticRegression()))\n",
    "#models.append(('LDA', LinearDiscriminantAnalysis()))\n",
    "models.append(('LinR', LinearRegression()))\n",
    "#models.append(('KNN', KNeighborsClassifier()))\n",
    "#models.append(('CART', DecisionTreeClassifier()))\n",
    "#models.append(('NB', GaussianNB()))\n",
    "#models.append(('SVM', SVC( kernel='rbf')))\n",
    "models.append(('RF', RandomForestRegressor()))"
   ]
  },
  {
   "cell_type": "code",
   "execution_count": 107,
   "metadata": {},
   "outputs": [
    {
     "data": {
      "text/plain": [
       "((584, 7), (584,))"
      ]
     },
     "execution_count": 107,
     "metadata": {},
     "output_type": "execute_result"
    }
   ],
   "source": [
    "X_train.shape, y_train.shape"
   ]
  },
  {
   "cell_type": "code",
   "execution_count": 327,
   "metadata": {},
   "outputs": [
    {
     "name": "stdout",
     "output_type": "stream",
     "text": [
      "LinR: 0.723292 0.697848 (0.055074)\n",
      "RF: 0.696845 0.663892 (0.038790)\n"
     ]
    }
   ],
   "source": [
    "cv_res = pd.DataFrame()\n",
    "results = []\n",
    "names = []\n",
    "for name, model in models:\n",
    "    model.fit(X_train,y_train)\n",
    "    cv_results = model_selection.cross_val_score(model, X_train, y_train, cv=6, scoring='r2')\n",
    "    results.append(cv_results)\n",
    "    names.append(name)\n",
    "    y_pred = model.predict(X_test)\n",
    "    acc_score = r2_score(y_test, y_pred)\n",
    "    msg = \"%s: %f %f (%f)\" % (name, cv_results.mean(),acc_score, cv_results.std())\n",
    "    print(msg)"
   ]
  },
  {
   "cell_type": "markdown",
   "metadata": {},
   "source": [
    "### Full test model"
   ]
  },
  {
   "cell_type": "code",
   "execution_count": 207,
   "metadata": {},
   "outputs": [
    {
     "data": {
      "text/html": [
       "<div>\n",
       "<style scoped>\n",
       "    .dataframe tbody tr th:only-of-type {\n",
       "        vertical-align: middle;\n",
       "    }\n",
       "\n",
       "    .dataframe tbody tr th {\n",
       "        vertical-align: top;\n",
       "    }\n",
       "\n",
       "    .dataframe thead th {\n",
       "        text-align: right;\n",
       "    }\n",
       "</style>\n",
       "<table border=\"1\" class=\"dataframe\">\n",
       "  <thead>\n",
       "    <tr style=\"text-align: right;\">\n",
       "      <th></th>\n",
       "      <th>Unnamed: 0</th>\n",
       "      <th>Issue Date</th>\n",
       "      <th>Violation Precinct</th>\n",
       "      <th>N_violations</th>\n",
       "      <th>year</th>\n",
       "      <th>month</th>\n",
       "      <th>day</th>\n",
       "      <th>weekday</th>\n",
       "      <th>Borough</th>\n",
       "      <th>PRCP</th>\n",
       "      <th>...</th>\n",
       "      <th>TMIN</th>\n",
       "      <th>Curb Lane Only</th>\n",
       "      <th>FullSidewalkClosure</th>\n",
       "      <th>FullStreetClosure</th>\n",
       "      <th>PartialSidewalkClosure</th>\n",
       "      <th>PedestrianPlaza</th>\n",
       "      <th>SidewalkandCurbLaneClosure</th>\n",
       "      <th>SidewalkandStreetClosure</th>\n",
       "      <th>FedHoliday</th>\n",
       "      <th>Total_Events</th>\n",
       "    </tr>\n",
       "  </thead>\n",
       "  <tbody>\n",
       "    <tr>\n",
       "      <th>0</th>\n",
       "      <td>0</td>\n",
       "      <td>2017-01-01</td>\n",
       "      <td>1</td>\n",
       "      <td>119</td>\n",
       "      <td>2017</td>\n",
       "      <td>1</td>\n",
       "      <td>1</td>\n",
       "      <td>6</td>\n",
       "      <td>Manhattan</td>\n",
       "      <td>0.0</td>\n",
       "      <td>...</td>\n",
       "      <td>40</td>\n",
       "      <td>0.0</td>\n",
       "      <td>0.0</td>\n",
       "      <td>0.0</td>\n",
       "      <td>0.0</td>\n",
       "      <td>0.0</td>\n",
       "      <td>0.0</td>\n",
       "      <td>0.0</td>\n",
       "      <td>1.0</td>\n",
       "      <td>0.0</td>\n",
       "    </tr>\n",
       "    <tr>\n",
       "      <th>1</th>\n",
       "      <td>1</td>\n",
       "      <td>2017-01-01</td>\n",
       "      <td>5</td>\n",
       "      <td>43</td>\n",
       "      <td>2017</td>\n",
       "      <td>1</td>\n",
       "      <td>1</td>\n",
       "      <td>6</td>\n",
       "      <td>Manhattan</td>\n",
       "      <td>0.0</td>\n",
       "      <td>...</td>\n",
       "      <td>40</td>\n",
       "      <td>0.0</td>\n",
       "      <td>0.0</td>\n",
       "      <td>0.0</td>\n",
       "      <td>0.0</td>\n",
       "      <td>0.0</td>\n",
       "      <td>0.0</td>\n",
       "      <td>0.0</td>\n",
       "      <td>1.0</td>\n",
       "      <td>0.0</td>\n",
       "    </tr>\n",
       "    <tr>\n",
       "      <th>2</th>\n",
       "      <td>2</td>\n",
       "      <td>2017-01-01</td>\n",
       "      <td>6</td>\n",
       "      <td>16</td>\n",
       "      <td>2017</td>\n",
       "      <td>1</td>\n",
       "      <td>1</td>\n",
       "      <td>6</td>\n",
       "      <td>Manhattan</td>\n",
       "      <td>0.0</td>\n",
       "      <td>...</td>\n",
       "      <td>40</td>\n",
       "      <td>0.0</td>\n",
       "      <td>0.0</td>\n",
       "      <td>0.0</td>\n",
       "      <td>0.0</td>\n",
       "      <td>0.0</td>\n",
       "      <td>0.0</td>\n",
       "      <td>0.0</td>\n",
       "      <td>1.0</td>\n",
       "      <td>0.0</td>\n",
       "    </tr>\n",
       "    <tr>\n",
       "      <th>3</th>\n",
       "      <td>3</td>\n",
       "      <td>2017-01-01</td>\n",
       "      <td>7</td>\n",
       "      <td>15</td>\n",
       "      <td>2017</td>\n",
       "      <td>1</td>\n",
       "      <td>1</td>\n",
       "      <td>6</td>\n",
       "      <td>Manhattan</td>\n",
       "      <td>0.0</td>\n",
       "      <td>...</td>\n",
       "      <td>40</td>\n",
       "      <td>0.0</td>\n",
       "      <td>0.0</td>\n",
       "      <td>0.0</td>\n",
       "      <td>0.0</td>\n",
       "      <td>0.0</td>\n",
       "      <td>0.0</td>\n",
       "      <td>0.0</td>\n",
       "      <td>1.0</td>\n",
       "      <td>0.0</td>\n",
       "    </tr>\n",
       "    <tr>\n",
       "      <th>4</th>\n",
       "      <td>4</td>\n",
       "      <td>2017-01-01</td>\n",
       "      <td>9</td>\n",
       "      <td>10</td>\n",
       "      <td>2017</td>\n",
       "      <td>1</td>\n",
       "      <td>1</td>\n",
       "      <td>6</td>\n",
       "      <td>Manhattan</td>\n",
       "      <td>0.0</td>\n",
       "      <td>...</td>\n",
       "      <td>40</td>\n",
       "      <td>0.0</td>\n",
       "      <td>0.0</td>\n",
       "      <td>0.0</td>\n",
       "      <td>0.0</td>\n",
       "      <td>0.0</td>\n",
       "      <td>0.0</td>\n",
       "      <td>0.0</td>\n",
       "      <td>1.0</td>\n",
       "      <td>0.0</td>\n",
       "    </tr>\n",
       "  </tbody>\n",
       "</table>\n",
       "<p>5 rows × 24 columns</p>\n",
       "</div>"
      ],
      "text/plain": [
       "   Unnamed: 0  Issue Date  Violation Precinct  N_violations  year  month  day  \\\n",
       "0           0  2017-01-01                   1           119  2017      1    1   \n",
       "1           1  2017-01-01                   5            43  2017      1    1   \n",
       "2           2  2017-01-01                   6            16  2017      1    1   \n",
       "3           3  2017-01-01                   7            15  2017      1    1   \n",
       "4           4  2017-01-01                   9            10  2017      1    1   \n",
       "\n",
       "   weekday    Borough  PRCP  ...  TMIN  Curb Lane Only  FullSidewalkClosure  \\\n",
       "0        6  Manhattan   0.0  ...    40             0.0                  0.0   \n",
       "1        6  Manhattan   0.0  ...    40             0.0                  0.0   \n",
       "2        6  Manhattan   0.0  ...    40             0.0                  0.0   \n",
       "3        6  Manhattan   0.0  ...    40             0.0                  0.0   \n",
       "4        6  Manhattan   0.0  ...    40             0.0                  0.0   \n",
       "\n",
       "   FullStreetClosure  PartialSidewalkClosure  PedestrianPlaza  \\\n",
       "0                0.0                     0.0              0.0   \n",
       "1                0.0                     0.0              0.0   \n",
       "2                0.0                     0.0              0.0   \n",
       "3                0.0                     0.0              0.0   \n",
       "4                0.0                     0.0              0.0   \n",
       "\n",
       "   SidewalkandCurbLaneClosure  SidewalkandStreetClosure  FedHoliday  \\\n",
       "0                         0.0                       0.0         1.0   \n",
       "1                         0.0                       0.0         1.0   \n",
       "2                         0.0                       0.0         1.0   \n",
       "3                         0.0                       0.0         1.0   \n",
       "4                         0.0                       0.0         1.0   \n",
       "\n",
       "   Total_Events  \n",
       "0           0.0  \n",
       "1           0.0  \n",
       "2           0.0  \n",
       "3           0.0  \n",
       "4           0.0  \n",
       "\n",
       "[5 rows x 24 columns]"
      ]
     },
     "execution_count": 207,
     "metadata": {},
     "output_type": "execute_result"
    }
   ],
   "source": [
    "dfcombined9.head()"
   ]
  },
  {
   "cell_type": "code",
   "execution_count": 212,
   "metadata": {},
   "outputs": [],
   "source": [
    "FullTestModel = dfcombined9[['N_violations', 'weekday', 'PRCP', 'SNOW', 'TMIN', 'TMAX', 'Total_Events', 'FedHoliday']]"
   ]
  },
  {
   "cell_type": "code",
   "execution_count": 215,
   "metadata": {},
   "outputs": [
    {
     "data": {
      "text/html": [
       "<div>\n",
       "<style scoped>\n",
       "    .dataframe tbody tr th:only-of-type {\n",
       "        vertical-align: middle;\n",
       "    }\n",
       "\n",
       "    .dataframe tbody tr th {\n",
       "        vertical-align: top;\n",
       "    }\n",
       "\n",
       "    .dataframe thead th {\n",
       "        text-align: right;\n",
       "    }\n",
       "</style>\n",
       "<table border=\"1\" class=\"dataframe\">\n",
       "  <thead>\n",
       "    <tr style=\"text-align: right;\">\n",
       "      <th></th>\n",
       "      <th>N_violations</th>\n",
       "      <th>weekday</th>\n",
       "      <th>PRCP</th>\n",
       "      <th>SNOW</th>\n",
       "      <th>TMIN</th>\n",
       "      <th>TMAX</th>\n",
       "      <th>Total_Events</th>\n",
       "      <th>FedHoliday</th>\n",
       "      <th>weekday2</th>\n",
       "    </tr>\n",
       "  </thead>\n",
       "  <tbody>\n",
       "    <tr>\n",
       "      <th>0</th>\n",
       "      <td>119</td>\n",
       "      <td>6</td>\n",
       "      <td>0.0</td>\n",
       "      <td>0.0</td>\n",
       "      <td>40</td>\n",
       "      <td>48</td>\n",
       "      <td>0.0</td>\n",
       "      <td>1.0</td>\n",
       "      <td>Sunday</td>\n",
       "    </tr>\n",
       "    <tr>\n",
       "      <th>1</th>\n",
       "      <td>43</td>\n",
       "      <td>6</td>\n",
       "      <td>0.0</td>\n",
       "      <td>0.0</td>\n",
       "      <td>40</td>\n",
       "      <td>48</td>\n",
       "      <td>0.0</td>\n",
       "      <td>1.0</td>\n",
       "      <td>Sunday</td>\n",
       "    </tr>\n",
       "    <tr>\n",
       "      <th>2</th>\n",
       "      <td>16</td>\n",
       "      <td>6</td>\n",
       "      <td>0.0</td>\n",
       "      <td>0.0</td>\n",
       "      <td>40</td>\n",
       "      <td>48</td>\n",
       "      <td>0.0</td>\n",
       "      <td>1.0</td>\n",
       "      <td>Sunday</td>\n",
       "    </tr>\n",
       "    <tr>\n",
       "      <th>3</th>\n",
       "      <td>15</td>\n",
       "      <td>6</td>\n",
       "      <td>0.0</td>\n",
       "      <td>0.0</td>\n",
       "      <td>40</td>\n",
       "      <td>48</td>\n",
       "      <td>0.0</td>\n",
       "      <td>1.0</td>\n",
       "      <td>Sunday</td>\n",
       "    </tr>\n",
       "    <tr>\n",
       "      <th>4</th>\n",
       "      <td>10</td>\n",
       "      <td>6</td>\n",
       "      <td>0.0</td>\n",
       "      <td>0.0</td>\n",
       "      <td>40</td>\n",
       "      <td>48</td>\n",
       "      <td>0.0</td>\n",
       "      <td>1.0</td>\n",
       "      <td>Sunday</td>\n",
       "    </tr>\n",
       "  </tbody>\n",
       "</table>\n",
       "</div>"
      ],
      "text/plain": [
       "   N_violations  weekday  PRCP  SNOW  TMIN  TMAX  Total_Events  FedHoliday  \\\n",
       "0           119        6   0.0   0.0    40    48           0.0         1.0   \n",
       "1            43        6   0.0   0.0    40    48           0.0         1.0   \n",
       "2            16        6   0.0   0.0    40    48           0.0         1.0   \n",
       "3            15        6   0.0   0.0    40    48           0.0         1.0   \n",
       "4            10        6   0.0   0.0    40    48           0.0         1.0   \n",
       "\n",
       "  weekday2  \n",
       "0   Sunday  \n",
       "1   Sunday  \n",
       "2   Sunday  \n",
       "3   Sunday  \n",
       "4   Sunday  "
      ]
     },
     "execution_count": 215,
     "metadata": {},
     "output_type": "execute_result"
    }
   ],
   "source": [
    "FullTestModel.head()"
   ]
  },
  {
   "cell_type": "code",
   "execution_count": 214,
   "metadata": {},
   "outputs": [
    {
     "name": "stderr",
     "output_type": "stream",
     "text": [
      "100%|████████████████████████████████████████████████████████████████████████| 55731/55731 [00:00<00:00, 598983.61it/s]\n",
      "C:\\Users\\Elliot\\Anaconda3\\lib\\site-packages\\ipykernel_launcher.py:1: SettingWithCopyWarning: \n",
      "A value is trying to be set on a copy of a slice from a DataFrame.\n",
      "Try using .loc[row_indexer,col_indexer] = value instead\n",
      "\n",
      "See the caveats in the documentation: http://pandas.pydata.org/pandas-docs/stable/indexing.html#indexing-view-versus-copy\n",
      "  \"\"\"Entry point for launching an IPython kernel.\n"
     ]
    }
   ],
   "source": [
    "FullTestModel['weekday2'] = FullTestModel['weekday'].astype('int').progress_apply(weekday)"
   ]
  },
  {
   "cell_type": "code",
   "execution_count": 216,
   "metadata": {},
   "outputs": [],
   "source": [
    "FullTestModel = pd.get_dummies(FullTestModel)"
   ]
  },
  {
   "cell_type": "code",
   "execution_count": 217,
   "metadata": {},
   "outputs": [
    {
     "data": {
      "text/html": [
       "<div>\n",
       "<style scoped>\n",
       "    .dataframe tbody tr th:only-of-type {\n",
       "        vertical-align: middle;\n",
       "    }\n",
       "\n",
       "    .dataframe tbody tr th {\n",
       "        vertical-align: top;\n",
       "    }\n",
       "\n",
       "    .dataframe thead th {\n",
       "        text-align: right;\n",
       "    }\n",
       "</style>\n",
       "<table border=\"1\" class=\"dataframe\">\n",
       "  <thead>\n",
       "    <tr style=\"text-align: right;\">\n",
       "      <th></th>\n",
       "      <th>N_violations</th>\n",
       "      <th>weekday</th>\n",
       "      <th>PRCP</th>\n",
       "      <th>SNOW</th>\n",
       "      <th>TMIN</th>\n",
       "      <th>TMAX</th>\n",
       "      <th>Total_Events</th>\n",
       "      <th>FedHoliday</th>\n",
       "      <th>weekday2_Friday</th>\n",
       "      <th>weekday2_Monday</th>\n",
       "      <th>weekday2_Saturday</th>\n",
       "      <th>weekday2_Sunday</th>\n",
       "      <th>weekday2_Thursday</th>\n",
       "      <th>weekday2_Tuesday</th>\n",
       "      <th>weekday2_Wednesday</th>\n",
       "    </tr>\n",
       "  </thead>\n",
       "  <tbody>\n",
       "    <tr>\n",
       "      <th>0</th>\n",
       "      <td>119</td>\n",
       "      <td>6</td>\n",
       "      <td>0.0</td>\n",
       "      <td>0.0</td>\n",
       "      <td>40</td>\n",
       "      <td>48</td>\n",
       "      <td>0.0</td>\n",
       "      <td>1.0</td>\n",
       "      <td>0</td>\n",
       "      <td>0</td>\n",
       "      <td>0</td>\n",
       "      <td>1</td>\n",
       "      <td>0</td>\n",
       "      <td>0</td>\n",
       "      <td>0</td>\n",
       "    </tr>\n",
       "    <tr>\n",
       "      <th>1</th>\n",
       "      <td>43</td>\n",
       "      <td>6</td>\n",
       "      <td>0.0</td>\n",
       "      <td>0.0</td>\n",
       "      <td>40</td>\n",
       "      <td>48</td>\n",
       "      <td>0.0</td>\n",
       "      <td>1.0</td>\n",
       "      <td>0</td>\n",
       "      <td>0</td>\n",
       "      <td>0</td>\n",
       "      <td>1</td>\n",
       "      <td>0</td>\n",
       "      <td>0</td>\n",
       "      <td>0</td>\n",
       "    </tr>\n",
       "    <tr>\n",
       "      <th>2</th>\n",
       "      <td>16</td>\n",
       "      <td>6</td>\n",
       "      <td>0.0</td>\n",
       "      <td>0.0</td>\n",
       "      <td>40</td>\n",
       "      <td>48</td>\n",
       "      <td>0.0</td>\n",
       "      <td>1.0</td>\n",
       "      <td>0</td>\n",
       "      <td>0</td>\n",
       "      <td>0</td>\n",
       "      <td>1</td>\n",
       "      <td>0</td>\n",
       "      <td>0</td>\n",
       "      <td>0</td>\n",
       "    </tr>\n",
       "    <tr>\n",
       "      <th>3</th>\n",
       "      <td>15</td>\n",
       "      <td>6</td>\n",
       "      <td>0.0</td>\n",
       "      <td>0.0</td>\n",
       "      <td>40</td>\n",
       "      <td>48</td>\n",
       "      <td>0.0</td>\n",
       "      <td>1.0</td>\n",
       "      <td>0</td>\n",
       "      <td>0</td>\n",
       "      <td>0</td>\n",
       "      <td>1</td>\n",
       "      <td>0</td>\n",
       "      <td>0</td>\n",
       "      <td>0</td>\n",
       "    </tr>\n",
       "    <tr>\n",
       "      <th>4</th>\n",
       "      <td>10</td>\n",
       "      <td>6</td>\n",
       "      <td>0.0</td>\n",
       "      <td>0.0</td>\n",
       "      <td>40</td>\n",
       "      <td>48</td>\n",
       "      <td>0.0</td>\n",
       "      <td>1.0</td>\n",
       "      <td>0</td>\n",
       "      <td>0</td>\n",
       "      <td>0</td>\n",
       "      <td>1</td>\n",
       "      <td>0</td>\n",
       "      <td>0</td>\n",
       "      <td>0</td>\n",
       "    </tr>\n",
       "  </tbody>\n",
       "</table>\n",
       "</div>"
      ],
      "text/plain": [
       "   N_violations  weekday  PRCP  SNOW  TMIN  TMAX  Total_Events  FedHoliday  \\\n",
       "0           119        6   0.0   0.0    40    48           0.0         1.0   \n",
       "1            43        6   0.0   0.0    40    48           0.0         1.0   \n",
       "2            16        6   0.0   0.0    40    48           0.0         1.0   \n",
       "3            15        6   0.0   0.0    40    48           0.0         1.0   \n",
       "4            10        6   0.0   0.0    40    48           0.0         1.0   \n",
       "\n",
       "   weekday2_Friday  weekday2_Monday  weekday2_Saturday  weekday2_Sunday  \\\n",
       "0                0                0                  0                1   \n",
       "1                0                0                  0                1   \n",
       "2                0                0                  0                1   \n",
       "3                0                0                  0                1   \n",
       "4                0                0                  0                1   \n",
       "\n",
       "   weekday2_Thursday  weekday2_Tuesday  weekday2_Wednesday  \n",
       "0                  0                 0                   0  \n",
       "1                  0                 0                   0  \n",
       "2                  0                 0                   0  \n",
       "3                  0                 0                   0  \n",
       "4                  0                 0                   0  "
      ]
     },
     "execution_count": 217,
     "metadata": {},
     "output_type": "execute_result"
    }
   ],
   "source": [
    "FullTestModel.head()"
   ]
  },
  {
   "cell_type": "code",
   "execution_count": 218,
   "metadata": {},
   "outputs": [],
   "source": [
    "X = FullTestModel[['weekday2_Friday', 'weekday2_Monday', 'weekday2_Tuesday', 'weekday2_Wednesday', 'weekday2_Thursday', \n",
    "               'weekday2_Saturday', 'weekday2_Sunday', 'PRCP', 'SNOW', 'TMIN', 'TMAX', 'Total_Events', 'FedHoliday']] \n",
    "        # N features for multiple regression. \n",
    "Y = FullTestModel['N_violations']"
   ]
  },
  {
   "cell_type": "code",
   "execution_count": 119,
   "metadata": {},
   "outputs": [
    {
     "data": {
      "text/plain": [
       "((730, 13), (584, 13), (146, 13))"
      ]
     },
     "execution_count": 119,
     "metadata": {},
     "output_type": "execute_result"
    }
   ],
   "source": [
    "X_train, X_test, y_train, y_test = model_selection.train_test_split(X, Y, test_size=0.2, random_state=42)\n",
    "X.shape, X_train.shape, X_test.shape"
   ]
  },
  {
   "cell_type": "code",
   "execution_count": 219,
   "metadata": {},
   "outputs": [],
   "source": [
    "X_train, X_test, y_train, y_test = model_selection.train_test_split(X, Y, test_size = 0.2, random_state = 42)"
   ]
  },
  {
   "cell_type": "code",
   "execution_count": 220,
   "metadata": {},
   "outputs": [],
   "source": [
    "rf = RandomForestRegressor(n_estimators = 100, random_state = 42)\n",
    "rf.fit(X_train, y_train);"
   ]
  },
  {
   "cell_type": "code",
   "execution_count": 221,
   "metadata": {},
   "outputs": [
    {
     "name": "stdout",
     "output_type": "stream",
     "text": [
      "R2: -2.51\n"
     ]
    }
   ],
   "source": [
    "y_model = rf.predict(X_test)\n",
    "acc_score = r2_score(y_model, y_test)\n",
    "print('R2:', round(acc_score, 2))"
   ]
  },
  {
   "cell_type": "code",
   "execution_count": 222,
   "metadata": {},
   "outputs": [
    {
     "data": {
      "image/png": "[encoded data removed]",
      "text/plain": [
       "<Figure size 432x288 with 1 Axes>"
      ]
     },
     "metadata": {},
     "output_type": "display_data"
    }
   ],
   "source": [
    "plt.scatter(y_test, y_model, color='green')\n",
    "plt.title('NYC prediction with Random Forest', fontsize=14)\n",
    "plt.xlabel('Model', fontsize=14)\n",
    "plt.ylabel('Actual', fontsize=14)\n",
    "plt.grid(True)\n",
    "plt.show()"
   ]
  },
  {
   "cell_type": "markdown",
   "metadata": {},
   "source": [
    "# Mapping"
   ]
  },
  {
   "cell_type": "code",
   "execution_count": 166,
   "metadata": {},
   "outputs": [
    {
     "name": "stdout",
     "output_type": "stream",
     "text": [
      "Collecting package metadata (current_repodata.json): ...working... done\n",
      "Solving environment: ...working... done\n",
      "\n",
      "# All requested packages already installed.\n",
      "\n",
      "\n",
      "Note: you may need to restart the kernel to use updated packages.\n"
     ]
    }
   ],
   "source": [
    "conda install -c conda-forge folium"
   ]
  },
  {
   "cell_type": "code",
   "execution_count": 167,
   "metadata": {},
   "outputs": [],
   "source": [
    "import webbrowser\n",
    "import folium"
   ]
  },
  {
   "cell_type": "code",
   "execution_count": 161,
   "metadata": {},
   "outputs": [
    {
     "data": {
      "text/html": [
       "<div>\n",
       "<style scoped>\n",
       "    .dataframe tbody tr th:only-of-type {\n",
       "        vertical-align: middle;\n",
       "    }\n",
       "\n",
       "    .dataframe tbody tr th {\n",
       "        vertical-align: top;\n",
       "    }\n",
       "\n",
       "    .dataframe thead th {\n",
       "        text-align: right;\n",
       "    }\n",
       "</style>\n",
       "<table border=\"1\" class=\"dataframe\">\n",
       "  <thead>\n",
       "    <tr style=\"text-align: right;\">\n",
       "      <th></th>\n",
       "      <th>Unnamed: 0</th>\n",
       "      <th>Issue Date</th>\n",
       "      <th>Violation Precinct</th>\n",
       "      <th>N_violations</th>\n",
       "      <th>year</th>\n",
       "      <th>month</th>\n",
       "      <th>day</th>\n",
       "      <th>weekday</th>\n",
       "      <th>Borough</th>\n",
       "      <th>PRCP</th>\n",
       "      <th>...</th>\n",
       "      <th>TMIN</th>\n",
       "      <th>Curb Lane Only</th>\n",
       "      <th>FullSidewalkClosure</th>\n",
       "      <th>FullStreetClosure</th>\n",
       "      <th>PartialSidewalkClosure</th>\n",
       "      <th>PedestrianPlaza</th>\n",
       "      <th>SidewalkandCurbLaneClosure</th>\n",
       "      <th>SidewalkandStreetClosure</th>\n",
       "      <th>FedHoliday</th>\n",
       "      <th>Total_Events</th>\n",
       "    </tr>\n",
       "  </thead>\n",
       "  <tbody>\n",
       "    <tr>\n",
       "      <th>0</th>\n",
       "      <td>0</td>\n",
       "      <td>2017-01-01</td>\n",
       "      <td>1</td>\n",
       "      <td>119</td>\n",
       "      <td>2017</td>\n",
       "      <td>1</td>\n",
       "      <td>1</td>\n",
       "      <td>6</td>\n",
       "      <td>Manhattan</td>\n",
       "      <td>0.0</td>\n",
       "      <td>...</td>\n",
       "      <td>40</td>\n",
       "      <td>0.0</td>\n",
       "      <td>0.0</td>\n",
       "      <td>0.0</td>\n",
       "      <td>0.0</td>\n",
       "      <td>0.0</td>\n",
       "      <td>0.0</td>\n",
       "      <td>0.0</td>\n",
       "      <td>1.0</td>\n",
       "      <td>0.0</td>\n",
       "    </tr>\n",
       "    <tr>\n",
       "      <th>1</th>\n",
       "      <td>1</td>\n",
       "      <td>2017-01-01</td>\n",
       "      <td>5</td>\n",
       "      <td>43</td>\n",
       "      <td>2017</td>\n",
       "      <td>1</td>\n",
       "      <td>1</td>\n",
       "      <td>6</td>\n",
       "      <td>Manhattan</td>\n",
       "      <td>0.0</td>\n",
       "      <td>...</td>\n",
       "      <td>40</td>\n",
       "      <td>0.0</td>\n",
       "      <td>0.0</td>\n",
       "      <td>0.0</td>\n",
       "      <td>0.0</td>\n",
       "      <td>0.0</td>\n",
       "      <td>0.0</td>\n",
       "      <td>0.0</td>\n",
       "      <td>1.0</td>\n",
       "      <td>0.0</td>\n",
       "    </tr>\n",
       "    <tr>\n",
       "      <th>2</th>\n",
       "      <td>2</td>\n",
       "      <td>2017-01-01</td>\n",
       "      <td>6</td>\n",
       "      <td>16</td>\n",
       "      <td>2017</td>\n",
       "      <td>1</td>\n",
       "      <td>1</td>\n",
       "      <td>6</td>\n",
       "      <td>Manhattan</td>\n",
       "      <td>0.0</td>\n",
       "      <td>...</td>\n",
       "      <td>40</td>\n",
       "      <td>0.0</td>\n",
       "      <td>0.0</td>\n",
       "      <td>0.0</td>\n",
       "      <td>0.0</td>\n",
       "      <td>0.0</td>\n",
       "      <td>0.0</td>\n",
       "      <td>0.0</td>\n",
       "      <td>1.0</td>\n",
       "      <td>0.0</td>\n",
       "    </tr>\n",
       "    <tr>\n",
       "      <th>3</th>\n",
       "      <td>3</td>\n",
       "      <td>2017-01-01</td>\n",
       "      <td>7</td>\n",
       "      <td>15</td>\n",
       "      <td>2017</td>\n",
       "      <td>1</td>\n",
       "      <td>1</td>\n",
       "      <td>6</td>\n",
       "      <td>Manhattan</td>\n",
       "      <td>0.0</td>\n",
       "      <td>...</td>\n",
       "      <td>40</td>\n",
       "      <td>0.0</td>\n",
       "      <td>0.0</td>\n",
       "      <td>0.0</td>\n",
       "      <td>0.0</td>\n",
       "      <td>0.0</td>\n",
       "      <td>0.0</td>\n",
       "      <td>0.0</td>\n",
       "      <td>1.0</td>\n",
       "      <td>0.0</td>\n",
       "    </tr>\n",
       "    <tr>\n",
       "      <th>4</th>\n",
       "      <td>4</td>\n",
       "      <td>2017-01-01</td>\n",
       "      <td>9</td>\n",
       "      <td>10</td>\n",
       "      <td>2017</td>\n",
       "      <td>1</td>\n",
       "      <td>1</td>\n",
       "      <td>6</td>\n",
       "      <td>Manhattan</td>\n",
       "      <td>0.0</td>\n",
       "      <td>...</td>\n",
       "      <td>40</td>\n",
       "      <td>0.0</td>\n",
       "      <td>0.0</td>\n",
       "      <td>0.0</td>\n",
       "      <td>0.0</td>\n",
       "      <td>0.0</td>\n",
       "      <td>0.0</td>\n",
       "      <td>0.0</td>\n",
       "      <td>1.0</td>\n",
       "      <td>0.0</td>\n",
       "    </tr>\n",
       "  </tbody>\n",
       "</table>\n",
       "<p>5 rows × 24 columns</p>\n",
       "</div>"
      ],
      "text/plain": [
       "   Unnamed: 0  Issue Date  Violation Precinct  N_violations  year  month  day  \\\n",
       "0           0  2017-01-01                   1           119  2017      1    1   \n",
       "1           1  2017-01-01                   5            43  2017      1    1   \n",
       "2           2  2017-01-01                   6            16  2017      1    1   \n",
       "3           3  2017-01-01                   7            15  2017      1    1   \n",
       "4           4  2017-01-01                   9            10  2017      1    1   \n",
       "\n",
       "   weekday    Borough  PRCP  ...  TMIN  Curb Lane Only  FullSidewalkClosure  \\\n",
       "0        6  Manhattan   0.0  ...    40             0.0                  0.0   \n",
       "1        6  Manhattan   0.0  ...    40             0.0                  0.0   \n",
       "2        6  Manhattan   0.0  ...    40             0.0                  0.0   \n",
       "3        6  Manhattan   0.0  ...    40             0.0                  0.0   \n",
       "4        6  Manhattan   0.0  ...    40             0.0                  0.0   \n",
       "\n",
       "   FullStreetClosure  PartialSidewalkClosure  PedestrianPlaza  \\\n",
       "0                0.0                     0.0              0.0   \n",
       "1                0.0                     0.0              0.0   \n",
       "2                0.0                     0.0              0.0   \n",
       "3                0.0                     0.0              0.0   \n",
       "4                0.0                     0.0              0.0   \n",
       "\n",
       "   SidewalkandCurbLaneClosure  SidewalkandStreetClosure  FedHoliday  \\\n",
       "0                         0.0                       0.0         1.0   \n",
       "1                         0.0                       0.0         1.0   \n",
       "2                         0.0                       0.0         1.0   \n",
       "3                         0.0                       0.0         1.0   \n",
       "4                         0.0                       0.0         1.0   \n",
       "\n",
       "   Total_Events  \n",
       "0           0.0  \n",
       "1           0.0  \n",
       "2           0.0  \n",
       "3           0.0  \n",
       "4           0.0  \n",
       "\n",
       "[5 rows x 24 columns]"
      ]
     },
     "execution_count": 161,
     "metadata": {},
     "output_type": "execute_result"
    }
   ],
   "source": [
    "dfcombined9.head()"
   ]
  },
  {
   "cell_type": "code",
   "execution_count": 162,
   "metadata": {},
   "outputs": [],
   "source": [
    "df_map = dfcombined9.groupby(['Violation Precinct'])['N_violations'].sum().reset_index(name='counts')\n",
    "df_map['Violation Precinct'] = df_map['Violation Precinct'].astype(str)"
   ]
  },
  {
   "cell_type": "code",
   "execution_count": 163,
   "metadata": {},
   "outputs": [],
   "source": [
    "nyc_coor = [40.738, -73.98]\n",
    "precincts_data = r'C:\\Users\\Elliot\\Desktop\\NYC_Parking\\PolicePrecincts.geojson'"
   ]
  },
  {
   "cell_type": "code",
   "execution_count": 168,
   "metadata": {},
   "outputs": [
    {
     "name": "stderr",
     "output_type": "stream",
     "text": [
      "C:\\Users\\Elliot\\Anaconda3\\lib\\site-packages\\folium\\folium.py:415: FutureWarning: The choropleth  method has been deprecated. Instead use the new Choropleth class, which has the same arguments. See the example notebook 'GeoJSON_and_choropleth' for how to do this.\n",
      "  FutureWarning\n"
     ]
    }
   ],
   "source": [
    "df_map2 = folium.Map(location=nyc_coor,zoom_start=11)\n",
    "df_map2.choropleth(geo_data=precincts_data,\n",
    "                        data=df_map,\n",
    "                        key_on='feature.properties.precinct',\n",
    "                        columns=['Violation Precinct', 'counts'],\n",
    "                        fill_color='BuGn', \n",
    "                        fill_opacity=.7, \n",
    "                        line_opacity=0.5)\n",
    "df_map2.save('df_map2.html')"
   ]
  },
  {
   "cell_type": "code",
   "execution_count": 391,
   "metadata": {},
   "outputs": [
    {
     "data": {
      "text/plain": [
       "True"
      ]
     },
     "execution_count": 391,
     "metadata": {},
     "output_type": "execute_result"
    }
   ],
   "source": [
    "webbrowser.open('df_map2.html')"
   ]
  },
  {
   "cell_type": "markdown",
   "metadata": {},
   "source": [
    "# Miscellaneous from here down"
   ]
  },
  {
   "cell_type": "markdown",
   "metadata": {},
   "source": [
    "#### Split based on hour of day"
   ]
  },
  {
   "cell_type": "code",
   "execution_count": 72,
   "metadata": {},
   "outputs": [],
   "source": [
    "def check_time(example_string):\n",
    "    if len(example_string) == 5 and example_string[4] in {'A', 'P'} and example_string[0:4].isdigit() and int(example_string[0:4]) < 1300:\n",
    "        return True\n",
    "    else:\n",
    "        return False"
   ]
  },
  {
   "cell_type": "code",
   "execution_count": 73,
   "metadata": {},
   "outputs": [
    {
     "name": "stderr",
     "output_type": "stream",
     "text": [
      "100%|██████████████████████████████████████████████████████████████████| 28229809/28229809 [00:37<00:00, 757641.23it/s]\n"
     ]
    }
   ],
   "source": [
    "dfcombined3['ViolationTimeIsValid'] = dfcombined3['Violation Time'].astype('str').progress_apply(check_time)"
   ]
  },
  {
   "cell_type": "code",
   "execution_count": 74,
   "metadata": {},
   "outputs": [
    {
     "data": {
      "text/plain": [
       "True     28228699\n",
       "False        1110\n",
       "Name: ViolationTimeIsValid, dtype: int64"
      ]
     },
     "execution_count": 74,
     "metadata": {},
     "output_type": "execute_result"
    }
   ],
   "source": [
    "dfcombined3['ViolationTimeIsValid'].value_counts()"
   ]
  },
  {
   "cell_type": "code",
   "execution_count": 75,
   "metadata": {},
   "outputs": [],
   "source": [
    "def violation_hour(example_string):\n",
    "    if check_time(example_string) == True:\n",
    "        if int(example_string[0:2]) in {0,12} and example_string[4] == 'A':\n",
    "            return 0\n",
    "        elif int(example_string[0:2]) in {0,12} and example_string[4] == 'P':\n",
    "            return 12\n",
    "        elif example_string[4] == 'A':\n",
    "            return int(example_string[0:2])\n",
    "        elif example_string[4] == 'P':\n",
    "            return int(example_string[0:2]) + 12\n",
    "        else:\n",
    "            return None\n",
    "    else:\n",
    "        return None"
   ]
  },
  {
   "cell_type": "code",
   "execution_count": 76,
   "metadata": {},
   "outputs": [
    {
     "name": "stderr",
     "output_type": "stream",
     "text": [
      "100%|██████████████████████████████████████████████████████████████████| 28229809/28229809 [01:08<00:00, 412828.01it/s]\n"
     ]
    }
   ],
   "source": [
    "dfcombined3['ViolationHour'] = dfcombined3['Violation Time'].astype('str').progress_apply(violation_hour)"
   ]
  },
  {
   "cell_type": "code",
   "execution_count": 77,
   "metadata": {},
   "outputs": [],
   "source": [
    "def segment_time_block(example_int):\n",
    "    if example_int < 8: \n",
    "        return '12AM to 8AM'\n",
    "    elif example_int > 7 and example_int < 16:\n",
    "        return '8AM to 4PM'\n",
    "    elif example_int > 15:\n",
    "        return '4PM to 12AM'\n",
    "    else:\n",
    "        return None"
   ]
  },
  {
   "cell_type": "code",
   "execution_count": 79,
   "metadata": {},
   "outputs": [
    {
     "name": "stderr",
     "output_type": "stream",
     "text": [
      "100%|█████████████████████████████████████████████████████████████████| 28229809/28229809 [00:23<00:00, 1180590.62it/s]\n"
     ]
    }
   ],
   "source": [
    "dfcombined3['TimeBlock'] = dfcombined3['ViolationHour'].progress_apply(segment_time_block)"
   ]
  },
  {
   "cell_type": "markdown",
   "metadata": {},
   "source": [
    "#### Split by weekdays and weekends"
   ]
  },
  {
   "cell_type": "code",
   "execution_count": 81,
   "metadata": {},
   "outputs": [],
   "source": [
    "dfweekdays = dfcombined3[dfcombined3['weekday'].isin([0,1,2,3,4])]"
   ]
  },
  {
   "cell_type": "code",
   "execution_count": 82,
   "metadata": {},
   "outputs": [],
   "source": [
    "dfweekends = dfcombined3[dfcombined3['weekday'].isin([5,6])]"
   ]
  },
  {
   "cell_type": "code",
   "execution_count": 86,
   "metadata": {},
   "outputs": [],
   "source": [
    "weekday_earlymorn = dfweekdays[dfweekdays['TimeBlock'] == '12AM to 8AM']\n",
    "weekday_daytime = dfweekdays[dfweekdays['TimeBlock'] == '8AM to 4PM']\n",
    "weekday_evening = dfweekdays[dfweekdays['TimeBlock'] == '4PM to 12AM']"
   ]
  },
  {
   "cell_type": "code",
   "execution_count": 87,
   "metadata": {},
   "outputs": [],
   "source": [
    "weekday_earlymorn_p = weekday_earlymorn.groupby(['Violation Precinct']).size().reset_index(name='counts')\n",
    "weekday_earlymorn_p['Violation Precinct'] = weekday_earlymorn_p['Violation Precinct'].astype(str)\n",
    "\n",
    "weekday_daytime_p = weekday_daytime.groupby(['Violation Precinct']).size().reset_index(name='counts')\n",
    "weekday_daytime_p['Violation Precinct'] = weekday_daytime_p['Violation Precinct'].astype(str)\n",
    "\n",
    "weekday_evening_p = weekday_evening.groupby(['Violation Precinct']).size().reset_index(name='counts')\n",
    "weekday_evening_p['Violation Precinct'] = weekday_evening_p['Violation Precinct'].astype(str)"
   ]
  },
  {
   "cell_type": "markdown",
   "metadata": {},
   "source": [
    "#### Visualizing on map"
   ]
  },
  {
   "cell_type": "code",
   "execution_count": 88,
   "metadata": {},
   "outputs": [],
   "source": [
    "nyc_coor = [40.738, -73.98]\n",
    "precincts_data = r'C:\\Users\\38150\\Desktop\\NYC_Parking\\PolicePrecincts.geojson'"
   ]
  },
  {
   "cell_type": "code",
   "execution_count": 102,
   "metadata": {},
   "outputs": [],
   "source": [
    "map_weekday_earlymorn = folium.Map(location=nyc_coor,zoom_start=11)\n",
    "map_weekday_earlymorn.choropleth(geo_data=precincts_data,\n",
    "                        data=weekday_earlymorn_p,\n",
    "                        key_on='feature.properties.precinct',\n",
    "                        columns=['Violation Precinct', 'counts'],\n",
    "                        fill_color='BuGn', \n",
    "                        fill_opacity=.7, \n",
    "                        line_opacity=0.5,\n",
    "                        threshold_scale=[0, 75000, 150000, 225000, 300000, 2000000])\n",
    "map_weekday_earlymorn.save('weekday_early_morn.html')"
   ]
  },
  {
   "cell_type": "code",
   "execution_count": 103,
   "metadata": {},
   "outputs": [
    {
     "data": {
      "text/plain": [
       "True"
      ]
     },
     "execution_count": 103,
     "metadata": {},
     "output_type": "execute_result"
    }
   ],
   "source": [
    "webbrowser.open('weekday_early_morn.html')"
   ]
  },
  {
   "cell_type": "code",
   "execution_count": 106,
   "metadata": {},
   "outputs": [],
   "source": [
    "map_weekday_daytime = folium.Map(location=nyc_coor,zoom_start=11)\n",
    "map_weekday_daytime.choropleth(geo_data=precincts_data,\n",
    "                        data=weekday_daytime_p,\n",
    "                        key_on='feature.properties.precinct',\n",
    "                        columns=['Violation Precinct', 'counts'],\n",
    "                        fill_color='BuGn', \n",
    "                        fill_opacity=.7, \n",
    "                        line_opacity=0.5,\n",
    "                        threshold_scale=[0, 75000, 150000, 225000, 300000, 2000000])\n",
    "map_weekday_daytime.save('weekday_daytime.html')"
   ]
  },
  {
   "cell_type": "code",
   "execution_count": 107,
   "metadata": {},
   "outputs": [
    {
     "data": {
      "text/plain": [
       "True"
      ]
     },
     "execution_count": 107,
     "metadata": {},
     "output_type": "execute_result"
    }
   ],
   "source": [
    "webbrowser.open('weekday_daytime.html')"
   ]
  },
  {
   "cell_type": "code",
   "execution_count": 104,
   "metadata": {},
   "outputs": [],
   "source": [
    "map_weekday_evening = folium.Map(location=nyc_coor,zoom_start=11)\n",
    "map_weekday_evening.choropleth(geo_data=precincts_data,\n",
    "                        data=weekday_evening_p,\n",
    "                        key_on='feature.properties.precinct',\n",
    "                        columns=['Violation Precinct', 'counts'],\n",
    "                        fill_color='BuGn', \n",
    "                        fill_opacity=.7, \n",
    "                        line_opacity=0.5,\n",
    "                        threshold_scale=[0, 75000, 150000, 225000, 300000, 2000000])\n",
    "map_weekday_evening.save('weekday_evening.html')"
   ]
  },
  {
   "cell_type": "code",
   "execution_count": 105,
   "metadata": {},
   "outputs": [
    {
     "data": {
      "text/plain": [
       "True"
      ]
     },
     "execution_count": 105,
     "metadata": {},
     "output_type": "execute_result"
    }
   ],
   "source": [
    "webbrowser.open('weekday_evening.html')"
   ]
  },
  {
   "cell_type": "code",
   "execution_count": 55,
   "metadata": {},
   "outputs": [],
   "source": [
    "dfweekendprecincts = dfweekends.groupby(['Violation Precinct']).size().reset_index(name='counts')"
   ]
  },
  {
   "cell_type": "code",
   "execution_count": 56,
   "metadata": {},
   "outputs": [],
   "source": [
    "dfweekendprecincts['Violation Precinct'] = dfweekendprecincts['Violation Precinct'].astype(str)"
   ]
  },
  {
   "cell_type": "code",
   "execution_count": 57,
   "metadata": {},
   "outputs": [],
   "source": [
    "nyc_coor = [40.738, -73.98]\n",
    "nyc_parking_map2 = folium.Map(location=nyc_coor,zoom_start=11)\n",
    "precincts_data = r'C:\\Users\\38150\\Desktop\\NYC_Parking\\PolicePrecincts.geojson'\n",
    "\n",
    "# make the chorlopleth map\n",
    "nyc_parking_map2.choropleth(geo_data=precincts_data,\n",
    "                        data=dfweekendprecincts,\n",
    "                        key_on='feature.properties.precinct',\n",
    "                        columns=['Violation Precinct', 'counts'],\n",
    "                        fill_color='BuGn', \n",
    "                        fill_opacity=.7, \n",
    "                        line_opacity=0.5)"
   ]
  },
  {
   "cell_type": "code",
   "execution_count": 58,
   "metadata": {},
   "outputs": [],
   "source": [
    "nyc_parking_map2.save('weekendmap.html')"
   ]
  },
  {
   "cell_type": "code",
   "execution_count": 60,
   "metadata": {},
   "outputs": [
    {
     "data": {
      "text/plain": [
       "True"
      ]
     },
     "execution_count": 60,
     "metadata": {},
     "output_type": "execute_result"
    }
   ],
   "source": [
    "webbrowser.open('weekendmap.html')"
   ]
  },
  {
   "cell_type": "code",
   "execution_count": 65,
   "metadata": {},
   "outputs": [
    {
     "data": {
      "text/html": [
       "<div>\n",
       "<style scoped>\n",
       "    .dataframe tbody tr th:only-of-type {\n",
       "        vertical-align: middle;\n",
       "    }\n",
       "\n",
       "    .dataframe tbody tr th {\n",
       "        vertical-align: top;\n",
       "    }\n",
       "\n",
       "    .dataframe thead th {\n",
       "        text-align: right;\n",
       "    }\n",
       "</style>\n",
       "<table border=\"1\" class=\"dataframe\">\n",
       "  <thead>\n",
       "    <tr style=\"text-align: right;\">\n",
       "      <th></th>\n",
       "      <th>Summons Number</th>\n",
       "      <th>Issue Date</th>\n",
       "      <th>Violation Code</th>\n",
       "      <th>Issuing Agency</th>\n",
       "      <th>Street Code1</th>\n",
       "      <th>Street Code2</th>\n",
       "      <th>Street Code3</th>\n",
       "      <th>Vehicle Expiration Date</th>\n",
       "      <th>Violation Precinct</th>\n",
       "      <th>Issuer Precinct</th>\n",
       "      <th>Violation Time</th>\n",
       "      <th>Time First Observed</th>\n",
       "      <th>Violation County</th>\n",
       "      <th>House Number</th>\n",
       "      <th>Street Name</th>\n",
       "      <th>Intersecting Street</th>\n",
       "      <th>year</th>\n",
       "      <th>month</th>\n",
       "      <th>day</th>\n",
       "      <th>weekday</th>\n",
       "    </tr>\n",
       "  </thead>\n",
       "  <tbody>\n",
       "    <tr>\n",
       "      <th>20</th>\n",
       "      <td>1253001145</td>\n",
       "      <td>2018-06-23</td>\n",
       "      <td>14</td>\n",
       "      <td>X</td>\n",
       "      <td>64790</td>\n",
       "      <td>28265</td>\n",
       "      <td>54102</td>\n",
       "      <td>20190918</td>\n",
       "      <td>103</td>\n",
       "      <td>968</td>\n",
       "      <td>1259P</td>\n",
       "      <td>NaN</td>\n",
       "      <td>Q</td>\n",
       "      <td>93-02</td>\n",
       "      <td>SUTPHIN BLVD</td>\n",
       "      <td>NaN</td>\n",
       "      <td>2018.0</td>\n",
       "      <td>6.0</td>\n",
       "      <td>23.0</td>\n",
       "      <td>5.0</td>\n",
       "    </tr>\n",
       "    <tr>\n",
       "      <th>21</th>\n",
       "      <td>1253017293</td>\n",
       "      <td>2018-07-07</td>\n",
       "      <td>20</td>\n",
       "      <td>X</td>\n",
       "      <td>27790</td>\n",
       "      <td>17810</td>\n",
       "      <td>17830</td>\n",
       "      <td>20180804</td>\n",
       "      <td>25</td>\n",
       "      <td>968</td>\n",
       "      <td>0900A</td>\n",
       "      <td>NaN</td>\n",
       "      <td>NaN</td>\n",
       "      <td>NaN</td>\n",
       "      <td>E 126 PARK AVE</td>\n",
       "      <td>NaN</td>\n",
       "      <td>2018.0</td>\n",
       "      <td>7.0</td>\n",
       "      <td>7.0</td>\n",
       "      <td>5.0</td>\n",
       "    </tr>\n",
       "    <tr>\n",
       "      <th>25</th>\n",
       "      <td>1254457574</td>\n",
       "      <td>2018-07-15</td>\n",
       "      <td>20</td>\n",
       "      <td>P</td>\n",
       "      <td>34590</td>\n",
       "      <td>10810</td>\n",
       "      <td>10910</td>\n",
       "      <td>20180711</td>\n",
       "      <td>14</td>\n",
       "      <td>0</td>\n",
       "      <td>1025P</td>\n",
       "      <td>NaN</td>\n",
       "      <td>NY</td>\n",
       "      <td>327</td>\n",
       "      <td>W 41ST STREET</td>\n",
       "      <td>NaN</td>\n",
       "      <td>2018.0</td>\n",
       "      <td>7.0</td>\n",
       "      <td>15.0</td>\n",
       "      <td>6.0</td>\n",
       "    </tr>\n",
       "    <tr>\n",
       "      <th>47</th>\n",
       "      <td>1334884870</td>\n",
       "      <td>2018-05-05</td>\n",
       "      <td>20</td>\n",
       "      <td>X</td>\n",
       "      <td>9540</td>\n",
       "      <td>16740</td>\n",
       "      <td>35780</td>\n",
       "      <td>20190808</td>\n",
       "      <td>110</td>\n",
       "      <td>976</td>\n",
       "      <td>0715A</td>\n",
       "      <td>NaN</td>\n",
       "      <td>Q</td>\n",
       "      <td>81-09</td>\n",
       "      <td>41ST AVENUE</td>\n",
       "      <td>NaN</td>\n",
       "      <td>2018.0</td>\n",
       "      <td>5.0</td>\n",
       "      <td>5.0</td>\n",
       "      <td>5.0</td>\n",
       "    </tr>\n",
       "    <tr>\n",
       "      <th>49</th>\n",
       "      <td>1335629300</td>\n",
       "      <td>2018-06-17</td>\n",
       "      <td>14</td>\n",
       "      <td>F</td>\n",
       "      <td>25530</td>\n",
       "      <td>73470</td>\n",
       "      <td>23230</td>\n",
       "      <td>20180930</td>\n",
       "      <td>73</td>\n",
       "      <td>252</td>\n",
       "      <td>1000A</td>\n",
       "      <td>0900A</td>\n",
       "      <td>K</td>\n",
       "      <td>510</td>\n",
       "      <td>CHAUNCEY ST</td>\n",
       "      <td>NaN</td>\n",
       "      <td>2018.0</td>\n",
       "      <td>6.0</td>\n",
       "      <td>17.0</td>\n",
       "      <td>6.0</td>\n",
       "    </tr>\n",
       "  </tbody>\n",
       "</table>\n",
       "</div>"
      ],
      "text/plain": [
       "    Summons Number Issue Date  Violation Code Issuing Agency  Street Code1  \\\n",
       "20      1253001145 2018-06-23              14              X         64790   \n",
       "21      1253017293 2018-07-07              20              X         27790   \n",
       "25      1254457574 2018-07-15              20              P         34590   \n",
       "47      1334884870 2018-05-05              20              X          9540   \n",
       "49      1335629300 2018-06-17              14              F         25530   \n",
       "\n",
       "    Street Code2  Street Code3  Vehicle Expiration Date  Violation Precinct  \\\n",
       "20         28265         54102                 20190918                 103   \n",
       "21         17810         17830                 20180804                  25   \n",
       "25         10810         10910                 20180711                  14   \n",
       "47         16740         35780                 20190808                 110   \n",
       "49         73470         23230                 20180930                  73   \n",
       "\n",
       "    Issuer Precinct Violation Time Time First Observed Violation County  \\\n",
       "20              968          1259P                 NaN                Q   \n",
       "21              968          0900A                 NaN              NaN   \n",
       "25                0          1025P                 NaN               NY   \n",
       "47              976          0715A                 NaN                Q   \n",
       "49              252          1000A               0900A                K   \n",
       "\n",
       "   House Number     Street Name Intersecting Street    year  month   day  \\\n",
       "20        93-02    SUTPHIN BLVD                 NaN  2018.0    6.0  23.0   \n",
       "21          NaN  E 126 PARK AVE                 NaN  2018.0    7.0   7.0   \n",
       "25          327   W 41ST STREET                 NaN  2018.0    7.0  15.0   \n",
       "47        81-09     41ST AVENUE                 NaN  2018.0    5.0   5.0   \n",
       "49          510     CHAUNCEY ST                 NaN  2018.0    6.0  17.0   \n",
       "\n",
       "    weekday  \n",
       "20      5.0  \n",
       "21      5.0  \n",
       "25      6.0  \n",
       "47      5.0  \n",
       "49      6.0  "
      ]
     },
     "execution_count": 65,
     "metadata": {},
     "output_type": "execute_result"
    }
   ],
   "source": [
    "dfweekends.head()"
   ]
  },
  {
   "cell_type": "code",
   "execution_count": 66,
   "metadata": {},
   "outputs": [],
   "source": [
    "def check_time(example_string):\n",
    "    if len(example_string) == 5 and example_string[4] in {'A', 'P'} and example_string[0:4].isdigit() and int(example_string[0:4]) < 1300:\n",
    "        return True\n",
    "    else:\n",
    "        return False"
   ]
  },
  {
   "cell_type": "code",
   "execution_count": 67,
   "metadata": {},
   "outputs": [
    {
     "name": "stderr",
     "output_type": "stream",
     "text": [
      "100%|████████████████████████████████████████████████████████████████████| 4177063/4177063 [00:05<00:00, 753957.84it/s]\n",
      "C:\\Users\\38150\\AppData\\Local\\Continuum\\anaconda3\\lib\\site-packages\\ipykernel_launcher.py:1: SettingWithCopyWarning: \n",
      "A value is trying to be set on a copy of a slice from a DataFrame.\n",
      "Try using .loc[row_indexer,col_indexer] = value instead\n",
      "\n",
      "See the caveats in the documentation: http://pandas.pydata.org/pandas-docs/stable/indexing.html#indexing-view-versus-copy\n",
      "  \"\"\"Entry point for launching an IPython kernel.\n"
     ]
    }
   ],
   "source": [
    "dfweekends['ViolationTimeIsValid'] = dfweekends['Violation Time'].astype('str').progress_apply(check_time)"
   ]
  },
  {
   "cell_type": "code",
   "execution_count": 68,
   "metadata": {},
   "outputs": [
    {
     "data": {
      "text/plain": [
       "True     4176825\n",
       "False        238\n",
       "Name: ViolationTimeIsValid, dtype: int64"
      ]
     },
     "execution_count": 68,
     "metadata": {},
     "output_type": "execute_result"
    }
   ],
   "source": [
    "dfweekends['ViolationTimeIsValid'].value_counts()"
   ]
  },
  {
   "cell_type": "code",
   "execution_count": 69,
   "metadata": {},
   "outputs": [],
   "source": [
    "def violation_hour(example_string):\n",
    "    if check_time(example_string) == True:\n",
    "        if int(example_string[0:2]) in {0,12} and example_string[4] == 'A':\n",
    "            return 0\n",
    "        elif int(example_string[0:2]) in {0,12} and example_string[4] == 'P':\n",
    "            return 12\n",
    "        elif example_string[4] == 'A':\n",
    "            return int(example_string[0:2])\n",
    "        elif example_string[4] == 'P':\n",
    "            return int(example_string[0:2]) + 12\n",
    "        else:\n",
    "            return None\n",
    "    else:\n",
    "        return None"
   ]
  },
  {
   "cell_type": "code",
   "execution_count": 70,
   "metadata": {},
   "outputs": [
    {
     "name": "stderr",
     "output_type": "stream",
     "text": [
      "100%|████████████████████████████████████████████████████████████████████| 4177063/4177063 [00:09<00:00, 452781.50it/s]\n",
      "C:\\Users\\38150\\AppData\\Local\\Continuum\\anaconda3\\lib\\site-packages\\ipykernel_launcher.py:1: SettingWithCopyWarning: \n",
      "A value is trying to be set on a copy of a slice from a DataFrame.\n",
      "Try using .loc[row_indexer,col_indexer] = value instead\n",
      "\n",
      "See the caveats in the documentation: http://pandas.pydata.org/pandas-docs/stable/indexing.html#indexing-view-versus-copy\n",
      "  \"\"\"Entry point for launching an IPython kernel.\n"
     ]
    }
   ],
   "source": [
    "dfweekends['ViolationHour'] = dfweekends['Violation Time'].astype('str').progress_apply(violation_hour)"
   ]
  },
  {
   "cell_type": "code",
   "execution_count": 71,
   "metadata": {},
   "outputs": [
    {
     "data": {
      "text/html": [
       "<div>\n",
       "<style scoped>\n",
       "    .dataframe tbody tr th:only-of-type {\n",
       "        vertical-align: middle;\n",
       "    }\n",
       "\n",
       "    .dataframe tbody tr th {\n",
       "        vertical-align: top;\n",
       "    }\n",
       "\n",
       "    .dataframe thead th {\n",
       "        text-align: right;\n",
       "    }\n",
       "</style>\n",
       "<table border=\"1\" class=\"dataframe\">\n",
       "  <thead>\n",
       "    <tr style=\"text-align: right;\">\n",
       "      <th></th>\n",
       "      <th>Summons Number</th>\n",
       "      <th>Issue Date</th>\n",
       "      <th>Violation Code</th>\n",
       "      <th>Issuing Agency</th>\n",
       "      <th>Street Code1</th>\n",
       "      <th>Street Code2</th>\n",
       "      <th>Street Code3</th>\n",
       "      <th>Vehicle Expiration Date</th>\n",
       "      <th>Violation Precinct</th>\n",
       "      <th>Issuer Precinct</th>\n",
       "      <th>...</th>\n",
       "      <th>Violation County</th>\n",
       "      <th>House Number</th>\n",
       "      <th>Street Name</th>\n",
       "      <th>Intersecting Street</th>\n",
       "      <th>year</th>\n",
       "      <th>month</th>\n",
       "      <th>day</th>\n",
       "      <th>weekday</th>\n",
       "      <th>ViolationTimeIsValid</th>\n",
       "      <th>ViolationHour</th>\n",
       "    </tr>\n",
       "  </thead>\n",
       "  <tbody>\n",
       "    <tr>\n",
       "      <th>20</th>\n",
       "      <td>1253001145</td>\n",
       "      <td>2018-06-23</td>\n",
       "      <td>14</td>\n",
       "      <td>X</td>\n",
       "      <td>64790</td>\n",
       "      <td>28265</td>\n",
       "      <td>54102</td>\n",
       "      <td>20190918</td>\n",
       "      <td>103</td>\n",
       "      <td>968</td>\n",
       "      <td>...</td>\n",
       "      <td>Q</td>\n",
       "      <td>93-02</td>\n",
       "      <td>SUTPHIN BLVD</td>\n",
       "      <td>NaN</td>\n",
       "      <td>2018.0</td>\n",
       "      <td>6.0</td>\n",
       "      <td>23.0</td>\n",
       "      <td>5.0</td>\n",
       "      <td>True</td>\n",
       "      <td>12.0</td>\n",
       "    </tr>\n",
       "    <tr>\n",
       "      <th>21</th>\n",
       "      <td>1253017293</td>\n",
       "      <td>2018-07-07</td>\n",
       "      <td>20</td>\n",
       "      <td>X</td>\n",
       "      <td>27790</td>\n",
       "      <td>17810</td>\n",
       "      <td>17830</td>\n",
       "      <td>20180804</td>\n",
       "      <td>25</td>\n",
       "      <td>968</td>\n",
       "      <td>...</td>\n",
       "      <td>NaN</td>\n",
       "      <td>NaN</td>\n",
       "      <td>E 126 PARK AVE</td>\n",
       "      <td>NaN</td>\n",
       "      <td>2018.0</td>\n",
       "      <td>7.0</td>\n",
       "      <td>7.0</td>\n",
       "      <td>5.0</td>\n",
       "      <td>True</td>\n",
       "      <td>9.0</td>\n",
       "    </tr>\n",
       "    <tr>\n",
       "      <th>25</th>\n",
       "      <td>1254457574</td>\n",
       "      <td>2018-07-15</td>\n",
       "      <td>20</td>\n",
       "      <td>P</td>\n",
       "      <td>34590</td>\n",
       "      <td>10810</td>\n",
       "      <td>10910</td>\n",
       "      <td>20180711</td>\n",
       "      <td>14</td>\n",
       "      <td>0</td>\n",
       "      <td>...</td>\n",
       "      <td>NY</td>\n",
       "      <td>327</td>\n",
       "      <td>W 41ST STREET</td>\n",
       "      <td>NaN</td>\n",
       "      <td>2018.0</td>\n",
       "      <td>7.0</td>\n",
       "      <td>15.0</td>\n",
       "      <td>6.0</td>\n",
       "      <td>True</td>\n",
       "      <td>22.0</td>\n",
       "    </tr>\n",
       "    <tr>\n",
       "      <th>47</th>\n",
       "      <td>1334884870</td>\n",
       "      <td>2018-05-05</td>\n",
       "      <td>20</td>\n",
       "      <td>X</td>\n",
       "      <td>9540</td>\n",
       "      <td>16740</td>\n",
       "      <td>35780</td>\n",
       "      <td>20190808</td>\n",
       "      <td>110</td>\n",
       "      <td>976</td>\n",
       "      <td>...</td>\n",
       "      <td>Q</td>\n",
       "      <td>81-09</td>\n",
       "      <td>41ST AVENUE</td>\n",
       "      <td>NaN</td>\n",
       "      <td>2018.0</td>\n",
       "      <td>5.0</td>\n",
       "      <td>5.0</td>\n",
       "      <td>5.0</td>\n",
       "      <td>True</td>\n",
       "      <td>7.0</td>\n",
       "    </tr>\n",
       "    <tr>\n",
       "      <th>49</th>\n",
       "      <td>1335629300</td>\n",
       "      <td>2018-06-17</td>\n",
       "      <td>14</td>\n",
       "      <td>F</td>\n",
       "      <td>25530</td>\n",
       "      <td>73470</td>\n",
       "      <td>23230</td>\n",
       "      <td>20180930</td>\n",
       "      <td>73</td>\n",
       "      <td>252</td>\n",
       "      <td>...</td>\n",
       "      <td>K</td>\n",
       "      <td>510</td>\n",
       "      <td>CHAUNCEY ST</td>\n",
       "      <td>NaN</td>\n",
       "      <td>2018.0</td>\n",
       "      <td>6.0</td>\n",
       "      <td>17.0</td>\n",
       "      <td>6.0</td>\n",
       "      <td>True</td>\n",
       "      <td>10.0</td>\n",
       "    </tr>\n",
       "  </tbody>\n",
       "</table>\n",
       "<p>5 rows × 22 columns</p>\n",
       "</div>"
      ],
      "text/plain": [
       "    Summons Number Issue Date  Violation Code Issuing Agency  Street Code1  \\\n",
       "20      1253001145 2018-06-23              14              X         64790   \n",
       "21      1253017293 2018-07-07              20              X         27790   \n",
       "25      1254457574 2018-07-15              20              P         34590   \n",
       "47      1334884870 2018-05-05              20              X          9540   \n",
       "49      1335629300 2018-06-17              14              F         25530   \n",
       "\n",
       "    Street Code2  Street Code3  Vehicle Expiration Date  Violation Precinct  \\\n",
       "20         28265         54102                 20190918                 103   \n",
       "21         17810         17830                 20180804                  25   \n",
       "25         10810         10910                 20180711                  14   \n",
       "47         16740         35780                 20190808                 110   \n",
       "49         73470         23230                 20180930                  73   \n",
       "\n",
       "    Issuer Precinct  ... Violation County House Number     Street Name  \\\n",
       "20              968  ...                Q        93-02    SUTPHIN BLVD   \n",
       "21              968  ...              NaN          NaN  E 126 PARK AVE   \n",
       "25                0  ...               NY          327   W 41ST STREET   \n",
       "47              976  ...                Q        81-09     41ST AVENUE   \n",
       "49              252  ...                K          510     CHAUNCEY ST   \n",
       "\n",
       "   Intersecting Street    year month   day  weekday  ViolationTimeIsValid  \\\n",
       "20                 NaN  2018.0   6.0  23.0      5.0                  True   \n",
       "21                 NaN  2018.0   7.0   7.0      5.0                  True   \n",
       "25                 NaN  2018.0   7.0  15.0      6.0                  True   \n",
       "47                 NaN  2018.0   5.0   5.0      5.0                  True   \n",
       "49                 NaN  2018.0   6.0  17.0      6.0                  True   \n",
       "\n",
       "    ViolationHour  \n",
       "20           12.0  \n",
       "21            9.0  \n",
       "25           22.0  \n",
       "47            7.0  \n",
       "49           10.0  \n",
       "\n",
       "[5 rows x 22 columns]"
      ]
     },
     "execution_count": 71,
     "metadata": {},
     "output_type": "execute_result"
    }
   ],
   "source": [
    "dfweekends.head()"
   ]
  },
  {
   "cell_type": "code",
   "execution_count": null,
   "metadata": {},
   "outputs": [],
   "source": [
    "def map_to_county(example_string):\n",
    "    if example_string in {'BK', 'K'}:\n",
    "        return 'Brooklyn'\n",
    "    elif example_string in {'BX'}:\n",
    "        return 'Bronx'\n",
    "    elif example_string in {'MN', 'NY'}:\n",
    "        return 'Manhanttan'\n",
    "    elif example_string in {'Q', 'QN'}:\n",
    "        return 'Queens'\n",
    "    elif example_string in {'R', 'ST'}:\n",
    "        return 'Staten Island'\n",
    "    else:\n",
    "        return None"
   ]
  },
  {
   "cell_type": "code",
   "execution_count": null,
   "metadata": {},
   "outputs": [],
   "source": []
  },
  {
   "cell_type": "code",
   "execution_count": 74,
   "metadata": {
    "scrolled": true
   },
   "outputs": [],
   "source": [
    "count_by_hour = df[['ViolationHour']].groupby(['ViolationHour']).size()"
   ]
  },
  {
   "cell_type": "code",
   "execution_count": 87,
   "metadata": {},
   "outputs": [],
   "source": [
    "hour = count_by_hour.index"
   ]
  },
  {
   "cell_type": "code",
   "execution_count": 88,
   "metadata": {},
   "outputs": [],
   "source": [
    "count_of_tickets = count_by_hour.values"
   ]
  },
  {
   "cell_type": "code",
   "execution_count": 90,
   "metadata": {},
   "outputs": [
    {
     "data": {
      "image/png": "[encoded data removed]",
      "text/plain": [
       "<Figure size 432x288 with 1 Axes>"
      ]
     },
     "metadata": {},
     "output_type": "display_data"
    }
   ],
   "source": [
    "plt.style.use('fivethirtyeight')\n",
    "plt.title('2018-19 NYC parking tickets by hour')\n",
    "plt.xlabel('Time of day (military)')\n",
    "plt.ylabel('Number of parking tickets')\n",
    "\n",
    "plt.bar(hour, count_of_tickets, align='center')\n",
    "plt.show()"
   ]
  },
  {
   "cell_type": "code",
   "execution_count": 91,
   "metadata": {},
   "outputs": [],
   "source": [
    "def map_to_county(example_string):\n",
    "    if example_string in {'BK', 'K'}:\n",
    "        return 'Brooklyn'\n",
    "    elif example_string in {'BX'}:\n",
    "        return 'Bronx'\n",
    "    elif example_string in {'MN', 'NY'}:\n",
    "        return 'Manhanttan'\n",
    "    elif example_string in {'Q', 'QN'}:\n",
    "        return 'Queens'\n",
    "    elif example_string in {'R', 'ST'}:\n",
    "        return 'Staten Island'\n",
    "    else:\n",
    "        return None"
   ]
  },
  {
   "cell_type": "code",
   "execution_count": 92,
   "metadata": {},
   "outputs": [
    {
     "name": "stderr",
     "output_type": "stream",
     "text": [
      "100%|█████████████████████████████████████████████████████████████████████████████████████████████████████████████████████| 11467506/11467506 [00:10<00:00, 1116727.71it/s]\n"
     ]
    }
   ],
   "source": [
    "df['County'] = df['Violation County'].astype('str').progress_apply(map_to_county)"
   ]
  },
  {
   "cell_type": "code",
   "execution_count": 93,
   "metadata": {},
   "outputs": [
    {
     "data": {
      "text/plain": [
       "Manhanttan       3924897\n",
       "Brooklyn         3006470\n",
       "Queens           2712996\n",
       "Bronx            1493844\n",
       "Staten Island     280222\n",
       "Name: County, dtype: int64"
      ]
     },
     "execution_count": 93,
     "metadata": {},
     "output_type": "execute_result"
    }
   ],
   "source": [
    "df['County'].value_counts()"
   ]
  },
  {
   "cell_type": "code",
   "execution_count": 94,
   "metadata": {},
   "outputs": [],
   "source": [
    "def season(example_string):\n",
    "    month = example_string[0:2]\n",
    "    if month in {'12', '01', '02'}:\n",
    "        return 'Winter'    \n",
    "    elif month in {'03', '04', '05'}:\n",
    "        return 'Spring'\n",
    "    elif month in {'06', '07', '08'}:\n",
    "        return 'Summer'\n",
    "    elif month in {'09', '10', '11'}:\n",
    "        return 'Fall'\n",
    "    else:\n",
    "        return None"
   ]
  },
  {
   "cell_type": "code",
   "execution_count": 96,
   "metadata": {},
   "outputs": [
    {
     "name": "stderr",
     "output_type": "stream",
     "text": [
      "100%|██████████████████████████████████████████████████████████████████████████████████████████████████████████████████████| 11467506/11467506 [00:11<00:00, 986213.50it/s]\n"
     ]
    }
   ],
   "source": [
    "df['Season'] = df['Issue Date'].astype('str').progress_apply(season)"
   ]
  },
  {
   "cell_type": "code",
   "execution_count": 97,
   "metadata": {},
   "outputs": [
    {
     "data": {
      "text/plain": [
       "Fall      3068445\n",
       "Spring    2830162\n",
       "Winter    2826846\n",
       "Summer    2742053\n",
       "Name: Season, dtype: int64"
      ]
     },
     "execution_count": 97,
     "metadata": {},
     "output_type": "execute_result"
    }
   ],
   "source": [
    "df['Season'].value_counts()"
   ]
  },
  {
   "cell_type": "code",
   "execution_count": 102,
   "metadata": {},
   "outputs": [],
   "source": [
    "count_by_county_for_winter = df[df['Season'] == 'Winter'].groupby(['County']).size()\n",
    "count_by_county_for_spring = df[df['Season'] == 'Spring'].groupby(['County']).size()\n",
    "count_by_county_for_summer = df[df['Season'] == 'Summer'].groupby(['County']).size()\n",
    "count_by_county_for_fall = df[df['Season'] == 'Fall'].groupby(['County']).size()"
   ]
  },
  {
   "cell_type": "code",
   "execution_count": null,
   "metadata": {},
   "outputs": [],
   "source": [
    "print(count_by_county_for_winter)\n",
    "print(count_by_county_for_spring)\n",
    "print(count_by_county_for_summer)\n",
    "print(count_by_county_for_fall)"
   ]
  },
  {
   "cell_type": "code",
   "execution_count": 104,
   "metadata": {},
   "outputs": [
    {
     "data": {
      "text/plain": [
       "array([377294, 751676, 937997, 677141,  70607], dtype=int64)"
      ]
     },
     "execution_count": 104,
     "metadata": {},
     "output_type": "execute_result"
    }
   ],
   "source": [
    "count_by_county_for_winter.values"
   ]
  },
  {
   "cell_type": "code",
   "execution_count": 114,
   "metadata": {},
   "outputs": [
    {
     "data": {
      "image/png": "[encoded data removed]",
      "text/plain": [
       "<Figure size 432x288 with 1 Axes>"
      ]
     },
     "metadata": {},
     "output_type": "display_data"
    }
   ],
   "source": [
    "plt.title('2018-19 NYC parking tickets by County')\n",
    "plt.xlabel('County')\n",
    "plt.ylabel('Number of parking tickets')\n",
    "\n",
    "# set width of bar\n",
    "barWidth = 0.2\n",
    " \n",
    "# set height of bar\n",
    "bars1 = count_by_county_for_winter.values\n",
    "bars2 = count_by_county_for_spring.values\n",
    "bars3 = count_by_county_for_summer.values\n",
    "bars4 = count_by_county_for_fall.values\n",
    " \n",
    "# Set position of bar on X axis\n",
    "r1 = np.arange(len(bars1))\n",
    "r2 = [x + barWidth for x in r1]\n",
    "r3 = [x + barWidth for x in r2]\n",
    "r4 = [x + barWidth for x in r3]\n",
    " \n",
    "# Make the plot\n",
    "plt.bar(r1, bars1, width=barWidth, edgecolor='white', label='Winter')\n",
    "plt.bar(r2, bars2, width=barWidth, edgecolor='white', label='Spring')\n",
    "plt.bar(r3, bars3, width=barWidth, edgecolor='white', label='Summer')\n",
    "plt.bar(r4, bars4, width=barWidth, edgecolor='white', label='Fall')\n",
    " \n",
    "# Add xticks on the middle of the group bars\n",
    "plt.xlabel('County', fontweight='bold')\n",
    "plt.xticks([r + barWidth for r in range(len(bars1))], ['Bronx', 'Brooklyn', 'Manhattan', 'Queens', 'Staten'])\n",
    " \n",
    "# Create legend & Show graphic\n",
    "plt.legend()\n",
    "plt.show()\n"
   ]
  },
  {
   "cell_type": "code",
   "execution_count": null,
   "metadata": {},
   "outputs": [],
   "source": []
  },
  {
   "cell_type": "code",
   "execution_count": 7,
   "metadata": {},
   "outputs": [],
   "source": [
    "count_by_precinct = df[['Violation Precinct']].groupby(['Violation Precinct']).size()\n",
    "\n",
    "count_of_tickets_by_precinct = count_by_precinct.values\n",
    "precinct = count_by_precinct.index"
   ]
  },
  {
   "cell_type": "code",
   "execution_count": 167,
   "metadata": {},
   "outputs": [],
   "source": [
    "df_manhattan = df[(df['Violation Precinct'] > 0) & df['Violation Precinct'] < 34]"
   ]
  },
  {
   "cell_type": "code",
   "execution_count": 168,
   "metadata": {},
   "outputs": [
    {
     "data": {
      "text/plain": [
       "(11467506, 43)"
      ]
     },
     "execution_count": 168,
     "metadata": {},
     "output_type": "execute_result"
    }
   ],
   "source": [
    "df_manhattan.shape"
   ]
  },
  {
   "cell_type": "code",
   "execution_count": 170,
   "metadata": {},
   "outputs": [],
   "source": [
    "df_m_precincts = df_manhattan.groupby(['Violation Precinct']).size().reset_index(name='counts')\n"
   ]
  },
  {
   "cell_type": "code",
   "execution_count": 180,
   "metadata": {
    "scrolled": true
   },
   "outputs": [],
   "source": [
    "df_m2 = df_m_precincts[1:35]"
   ]
  },
  {
   "cell_type": "code",
   "execution_count": 206,
   "metadata": {},
   "outputs": [],
   "source": [
    "df_m3 = df_m2.drop([2,3,4,8,11,12,15,16,21,22,27,29,31], axis=0)"
   ]
  },
  {
   "cell_type": "code",
   "execution_count": 207,
   "metadata": {},
   "outputs": [],
   "source": [
    "df_m3['Violation Precinct'] = df_m3['Violation Precinct'].astype(str)"
   ]
  },
  {
   "cell_type": "code",
   "execution_count": 15,
   "metadata": {},
   "outputs": [],
   "source": [
    "count_by_precinct = df_manhattan[['Violation Precinct']].groupby(['Violation Precinct']).size()\n",
    "count_of_tickets_by_precinct = count_by_precinct.values\n",
    "precinct = count_by_precinct.index"
   ]
  },
  {
   "cell_type": "code",
   "execution_count": 16,
   "metadata": {},
   "outputs": [
    {
     "data": {
      "image/png": "[encoded data removed]",
      "text/plain": [
       "<Figure size 432x288 with 1 Axes>"
      ]
     },
     "metadata": {},
     "output_type": "display_data"
    }
   ],
   "source": [
    "plt.style.use('fivethirtyeight')\n",
    "plt.title('2018-19 NYC parking tickets by police precinct')\n",
    "plt.xlabel('Precinct')\n",
    "plt.ylabel('Number of parking tickets')\n",
    "\n",
    "plt.bar(precinct, count_of_tickets_by_precinct, align='center')\n",
    "plt.show()"
   ]
  },
  {
   "cell_type": "code",
   "execution_count": 99,
   "metadata": {},
   "outputs": [
    {
     "data": {
      "text/html": [
       "<div>\n",
       "<style scoped>\n",
       "    .dataframe tbody tr th:only-of-type {\n",
       "        vertical-align: middle;\n",
       "    }\n",
       "\n",
       "    .dataframe tbody tr th {\n",
       "        vertical-align: top;\n",
       "    }\n",
       "\n",
       "    .dataframe thead th {\n",
       "        text-align: right;\n",
       "    }\n",
       "</style>\n",
       "<table border=\"1\" class=\"dataframe\">\n",
       "  <thead>\n",
       "    <tr style=\"text-align: right;\">\n",
       "      <th></th>\n",
       "      <th>Summons Number</th>\n",
       "      <th>Plate ID</th>\n",
       "      <th>Registration State</th>\n",
       "      <th>Plate Type</th>\n",
       "      <th>Issue Date</th>\n",
       "      <th>Violation Code</th>\n",
       "      <th>Vehicle Body Type</th>\n",
       "      <th>Vehicle Make</th>\n",
       "      <th>Issuing Agency</th>\n",
       "      <th>Street Code1</th>\n",
       "      <th>...</th>\n",
       "      <th>Vehicle Color</th>\n",
       "      <th>Unregistered Vehicle?</th>\n",
       "      <th>Vehicle Year</th>\n",
       "      <th>Meter Number</th>\n",
       "      <th>Feet From Curb</th>\n",
       "      <th>Violation Post Code</th>\n",
       "      <th>Violation Description</th>\n",
       "      <th>No Standing or Stopping Violation</th>\n",
       "      <th>Hydrant Violation</th>\n",
       "      <th>Double Parking Violation</th>\n",
       "    </tr>\n",
       "  </thead>\n",
       "  <tbody>\n",
       "    <tr>\n",
       "      <th>38</th>\n",
       "      <td>1268219186</td>\n",
       "      <td>L70HXF</td>\n",
       "      <td>NJ</td>\n",
       "      <td>PAS</td>\n",
       "      <td>06/21/2018</td>\n",
       "      <td>14</td>\n",
       "      <td>SUBN</td>\n",
       "      <td>HONDA</td>\n",
       "      <td>P</td>\n",
       "      <td>44890</td>\n",
       "      <td>...</td>\n",
       "      <td>WHITE</td>\n",
       "      <td>0.0</td>\n",
       "      <td>2016</td>\n",
       "      <td>-</td>\n",
       "      <td>0</td>\n",
       "      <td>NaN</td>\n",
       "      <td>NaN</td>\n",
       "      <td>NaN</td>\n",
       "      <td>NaN</td>\n",
       "      <td>NaN</td>\n",
       "    </tr>\n",
       "    <tr>\n",
       "      <th>39</th>\n",
       "      <td>1282003379</td>\n",
       "      <td>HSJ3289</td>\n",
       "      <td>NY</td>\n",
       "      <td>PAS</td>\n",
       "      <td>07/02/2018</td>\n",
       "      <td>20</td>\n",
       "      <td>P-U</td>\n",
       "      <td>DODGE</td>\n",
       "      <td>P</td>\n",
       "      <td>0</td>\n",
       "      <td>...</td>\n",
       "      <td>SILVE</td>\n",
       "      <td>0.0</td>\n",
       "      <td>2017</td>\n",
       "      <td>-</td>\n",
       "      <td>0</td>\n",
       "      <td>NaN</td>\n",
       "      <td>NaN</td>\n",
       "      <td>NaN</td>\n",
       "      <td>NaN</td>\n",
       "      <td>NaN</td>\n",
       "    </tr>\n",
       "    <tr>\n",
       "      <th>120</th>\n",
       "      <td>1385265589</td>\n",
       "      <td>HWU2742</td>\n",
       "      <td>NY</td>\n",
       "      <td>PAS</td>\n",
       "      <td>05/31/2018</td>\n",
       "      <td>20</td>\n",
       "      <td>P-U</td>\n",
       "      <td>DODGE</td>\n",
       "      <td>P</td>\n",
       "      <td>21790</td>\n",
       "      <td>...</td>\n",
       "      <td>WH</td>\n",
       "      <td>0.0</td>\n",
       "      <td>2018</td>\n",
       "      <td>-</td>\n",
       "      <td>0</td>\n",
       "      <td>NaN</td>\n",
       "      <td>NaN</td>\n",
       "      <td>NaN</td>\n",
       "      <td>NaN</td>\n",
       "      <td>NaN</td>\n",
       "    </tr>\n",
       "    <tr>\n",
       "      <th>121</th>\n",
       "      <td>1385265590</td>\n",
       "      <td>HJP7684</td>\n",
       "      <td>NY</td>\n",
       "      <td>PAS</td>\n",
       "      <td>05/31/2018</td>\n",
       "      <td>20</td>\n",
       "      <td>SUBN</td>\n",
       "      <td>BMW</td>\n",
       "      <td>P</td>\n",
       "      <td>21790</td>\n",
       "      <td>...</td>\n",
       "      <td>GY</td>\n",
       "      <td>0.0</td>\n",
       "      <td>2014</td>\n",
       "      <td>-</td>\n",
       "      <td>0</td>\n",
       "      <td>NaN</td>\n",
       "      <td>NaN</td>\n",
       "      <td>NaN</td>\n",
       "      <td>NaN</td>\n",
       "      <td>NaN</td>\n",
       "    </tr>\n",
       "    <tr>\n",
       "      <th>122</th>\n",
       "      <td>1385265607</td>\n",
       "      <td>HGR3359</td>\n",
       "      <td>NY</td>\n",
       "      <td>PAS</td>\n",
       "      <td>05/31/2018</td>\n",
       "      <td>21</td>\n",
       "      <td>SDN</td>\n",
       "      <td>MERCU</td>\n",
       "      <td>P</td>\n",
       "      <td>0</td>\n",
       "      <td>...</td>\n",
       "      <td>BLK</td>\n",
       "      <td>0.0</td>\n",
       "      <td>2006</td>\n",
       "      <td>-</td>\n",
       "      <td>0</td>\n",
       "      <td>NaN</td>\n",
       "      <td>NaN</td>\n",
       "      <td>NaN</td>\n",
       "      <td>NaN</td>\n",
       "      <td>NaN</td>\n",
       "    </tr>\n",
       "  </tbody>\n",
       "</table>\n",
       "<p>5 rows × 43 columns</p>\n",
       "</div>"
      ],
      "text/plain": [
       "     Summons Number Plate ID Registration State Plate Type  Issue Date  \\\n",
       "38       1268219186   L70HXF                 NJ        PAS  06/21/2018   \n",
       "39       1282003379  HSJ3289                 NY        PAS  07/02/2018   \n",
       "120      1385265589  HWU2742                 NY        PAS  05/31/2018   \n",
       "121      1385265590  HJP7684                 NY        PAS  05/31/2018   \n",
       "122      1385265607  HGR3359                 NY        PAS  05/31/2018   \n",
       "\n",
       "     Violation Code Vehicle Body Type Vehicle Make Issuing Agency  \\\n",
       "38               14              SUBN        HONDA              P   \n",
       "39               20               P-U        DODGE              P   \n",
       "120              20               P-U        DODGE              P   \n",
       "121              20              SUBN          BMW              P   \n",
       "122              21               SDN        MERCU              P   \n",
       "\n",
       "     Street Code1  ...  Vehicle Color  Unregistered Vehicle?  Vehicle Year  \\\n",
       "38          44890  ...          WHITE                    0.0          2016   \n",
       "39              0  ...          SILVE                    0.0          2017   \n",
       "120         21790  ...             WH                    0.0          2018   \n",
       "121         21790  ...             GY                    0.0          2014   \n",
       "122             0  ...            BLK                    0.0          2006   \n",
       "\n",
       "     Meter Number  Feet From Curb  Violation Post Code  Violation Description  \\\n",
       "38              -               0                  NaN                    NaN   \n",
       "39              -               0                  NaN                    NaN   \n",
       "120             -               0                  NaN                    NaN   \n",
       "121             -               0                  NaN                    NaN   \n",
       "122             -               0                  NaN                    NaN   \n",
       "\n",
       "    No Standing or Stopping Violation Hydrant Violation  \\\n",
       "38                                NaN               NaN   \n",
       "39                                NaN               NaN   \n",
       "120                               NaN               NaN   \n",
       "121                               NaN               NaN   \n",
       "122                               NaN               NaN   \n",
       "\n",
       "    Double Parking Violation  \n",
       "38                       NaN  \n",
       "39                       NaN  \n",
       "120                      NaN  \n",
       "121                      NaN  \n",
       "122                      NaN  \n",
       "\n",
       "[5 rows x 43 columns]"
      ]
     },
     "execution_count": 99,
     "metadata": {},
     "output_type": "execute_result"
    }
   ],
   "source": [
    "df_manhattan.head()"
   ]
  },
  {
   "cell_type": "code",
   "execution_count": 127,
   "metadata": {},
   "outputs": [],
   "source": [
    "manhattan_precinct = df_manhattan.groupby('Violation Precinct').size()"
   ]
  },
  {
   "cell_type": "code",
   "execution_count": 128,
   "metadata": {},
   "outputs": [
    {
     "data": {
      "text/plain": [
       "Violation Precinct\n",
       "5    127070\n",
       "dtype: int64"
      ]
     },
     "execution_count": 128,
     "metadata": {},
     "output_type": "execute_result"
    }
   ],
   "source": [
    "manhattan_precinct"
   ]
  },
  {
   "cell_type": "code",
   "execution_count": 25,
   "metadata": {},
   "outputs": [
    {
     "name": "stdout",
     "output_type": "stream",
     "text": [
      "Collecting package metadata (current_repodata.json): ...working... done\n",
      "Solving environment: ...working... \n",
      "The environment is inconsistent, please check the package plan carefully\n",
      "The following packages are causing the inconsistency:\n",
      "\n",
      "  - defaults/win-64::anaconda==2019.07=py37_0\n",
      "  - defaults/win-64::numba==0.44.1=py37hf9181ef_0\n",
      "done\n",
      "\n",
      "## Package Plan ##\n",
      "\n",
      "  environment location: C:\\Users\\38150\\AppData\\Local\\Continuum\\anaconda3\n",
      "\n",
      "  added / updated specs:\n",
      "    - folium\n",
      "\n",
      "\n",
      "The following packages will be downloaded:\n",
      "\n",
      "    package                    |            build\n",
      "    ---------------------------|-----------------\n",
      "    _anaconda_depends-2019.03  |           py37_0           6 KB\n",
      "    altair-3.2.0               |           py37_0         749 KB  conda-forge\n",
      "    anaconda-custom            |           py37_1           3 KB\n",
      "    branca-0.3.1               |             py_0          25 KB  conda-forge\n",
      "    ca-certificates-2019.9.11  |       hecc5488_0         181 KB  conda-forge\n",
      "    certifi-2019.9.11          |           py37_0         155 KB\n",
      "    conda-4.7.12               |           py37_0         3.0 MB  conda-forge\n",
      "    folium-0.10.0              |             py_0          59 KB  conda-forge\n",
      "    openssl-1.1.1c             |       hfa6e2cd_0         4.7 MB  conda-forge\n",
      "    tbb-2019.8                 |       he980bc4_0         161 KB  conda-forge\n",
      "    vincent-0.4.4              |             py_1          28 KB  conda-forge\n",
      "    ------------------------------------------------------------\n",
      "                                           Total:         9.1 MB\n",
      "\n",
      "The following NEW packages will be INSTALLED:\n",
      "\n",
      "  _anaconda_depends  pkgs/main/win-64::_anaconda_depends-2019.03-py37_0\n",
      "  altair             conda-forge/win-64::altair-3.2.0-py37_0\n",
      "  branca             conda-forge/noarch::branca-0.3.1-py_0\n",
      "  folium             conda-forge/noarch::folium-0.10.0-py_0\n",
      "  tbb                conda-forge/win-64::tbb-2019.8-he980bc4_0\n",
      "  vincent            conda-forge/noarch::vincent-0.4.4-py_1\n",
      "\n",
      "The following packages will be UPDATED:\n",
      "\n",
      "  ca-certificates    pkgs/main::ca-certificates-2019.5.15-0 --> conda-forge::ca-certificates-2019.9.11-hecc5488_0\n",
      "  certifi                                  2019.6.16-py37_0 --> 2019.9.11-py37_0\n",
      "\n",
      "The following packages will be SUPERSEDED by a higher-priority channel:\n",
      "\n",
      "  conda                                           pkgs/main --> conda-forge\n",
      "  openssl              pkgs/main::openssl-1.1.1c-he774522_1 --> conda-forge::openssl-1.1.1c-hfa6e2cd_0\n",
      "\n",
      "The following packages will be DOWNGRADED:\n",
      "\n",
      "  anaconda                                   2019.07-py37_0 --> custom-py37_1\n",
      "\n",
      "\n",
      "\n",
      "Downloading and Extracting Packages\n",
      "\n",
      "anaconda-custom      | 3 KB      |            |   0% \n",
      "anaconda-custom      | 3 KB      | ########## | 100% \n",
      "\n",
      "certifi-2019.9.11    | 155 KB    |            |   0% \n",
      "certifi-2019.9.11    | 155 KB    | ########## | 100% \n",
      "\n",
      "ca-certificates-2019 | 181 KB    |            |   0% \n",
      "ca-certificates-2019 | 181 KB    | ###5       |  35% \n",
      "ca-certificates-2019 | 181 KB    | ########## | 100% \n",
      "\n",
      "folium-0.10.0        | 59 KB     |            |   0% \n",
      "folium-0.10.0        | 59 KB     | ########## | 100% \n",
      "\n",
      "openssl-1.1.1c       | 4.7 MB    |            |   0% \n",
      "openssl-1.1.1c       | 4.7 MB    | ##2        |  23% \n",
      "openssl-1.1.1c       | 4.7 MB    | #####7     |  58% \n",
      "openssl-1.1.1c       | 4.7 MB    | #########1 |  92% \n",
      "openssl-1.1.1c       | 4.7 MB    | ########## | 100% \n",
      "\n",
      "branca-0.3.1         | 25 KB     |            |   0% \n",
      "branca-0.3.1         | 25 KB     | ########## | 100% \n",
      "\n",
      "altair-3.2.0         | 749 KB    |            |   0% \n",
      "altair-3.2.0         | 749 KB    | ########## | 100% \n",
      "\n",
      "_anaconda_depends-20 | 6 KB      |            |   0% \n",
      "_anaconda_depends-20 | 6 KB      | ########## | 100% \n",
      "\n",
      "conda-4.7.12         | 3.0 MB    |            |   0% \n",
      "conda-4.7.12         | 3.0 MB    | ###3       |  34% \n",
      "conda-4.7.12         | 3.0 MB    | #########  |  90% \n",
      "conda-4.7.12         | 3.0 MB    | ########## | 100% \n",
      "\n",
      "tbb-2019.8           | 161 KB    |            |   0% \n",
      "tbb-2019.8           | 161 KB    | ########## | 100% \n",
      "\n",
      "vincent-0.4.4        | 28 KB     |            |   0% \n",
      "vincent-0.4.4        | 28 KB     | ########## | 100% \n",
      "Preparing transaction: ...working... done\n",
      "Verifying transaction: ...working... done\n",
      "Executing transaction: ...working... done\n",
      "\n",
      "Note: you may need to restart the kernel to use updated packages.\n"
     ]
    }
   ],
   "source": [
    "conda install -c conda-forge folium"
   ]
  },
  {
   "cell_type": "code",
   "execution_count": 26,
   "metadata": {
    "scrolled": true
   },
   "outputs": [],
   "source": [
    "import folium"
   ]
  },
  {
   "cell_type": "code",
   "execution_count": 144,
   "metadata": {},
   "outputs": [
    {
     "data": {
      "text/plain": [
       "Violation Precinct\n",
       "5    127070\n",
       "dtype: int64"
      ]
     },
     "execution_count": 144,
     "metadata": {},
     "output_type": "execute_result"
    }
   ],
   "source": [
    "manhattan_precinct"
   ]
  },
  {
   "cell_type": "code",
   "execution_count": 208,
   "metadata": {},
   "outputs": [
    {
     "data": {
      "text/html": [
       "<div>\n",
       "<style scoped>\n",
       "    .dataframe tbody tr th:only-of-type {\n",
       "        vertical-align: middle;\n",
       "    }\n",
       "\n",
       "    .dataframe tbody tr th {\n",
       "        vertical-align: top;\n",
       "    }\n",
       "\n",
       "    .dataframe thead th {\n",
       "        text-align: right;\n",
       "    }\n",
       "</style>\n",
       "<table border=\"1\" class=\"dataframe\">\n",
       "  <thead>\n",
       "    <tr style=\"text-align: right;\">\n",
       "      <th></th>\n",
       "      <th>Violation Precinct</th>\n",
       "      <th>counts</th>\n",
       "    </tr>\n",
       "  </thead>\n",
       "  <tbody>\n",
       "    <tr>\n",
       "      <th>1</th>\n",
       "      <td>1</td>\n",
       "      <td>333666</td>\n",
       "    </tr>\n",
       "    <tr>\n",
       "      <th>5</th>\n",
       "      <td>5</td>\n",
       "      <td>127070</td>\n",
       "    </tr>\n",
       "    <tr>\n",
       "      <th>6</th>\n",
       "      <td>6</td>\n",
       "      <td>194096</td>\n",
       "    </tr>\n",
       "    <tr>\n",
       "      <th>7</th>\n",
       "      <td>7</td>\n",
       "      <td>78421</td>\n",
       "    </tr>\n",
       "    <tr>\n",
       "      <th>9</th>\n",
       "      <td>9</td>\n",
       "      <td>139923</td>\n",
       "    </tr>\n",
       "    <tr>\n",
       "      <th>10</th>\n",
       "      <td>10</td>\n",
       "      <td>174044</td>\n",
       "    </tr>\n",
       "    <tr>\n",
       "      <th>13</th>\n",
       "      <td>13</td>\n",
       "      <td>336637</td>\n",
       "    </tr>\n",
       "    <tr>\n",
       "      <th>14</th>\n",
       "      <td>14</td>\n",
       "      <td>383717</td>\n",
       "    </tr>\n",
       "    <tr>\n",
       "      <th>17</th>\n",
       "      <td>17</td>\n",
       "      <td>183531</td>\n",
       "    </tr>\n",
       "    <tr>\n",
       "      <th>18</th>\n",
       "      <td>18</td>\n",
       "      <td>370263</td>\n",
       "    </tr>\n",
       "    <tr>\n",
       "      <th>19</th>\n",
       "      <td>19</td>\n",
       "      <td>500508</td>\n",
       "    </tr>\n",
       "    <tr>\n",
       "      <th>20</th>\n",
       "      <td>20</td>\n",
       "      <td>187255</td>\n",
       "    </tr>\n",
       "    <tr>\n",
       "      <th>23</th>\n",
       "      <td>23</td>\n",
       "      <td>108254</td>\n",
       "    </tr>\n",
       "    <tr>\n",
       "      <th>24</th>\n",
       "      <td>24</td>\n",
       "      <td>138903</td>\n",
       "    </tr>\n",
       "    <tr>\n",
       "      <th>25</th>\n",
       "      <td>25</td>\n",
       "      <td>67637</td>\n",
       "    </tr>\n",
       "    <tr>\n",
       "      <th>26</th>\n",
       "      <td>26</td>\n",
       "      <td>56243</td>\n",
       "    </tr>\n",
       "    <tr>\n",
       "      <th>28</th>\n",
       "      <td>28</td>\n",
       "      <td>91512</td>\n",
       "    </tr>\n",
       "    <tr>\n",
       "      <th>30</th>\n",
       "      <td>30</td>\n",
       "      <td>46103</td>\n",
       "    </tr>\n",
       "    <tr>\n",
       "      <th>32</th>\n",
       "      <td>32</td>\n",
       "      <td>55874</td>\n",
       "    </tr>\n",
       "    <tr>\n",
       "      <th>33</th>\n",
       "      <td>33</td>\n",
       "      <td>91198</td>\n",
       "    </tr>\n",
       "    <tr>\n",
       "      <th>34</th>\n",
       "      <td>34</td>\n",
       "      <td>120513</td>\n",
       "    </tr>\n",
       "  </tbody>\n",
       "</table>\n",
       "</div>"
      ],
      "text/plain": [
       "   Violation Precinct  counts\n",
       "1                   1  333666\n",
       "5                   5  127070\n",
       "6                   6  194096\n",
       "7                   7   78421\n",
       "9                   9  139923\n",
       "10                 10  174044\n",
       "13                 13  336637\n",
       "14                 14  383717\n",
       "17                 17  183531\n",
       "18                 18  370263\n",
       "19                 19  500508\n",
       "20                 20  187255\n",
       "23                 23  108254\n",
       "24                 24  138903\n",
       "25                 25   67637\n",
       "26                 26   56243\n",
       "28                 28   91512\n",
       "30                 30   46103\n",
       "32                 32   55874\n",
       "33                 33   91198\n",
       "34                 34  120513"
      ]
     },
     "execution_count": 208,
     "metadata": {},
     "output_type": "execute_result"
    }
   ],
   "source": [
    "df_m3"
   ]
  },
  {
   "cell_type": "code",
   "execution_count": 209,
   "metadata": {},
   "outputs": [],
   "source": [
    "nyc_coor = [40.81,-73.9999]\n",
    "nyc_parking_map = folium.Map(location=nyc_coor,zoom_start=11)\n",
    "precincts_data = r'C:\\Users\\38150\\Desktop\\NYC_Parking\\PolicePrecincts.geojson'\n",
    "\n",
    "# make the chorlopleth map\n",
    "nyc_parking_map.choropleth(geo_data=pathgeo,\n",
    "                        data=df_m3,\n",
    "                        key_on='feature.properties.precinct',\n",
    "                        columns=['Violation Precinct', 'counts'],\n",
    "                        fill_color='BuGn', \n",
    "                        fill_opacity=0.8, \n",
    "                        line_opacity=0.1)"
   ]
  },
  {
   "cell_type": "code",
   "execution_count": 210,
   "metadata": {},
   "outputs": [],
   "source": [
    "nyc_parking_map.save('map.html')\n",
    "webbrowser.open('map.html')"
   ]
  },
  {
   "cell_type": "code",
   "execution_count": 211,
   "metadata": {},
   "outputs": [
    {
     "data": {
      "text/plain": [
       "True"
      ]
     },
     "execution_count": 211,
     "metadata": {},
     "output_type": "execute_result"
    }
   ],
   "source": [
    "webbrowser.open('map.html')"
   ]
  },
  {
   "cell_type": "code",
   "execution_count": null,
   "metadata": {},
   "outputs": [],
   "source": []
  }
 ],
 "metadata": {
  "kernelspec": {
   "display_name": "Python 3",
   "language": "python",
   "name": "python3"
  },
  "language_info": {
   "codemirror_mode": {
    "name": "ipython",
    "version": 3
   },
   "file_extension": ".py",
   "mimetype": "text/x-python",
   "name": "python",
   "nbconvert_exporter": "python",
   "pygments_lexer": "ipython3",
   "version": "3.7.3"
  }
 },
 "nbformat": 4,
 "nbformat_minor": 2
}
