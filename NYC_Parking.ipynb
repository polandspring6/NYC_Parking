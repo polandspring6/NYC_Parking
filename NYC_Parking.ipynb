{
 "cells": [
  {
   "cell_type": "markdown",
   "metadata": {},
   "source": [
    "# Importing, merging, cleaning data"
   ]
  },
  {
   "cell_type": "code",
   "execution_count": 1,
   "metadata": {},
   "outputs": [],
   "source": [
    "import pandas as pd\n",
    "import numpy as np\n",
    "import matplotlib.pyplot as plt\n",
    "from tqdm import tqdm\n",
    "tqdm.pandas()"
   ]
  },
  {
   "cell_type": "code",
   "execution_count": null,
   "metadata": {},
   "outputs": [],
   "source": [
    "pip install scikit-learn"
   ]
  },
  {
   "cell_type": "code",
   "execution_count": 2,
   "metadata": {},
   "outputs": [],
   "source": [
    "from sklearn import model_selection, metrics, linear_model\n",
    "from sklearn.linear_model import LinearRegression, Ridge, LogisticRegression, RidgeCV\n",
    "from sklearn.metrics import mean_squared_error\n",
    "from sklearn.neighbors import KNeighborsClassifier\n",
    "from sklearn.preprocessing import StandardScaler\n",
    "from math import sqrt\n",
    "import statsmodels.api as sm\n",
    "\n",
    "\n",
    "\n",
    "from sklearn.discriminant_analysis import LinearDiscriminantAnalysis\n",
    "from sklearn.ensemble import RandomForestClassifier, RandomForestRegressor\n",
    "\n",
    "from sklearn.metrics import accuracy_score\n",
    "from sklearn.metrics import r2_score\n",
    "\n",
    "import seaborn as sns\n",
    "import matplotlib.pyplot as plt\n",
    "sns.set(style=\"ticks\", color_codes=True)"
   ]
  },
  {
   "cell_type": "code",
   "execution_count": 74,
   "metadata": {},
   "outputs": [],
   "source": [
    "import pickle"
   ]
  },
  {
   "cell_type": "code",
   "execution_count": 110,
   "metadata": {},
   "outputs": [],
   "source": [
    "df2019 = pd.read_csv (r'C:\\Users\\38150\\Desktop\\CapstoneData\\Parking_Violations_Issued_-_Fiscal_Year_2019.csv', low_memory=False)\n",
    "df2018 = pd.read_csv (r'C:\\Users\\38150\\Desktop\\CapstoneData\\Parking_Violations_Issued_-_Fiscal_Year_2018.csv', low_memory=False)\n",
    "df2017 = pd.read_csv (r'C:\\Users\\38150\\Desktop\\CapstoneData\\Parking_Violations_Issued_-_Fiscal_Year_2017.csv', low_memory=False)\n",
    "df2016 = pd.read_csv (r'C:\\Users\\38150\\Desktop\\CapstoneData\\Parking_Violations_Issued_-_Fiscal_Year_2016.csv', low_memory=False)\n",
    "df2015 = pd.read_csv (r'C:\\Users\\38150\\Desktop\\CapstoneData\\Parking_Violations_Issued_-_Fiscal_Year_2015.csv', low_memory=False)"
   ]
  },
  {
   "cell_type": "code",
   "execution_count": 111,
   "metadata": {},
   "outputs": [],
   "source": [
    "columns_list = ['Summons Number',\n",
    "'Issue Date',\n",
    "'Violation Code',\n",
    "'Issuing Agency',\n",
    "'Street Code1',\n",
    "'Street Code2',\n",
    "'Street Code3',\n",
    "'Vehicle Expiration Date',\n",
    "'Violation Precinct',\n",
    "'Issuer Precinct',\n",
    "'Violation Time',\n",
    "'Time First Observed',\n",
    "'Violation County',\n",
    "'House Number',\n",
    "'Street Name',\n",
    "'Intersecting Street']"
   ]
  },
  {
   "cell_type": "code",
   "execution_count": 112,
   "metadata": {},
   "outputs": [],
   "source": [
    "df2019v2 = df2019.filter(items=columns_list)\n",
    "df2018v2 = df2018.filter(items=columns_list)\n",
    "df2017v2 = df2017.filter(items=columns_list)\n",
    "df2016v2 = df2016.filter(items=columns_list)\n",
    "df2015v2 = df2015.filter(items=columns_list)"
   ]
  },
  {
   "cell_type": "code",
   "execution_count": 113,
   "metadata": {},
   "outputs": [],
   "source": [
    "del df2019, df2018, df2017, df2016, df2015"
   ]
  },
  {
   "cell_type": "code",
   "execution_count": 114,
   "metadata": {},
   "outputs": [],
   "source": [
    "dfcombined = pd.concat([df2019v2, df2018v2, df2017v2, df2016v2, df2015v2], axis = 0, sort = False)"
   ]
  },
  {
   "cell_type": "code",
   "execution_count": 115,
   "metadata": {},
   "outputs": [],
   "source": [
    "del df2019v2, df2018v2, df2017v2, df2016v2, df2015v2"
   ]
  },
  {
   "cell_type": "code",
   "execution_count": 116,
   "metadata": {},
   "outputs": [
    {
     "data": {
      "text/plain": [
       "(56428292, 16)"
      ]
     },
     "execution_count": 116,
     "metadata": {},
     "output_type": "execute_result"
    }
   ],
   "source": [
    "dfcombined.shape"
   ]
  },
  {
   "cell_type": "code",
   "execution_count": 117,
   "metadata": {},
   "outputs": [],
   "source": [
    "dfcombined_new = dfcombined.groupby(['Issue Date', 'Violation Precinct']).size().reset_index(name='N_violations')"
   ]
  },
  {
   "cell_type": "code",
   "execution_count": 118,
   "metadata": {},
   "outputs": [
    {
     "data": {
      "text/plain": [
       "(163694, 3)"
      ]
     },
     "execution_count": 118,
     "metadata": {},
     "output_type": "execute_result"
    }
   ],
   "source": [
    "dfcombined_new.shape"
   ]
  },
  {
   "cell_type": "code",
   "execution_count": 119,
   "metadata": {},
   "outputs": [],
   "source": [
    "dfcombined_new.to_csv(r'C:\\Users\\38150\\Desktop\\CapstoneData\\AllYearsData.csv')"
   ]
  },
  {
   "cell_type": "code",
   "execution_count": 12,
   "metadata": {},
   "outputs": [],
   "source": [
    "dfcombined['Issue Date'] =  pd.to_datetime(dfcombined['Issue Date'], format=\"%m/%d/%Y\")"
   ]
  },
  {
   "cell_type": "code",
   "execution_count": 13,
   "metadata": {},
   "outputs": [],
   "source": [
    "dfcombined['year'] = dfcombined['Issue Date'].dt.year\n",
    "#dfcombined['month'] = dfcombined['Issue Date'].dt.month\n",
    "#dfcombined['day'] = dfcombined['Issue Date'].dt.day\n",
    "#dfcombined['weekday'] = dfcombined['Issue Date'].dt.dayofweek"
   ]
  },
  {
   "cell_type": "code",
   "execution_count": 14,
   "metadata": {},
   "outputs": [],
   "source": [
    "dfcombined2 = dfcombined[(dfcombined.year > 2014) & (dfcombined.year < 2020)]"
   ]
  },
  {
   "cell_type": "code",
   "execution_count": 15,
   "metadata": {},
   "outputs": [],
   "source": [
    "del dfcombined"
   ]
  },
  {
   "cell_type": "code",
   "execution_count": 16,
   "metadata": {},
   "outputs": [],
   "source": [
    "count_of_years = dfcombined2[['year']].groupby(['year']).size()"
   ]
  },
  {
   "cell_type": "code",
   "execution_count": 17,
   "metadata": {
    "scrolled": true
   },
   "outputs": [
    {
     "data": {
      "text/plain": [
       "year\n",
       "2015.0         583\n",
       "2016.0     5369007\n",
       "2017.0    11434926\n",
       "2018.0    11832784\n",
       "2019.0     5352638\n",
       "dtype: int64"
      ]
     },
     "execution_count": 17,
     "metadata": {},
     "output_type": "execute_result"
    }
   ],
   "source": [
    "count_of_years"
   ]
  },
  {
   "cell_type": "code",
   "execution_count": 22,
   "metadata": {},
   "outputs": [
    {
     "data": {
      "text/plain": [
       "(33989938, 6)"
      ]
     },
     "execution_count": 22,
     "metadata": {},
     "output_type": "execute_result"
    }
   ],
   "source": [
    "dfcombined2.shape"
   ]
  },
  {
   "cell_type": "markdown",
   "metadata": {},
   "source": [
    "#### Aggregating by precinct and by day"
   ]
  },
  {
   "cell_type": "code",
   "execution_count": 21,
   "metadata": {},
   "outputs": [],
   "source": [
    "dfcombined2 = dfcombined2.filter(items=['Issue Date','Violation Precinct', 'year', 'month','day', 'weekday'])"
   ]
  },
  {
   "cell_type": "code",
   "execution_count": 26,
   "metadata": {},
   "outputs": [],
   "source": [
    "dfcombined3 = dfcombined2.groupby(['Issue Date', 'Violation Precinct']).size().reset_index(name='N_violations')"
   ]
  },
  {
   "cell_type": "code",
   "execution_count": 33,
   "metadata": {},
   "outputs": [],
   "source": [
    "dfcombined3['year'] = dfcombined3['Issue Date'].dt.year\n",
    "dfcombined3['month'] = dfcombined3['Issue Date'].dt.month\n",
    "dfcombined3['day'] = dfcombined3['Issue Date'].dt.day\n",
    "dfcombined3['weekday'] = dfcombined3['Issue Date'].dt.dayofweek"
   ]
  },
  {
   "cell_type": "code",
   "execution_count": 38,
   "metadata": {},
   "outputs": [],
   "source": [
    "dfcombined4 = dfcombined3[(dfcombined3.year == 2017) | (dfcombined3.year == 2018) | (dfcombined3.year == 2019)]"
   ]
  },
  {
   "cell_type": "code",
   "execution_count": 42,
   "metadata": {
    "scrolled": true
   },
   "outputs": [
    {
     "data": {
      "text/html": [
       "<div>\n",
       "<style scoped>\n",
       "    .dataframe tbody tr th:only-of-type {\n",
       "        vertical-align: middle;\n",
       "    }\n",
       "\n",
       "    .dataframe tbody tr th {\n",
       "        vertical-align: top;\n",
       "    }\n",
       "\n",
       "    .dataframe thead th {\n",
       "        text-align: right;\n",
       "    }\n",
       "</style>\n",
       "<table border=\"1\" class=\"dataframe\">\n",
       "  <thead>\n",
       "    <tr style=\"text-align: right;\">\n",
       "      <th></th>\n",
       "      <th>Issue Date</th>\n",
       "      <th>Violation Precinct</th>\n",
       "      <th>N_violations</th>\n",
       "      <th>year</th>\n",
       "      <th>month</th>\n",
       "      <th>day</th>\n",
       "      <th>weekday</th>\n",
       "    </tr>\n",
       "  </thead>\n",
       "  <tbody>\n",
       "    <tr>\n",
       "      <th>19447</th>\n",
       "      <td>2017-01-01</td>\n",
       "      <td>0</td>\n",
       "      <td>1235</td>\n",
       "      <td>2017</td>\n",
       "      <td>1</td>\n",
       "      <td>1</td>\n",
       "      <td>6</td>\n",
       "    </tr>\n",
       "    <tr>\n",
       "      <th>19448</th>\n",
       "      <td>2017-01-01</td>\n",
       "      <td>1</td>\n",
       "      <td>119</td>\n",
       "      <td>2017</td>\n",
       "      <td>1</td>\n",
       "      <td>1</td>\n",
       "      <td>6</td>\n",
       "    </tr>\n",
       "    <tr>\n",
       "      <th>19449</th>\n",
       "      <td>2017-01-01</td>\n",
       "      <td>5</td>\n",
       "      <td>43</td>\n",
       "      <td>2017</td>\n",
       "      <td>1</td>\n",
       "      <td>1</td>\n",
       "      <td>6</td>\n",
       "    </tr>\n",
       "    <tr>\n",
       "      <th>19450</th>\n",
       "      <td>2017-01-01</td>\n",
       "      <td>6</td>\n",
       "      <td>16</td>\n",
       "      <td>2017</td>\n",
       "      <td>1</td>\n",
       "      <td>1</td>\n",
       "      <td>6</td>\n",
       "    </tr>\n",
       "    <tr>\n",
       "      <th>19451</th>\n",
       "      <td>2017-01-01</td>\n",
       "      <td>7</td>\n",
       "      <td>15</td>\n",
       "      <td>2017</td>\n",
       "      <td>1</td>\n",
       "      <td>1</td>\n",
       "      <td>6</td>\n",
       "    </tr>\n",
       "    <tr>\n",
       "      <th>19452</th>\n",
       "      <td>2017-01-01</td>\n",
       "      <td>8</td>\n",
       "      <td>1</td>\n",
       "      <td>2017</td>\n",
       "      <td>1</td>\n",
       "      <td>1</td>\n",
       "      <td>6</td>\n",
       "    </tr>\n",
       "    <tr>\n",
       "      <th>19453</th>\n",
       "      <td>2017-01-01</td>\n",
       "      <td>9</td>\n",
       "      <td>10</td>\n",
       "      <td>2017</td>\n",
       "      <td>1</td>\n",
       "      <td>1</td>\n",
       "      <td>6</td>\n",
       "    </tr>\n",
       "    <tr>\n",
       "      <th>19454</th>\n",
       "      <td>2017-01-01</td>\n",
       "      <td>10</td>\n",
       "      <td>16</td>\n",
       "      <td>2017</td>\n",
       "      <td>1</td>\n",
       "      <td>1</td>\n",
       "      <td>6</td>\n",
       "    </tr>\n",
       "    <tr>\n",
       "      <th>19455</th>\n",
       "      <td>2017-01-01</td>\n",
       "      <td>13</td>\n",
       "      <td>24</td>\n",
       "      <td>2017</td>\n",
       "      <td>1</td>\n",
       "      <td>1</td>\n",
       "      <td>6</td>\n",
       "    </tr>\n",
       "    <tr>\n",
       "      <th>19456</th>\n",
       "      <td>2017-01-01</td>\n",
       "      <td>14</td>\n",
       "      <td>82</td>\n",
       "      <td>2017</td>\n",
       "      <td>1</td>\n",
       "      <td>1</td>\n",
       "      <td>6</td>\n",
       "    </tr>\n",
       "    <tr>\n",
       "      <th>19457</th>\n",
       "      <td>2017-01-01</td>\n",
       "      <td>17</td>\n",
       "      <td>81</td>\n",
       "      <td>2017</td>\n",
       "      <td>1</td>\n",
       "      <td>1</td>\n",
       "      <td>6</td>\n",
       "    </tr>\n",
       "    <tr>\n",
       "      <th>19458</th>\n",
       "      <td>2017-01-01</td>\n",
       "      <td>18</td>\n",
       "      <td>66</td>\n",
       "      <td>2017</td>\n",
       "      <td>1</td>\n",
       "      <td>1</td>\n",
       "      <td>6</td>\n",
       "    </tr>\n",
       "    <tr>\n",
       "      <th>19459</th>\n",
       "      <td>2017-01-01</td>\n",
       "      <td>19</td>\n",
       "      <td>150</td>\n",
       "      <td>2017</td>\n",
       "      <td>1</td>\n",
       "      <td>1</td>\n",
       "      <td>6</td>\n",
       "    </tr>\n",
       "    <tr>\n",
       "      <th>19460</th>\n",
       "      <td>2017-01-01</td>\n",
       "      <td>20</td>\n",
       "      <td>85</td>\n",
       "      <td>2017</td>\n",
       "      <td>1</td>\n",
       "      <td>1</td>\n",
       "      <td>6</td>\n",
       "    </tr>\n",
       "    <tr>\n",
       "      <th>19461</th>\n",
       "      <td>2017-01-01</td>\n",
       "      <td>23</td>\n",
       "      <td>62</td>\n",
       "      <td>2017</td>\n",
       "      <td>1</td>\n",
       "      <td>1</td>\n",
       "      <td>6</td>\n",
       "    </tr>\n",
       "    <tr>\n",
       "      <th>19462</th>\n",
       "      <td>2017-01-01</td>\n",
       "      <td>24</td>\n",
       "      <td>29</td>\n",
       "      <td>2017</td>\n",
       "      <td>1</td>\n",
       "      <td>1</td>\n",
       "      <td>6</td>\n",
       "    </tr>\n",
       "    <tr>\n",
       "      <th>19463</th>\n",
       "      <td>2017-01-01</td>\n",
       "      <td>25</td>\n",
       "      <td>9</td>\n",
       "      <td>2017</td>\n",
       "      <td>1</td>\n",
       "      <td>1</td>\n",
       "      <td>6</td>\n",
       "    </tr>\n",
       "    <tr>\n",
       "      <th>19464</th>\n",
       "      <td>2017-01-01</td>\n",
       "      <td>26</td>\n",
       "      <td>8</td>\n",
       "      <td>2017</td>\n",
       "      <td>1</td>\n",
       "      <td>1</td>\n",
       "      <td>6</td>\n",
       "    </tr>\n",
       "    <tr>\n",
       "      <th>19465</th>\n",
       "      <td>2017-01-01</td>\n",
       "      <td>28</td>\n",
       "      <td>25</td>\n",
       "      <td>2017</td>\n",
       "      <td>1</td>\n",
       "      <td>1</td>\n",
       "      <td>6</td>\n",
       "    </tr>\n",
       "    <tr>\n",
       "      <th>19466</th>\n",
       "      <td>2017-01-01</td>\n",
       "      <td>30</td>\n",
       "      <td>19</td>\n",
       "      <td>2017</td>\n",
       "      <td>1</td>\n",
       "      <td>1</td>\n",
       "      <td>6</td>\n",
       "    </tr>\n",
       "    <tr>\n",
       "      <th>19467</th>\n",
       "      <td>2017-01-01</td>\n",
       "      <td>32</td>\n",
       "      <td>50</td>\n",
       "      <td>2017</td>\n",
       "      <td>1</td>\n",
       "      <td>1</td>\n",
       "      <td>6</td>\n",
       "    </tr>\n",
       "    <tr>\n",
       "      <th>19468</th>\n",
       "      <td>2017-01-01</td>\n",
       "      <td>33</td>\n",
       "      <td>25</td>\n",
       "      <td>2017</td>\n",
       "      <td>1</td>\n",
       "      <td>1</td>\n",
       "      <td>6</td>\n",
       "    </tr>\n",
       "    <tr>\n",
       "      <th>19469</th>\n",
       "      <td>2017-01-01</td>\n",
       "      <td>34</td>\n",
       "      <td>35</td>\n",
       "      <td>2017</td>\n",
       "      <td>1</td>\n",
       "      <td>1</td>\n",
       "      <td>6</td>\n",
       "    </tr>\n",
       "    <tr>\n",
       "      <th>19470</th>\n",
       "      <td>2017-01-01</td>\n",
       "      <td>39</td>\n",
       "      <td>1</td>\n",
       "      <td>2017</td>\n",
       "      <td>1</td>\n",
       "      <td>1</td>\n",
       "      <td>6</td>\n",
       "    </tr>\n",
       "    <tr>\n",
       "      <th>19471</th>\n",
       "      <td>2017-01-01</td>\n",
       "      <td>40</td>\n",
       "      <td>75</td>\n",
       "      <td>2017</td>\n",
       "      <td>1</td>\n",
       "      <td>1</td>\n",
       "      <td>6</td>\n",
       "    </tr>\n",
       "    <tr>\n",
       "      <th>19472</th>\n",
       "      <td>2017-01-01</td>\n",
       "      <td>41</td>\n",
       "      <td>10</td>\n",
       "      <td>2017</td>\n",
       "      <td>1</td>\n",
       "      <td>1</td>\n",
       "      <td>6</td>\n",
       "    </tr>\n",
       "    <tr>\n",
       "      <th>19473</th>\n",
       "      <td>2017-01-01</td>\n",
       "      <td>42</td>\n",
       "      <td>52</td>\n",
       "      <td>2017</td>\n",
       "      <td>1</td>\n",
       "      <td>1</td>\n",
       "      <td>6</td>\n",
       "    </tr>\n",
       "    <tr>\n",
       "      <th>19474</th>\n",
       "      <td>2017-01-01</td>\n",
       "      <td>43</td>\n",
       "      <td>71</td>\n",
       "      <td>2017</td>\n",
       "      <td>1</td>\n",
       "      <td>1</td>\n",
       "      <td>6</td>\n",
       "    </tr>\n",
       "    <tr>\n",
       "      <th>19475</th>\n",
       "      <td>2017-01-01</td>\n",
       "      <td>44</td>\n",
       "      <td>65</td>\n",
       "      <td>2017</td>\n",
       "      <td>1</td>\n",
       "      <td>1</td>\n",
       "      <td>6</td>\n",
       "    </tr>\n",
       "    <tr>\n",
       "      <th>19476</th>\n",
       "      <td>2017-01-01</td>\n",
       "      <td>45</td>\n",
       "      <td>8</td>\n",
       "      <td>2017</td>\n",
       "      <td>1</td>\n",
       "      <td>1</td>\n",
       "      <td>6</td>\n",
       "    </tr>\n",
       "    <tr>\n",
       "      <th>...</th>\n",
       "      <td>...</td>\n",
       "      <td>...</td>\n",
       "      <td>...</td>\n",
       "      <td>...</td>\n",
       "      <td>...</td>\n",
       "      <td>...</td>\n",
       "      <td>...</td>\n",
       "    </tr>\n",
       "    <tr>\n",
       "      <th>96359</th>\n",
       "      <td>2019-12-28</td>\n",
       "      <td>32</td>\n",
       "      <td>1</td>\n",
       "      <td>2019</td>\n",
       "      <td>12</td>\n",
       "      <td>28</td>\n",
       "      <td>5</td>\n",
       "    </tr>\n",
       "    <tr>\n",
       "      <th>96360</th>\n",
       "      <td>2019-12-28</td>\n",
       "      <td>42</td>\n",
       "      <td>1</td>\n",
       "      <td>2019</td>\n",
       "      <td>12</td>\n",
       "      <td>28</td>\n",
       "      <td>5</td>\n",
       "    </tr>\n",
       "    <tr>\n",
       "      <th>96361</th>\n",
       "      <td>2019-12-28</td>\n",
       "      <td>44</td>\n",
       "      <td>1</td>\n",
       "      <td>2019</td>\n",
       "      <td>12</td>\n",
       "      <td>28</td>\n",
       "      <td>5</td>\n",
       "    </tr>\n",
       "    <tr>\n",
       "      <th>96362</th>\n",
       "      <td>2019-12-28</td>\n",
       "      <td>46</td>\n",
       "      <td>1</td>\n",
       "      <td>2019</td>\n",
       "      <td>12</td>\n",
       "      <td>28</td>\n",
       "      <td>5</td>\n",
       "    </tr>\n",
       "    <tr>\n",
       "      <th>96363</th>\n",
       "      <td>2019-12-28</td>\n",
       "      <td>67</td>\n",
       "      <td>2</td>\n",
       "      <td>2019</td>\n",
       "      <td>12</td>\n",
       "      <td>28</td>\n",
       "      <td>5</td>\n",
       "    </tr>\n",
       "    <tr>\n",
       "      <th>96364</th>\n",
       "      <td>2019-12-28</td>\n",
       "      <td>70</td>\n",
       "      <td>1</td>\n",
       "      <td>2019</td>\n",
       "      <td>12</td>\n",
       "      <td>28</td>\n",
       "      <td>5</td>\n",
       "    </tr>\n",
       "    <tr>\n",
       "      <th>96365</th>\n",
       "      <td>2019-12-28</td>\n",
       "      <td>104</td>\n",
       "      <td>1</td>\n",
       "      <td>2019</td>\n",
       "      <td>12</td>\n",
       "      <td>28</td>\n",
       "      <td>5</td>\n",
       "    </tr>\n",
       "    <tr>\n",
       "      <th>96366</th>\n",
       "      <td>2019-12-28</td>\n",
       "      <td>108</td>\n",
       "      <td>1</td>\n",
       "      <td>2019</td>\n",
       "      <td>12</td>\n",
       "      <td>28</td>\n",
       "      <td>5</td>\n",
       "    </tr>\n",
       "    <tr>\n",
       "      <th>96367</th>\n",
       "      <td>2019-12-28</td>\n",
       "      <td>113</td>\n",
       "      <td>2</td>\n",
       "      <td>2019</td>\n",
       "      <td>12</td>\n",
       "      <td>28</td>\n",
       "      <td>5</td>\n",
       "    </tr>\n",
       "    <tr>\n",
       "      <th>96368</th>\n",
       "      <td>2019-12-29</td>\n",
       "      <td>25</td>\n",
       "      <td>1</td>\n",
       "      <td>2019</td>\n",
       "      <td>12</td>\n",
       "      <td>29</td>\n",
       "      <td>6</td>\n",
       "    </tr>\n",
       "    <tr>\n",
       "      <th>96369</th>\n",
       "      <td>2019-12-29</td>\n",
       "      <td>34</td>\n",
       "      <td>1</td>\n",
       "      <td>2019</td>\n",
       "      <td>12</td>\n",
       "      <td>29</td>\n",
       "      <td>6</td>\n",
       "    </tr>\n",
       "    <tr>\n",
       "      <th>96370</th>\n",
       "      <td>2019-12-29</td>\n",
       "      <td>44</td>\n",
       "      <td>1</td>\n",
       "      <td>2019</td>\n",
       "      <td>12</td>\n",
       "      <td>29</td>\n",
       "      <td>6</td>\n",
       "    </tr>\n",
       "    <tr>\n",
       "      <th>96371</th>\n",
       "      <td>2019-12-29</td>\n",
       "      <td>73</td>\n",
       "      <td>2</td>\n",
       "      <td>2019</td>\n",
       "      <td>12</td>\n",
       "      <td>29</td>\n",
       "      <td>6</td>\n",
       "    </tr>\n",
       "    <tr>\n",
       "      <th>96372</th>\n",
       "      <td>2019-12-29</td>\n",
       "      <td>78</td>\n",
       "      <td>1</td>\n",
       "      <td>2019</td>\n",
       "      <td>12</td>\n",
       "      <td>29</td>\n",
       "      <td>6</td>\n",
       "    </tr>\n",
       "    <tr>\n",
       "      <th>96373</th>\n",
       "      <td>2019-12-29</td>\n",
       "      <td>107</td>\n",
       "      <td>1</td>\n",
       "      <td>2019</td>\n",
       "      <td>12</td>\n",
       "      <td>29</td>\n",
       "      <td>6</td>\n",
       "    </tr>\n",
       "    <tr>\n",
       "      <th>96374</th>\n",
       "      <td>2019-12-29</td>\n",
       "      <td>115</td>\n",
       "      <td>1</td>\n",
       "      <td>2019</td>\n",
       "      <td>12</td>\n",
       "      <td>29</td>\n",
       "      <td>6</td>\n",
       "    </tr>\n",
       "    <tr>\n",
       "      <th>96375</th>\n",
       "      <td>2019-12-30</td>\n",
       "      <td>13</td>\n",
       "      <td>1</td>\n",
       "      <td>2019</td>\n",
       "      <td>12</td>\n",
       "      <td>30</td>\n",
       "      <td>0</td>\n",
       "    </tr>\n",
       "    <tr>\n",
       "      <th>96376</th>\n",
       "      <td>2019-12-30</td>\n",
       "      <td>23</td>\n",
       "      <td>1</td>\n",
       "      <td>2019</td>\n",
       "      <td>12</td>\n",
       "      <td>30</td>\n",
       "      <td>0</td>\n",
       "    </tr>\n",
       "    <tr>\n",
       "      <th>96377</th>\n",
       "      <td>2019-12-30</td>\n",
       "      <td>44</td>\n",
       "      <td>2</td>\n",
       "      <td>2019</td>\n",
       "      <td>12</td>\n",
       "      <td>30</td>\n",
       "      <td>0</td>\n",
       "    </tr>\n",
       "    <tr>\n",
       "      <th>96378</th>\n",
       "      <td>2019-12-30</td>\n",
       "      <td>60</td>\n",
       "      <td>1</td>\n",
       "      <td>2019</td>\n",
       "      <td>12</td>\n",
       "      <td>30</td>\n",
       "      <td>0</td>\n",
       "    </tr>\n",
       "    <tr>\n",
       "      <th>96379</th>\n",
       "      <td>2019-12-30</td>\n",
       "      <td>72</td>\n",
       "      <td>1</td>\n",
       "      <td>2019</td>\n",
       "      <td>12</td>\n",
       "      <td>30</td>\n",
       "      <td>0</td>\n",
       "    </tr>\n",
       "    <tr>\n",
       "      <th>96380</th>\n",
       "      <td>2019-12-30</td>\n",
       "      <td>107</td>\n",
       "      <td>1</td>\n",
       "      <td>2019</td>\n",
       "      <td>12</td>\n",
       "      <td>30</td>\n",
       "      <td>0</td>\n",
       "    </tr>\n",
       "    <tr>\n",
       "      <th>96381</th>\n",
       "      <td>2019-12-31</td>\n",
       "      <td>0</td>\n",
       "      <td>1</td>\n",
       "      <td>2019</td>\n",
       "      <td>12</td>\n",
       "      <td>31</td>\n",
       "      <td>1</td>\n",
       "    </tr>\n",
       "    <tr>\n",
       "      <th>96382</th>\n",
       "      <td>2019-12-31</td>\n",
       "      <td>13</td>\n",
       "      <td>1</td>\n",
       "      <td>2019</td>\n",
       "      <td>12</td>\n",
       "      <td>31</td>\n",
       "      <td>1</td>\n",
       "    </tr>\n",
       "    <tr>\n",
       "      <th>96383</th>\n",
       "      <td>2019-12-31</td>\n",
       "      <td>42</td>\n",
       "      <td>1</td>\n",
       "      <td>2019</td>\n",
       "      <td>12</td>\n",
       "      <td>31</td>\n",
       "      <td>1</td>\n",
       "    </tr>\n",
       "    <tr>\n",
       "      <th>96384</th>\n",
       "      <td>2019-12-31</td>\n",
       "      <td>45</td>\n",
       "      <td>2</td>\n",
       "      <td>2019</td>\n",
       "      <td>12</td>\n",
       "      <td>31</td>\n",
       "      <td>1</td>\n",
       "    </tr>\n",
       "    <tr>\n",
       "      <th>96385</th>\n",
       "      <td>2019-12-31</td>\n",
       "      <td>52</td>\n",
       "      <td>1</td>\n",
       "      <td>2019</td>\n",
       "      <td>12</td>\n",
       "      <td>31</td>\n",
       "      <td>1</td>\n",
       "    </tr>\n",
       "    <tr>\n",
       "      <th>96386</th>\n",
       "      <td>2019-12-31</td>\n",
       "      <td>72</td>\n",
       "      <td>1</td>\n",
       "      <td>2019</td>\n",
       "      <td>12</td>\n",
       "      <td>31</td>\n",
       "      <td>1</td>\n",
       "    </tr>\n",
       "    <tr>\n",
       "      <th>96387</th>\n",
       "      <td>2019-12-31</td>\n",
       "      <td>75</td>\n",
       "      <td>1</td>\n",
       "      <td>2019</td>\n",
       "      <td>12</td>\n",
       "      <td>31</td>\n",
       "      <td>1</td>\n",
       "    </tr>\n",
       "    <tr>\n",
       "      <th>96388</th>\n",
       "      <td>2019-12-31</td>\n",
       "      <td>84</td>\n",
       "      <td>1</td>\n",
       "      <td>2019</td>\n",
       "      <td>12</td>\n",
       "      <td>31</td>\n",
       "      <td>1</td>\n",
       "    </tr>\n",
       "  </tbody>\n",
       "</table>\n",
       "<p>76942 rows × 7 columns</p>\n",
       "</div>"
      ],
      "text/plain": [
       "      Issue Date  Violation Precinct  N_violations  year  month  day  weekday\n",
       "19447 2017-01-01                   0          1235  2017      1    1        6\n",
       "19448 2017-01-01                   1           119  2017      1    1        6\n",
       "19449 2017-01-01                   5            43  2017      1    1        6\n",
       "19450 2017-01-01                   6            16  2017      1    1        6\n",
       "19451 2017-01-01                   7            15  2017      1    1        6\n",
       "19452 2017-01-01                   8             1  2017      1    1        6\n",
       "19453 2017-01-01                   9            10  2017      1    1        6\n",
       "19454 2017-01-01                  10            16  2017      1    1        6\n",
       "19455 2017-01-01                  13            24  2017      1    1        6\n",
       "19456 2017-01-01                  14            82  2017      1    1        6\n",
       "19457 2017-01-01                  17            81  2017      1    1        6\n",
       "19458 2017-01-01                  18            66  2017      1    1        6\n",
       "19459 2017-01-01                  19           150  2017      1    1        6\n",
       "19460 2017-01-01                  20            85  2017      1    1        6\n",
       "19461 2017-01-01                  23            62  2017      1    1        6\n",
       "19462 2017-01-01                  24            29  2017      1    1        6\n",
       "19463 2017-01-01                  25             9  2017      1    1        6\n",
       "19464 2017-01-01                  26             8  2017      1    1        6\n",
       "19465 2017-01-01                  28            25  2017      1    1        6\n",
       "19466 2017-01-01                  30            19  2017      1    1        6\n",
       "19467 2017-01-01                  32            50  2017      1    1        6\n",
       "19468 2017-01-01                  33            25  2017      1    1        6\n",
       "19469 2017-01-01                  34            35  2017      1    1        6\n",
       "19470 2017-01-01                  39             1  2017      1    1        6\n",
       "19471 2017-01-01                  40            75  2017      1    1        6\n",
       "19472 2017-01-01                  41            10  2017      1    1        6\n",
       "19473 2017-01-01                  42            52  2017      1    1        6\n",
       "19474 2017-01-01                  43            71  2017      1    1        6\n",
       "19475 2017-01-01                  44            65  2017      1    1        6\n",
       "19476 2017-01-01                  45             8  2017      1    1        6\n",
       "...          ...                 ...           ...   ...    ...  ...      ...\n",
       "96359 2019-12-28                  32             1  2019     12   28        5\n",
       "96360 2019-12-28                  42             1  2019     12   28        5\n",
       "96361 2019-12-28                  44             1  2019     12   28        5\n",
       "96362 2019-12-28                  46             1  2019     12   28        5\n",
       "96363 2019-12-28                  67             2  2019     12   28        5\n",
       "96364 2019-12-28                  70             1  2019     12   28        5\n",
       "96365 2019-12-28                 104             1  2019     12   28        5\n",
       "96366 2019-12-28                 108             1  2019     12   28        5\n",
       "96367 2019-12-28                 113             2  2019     12   28        5\n",
       "96368 2019-12-29                  25             1  2019     12   29        6\n",
       "96369 2019-12-29                  34             1  2019     12   29        6\n",
       "96370 2019-12-29                  44             1  2019     12   29        6\n",
       "96371 2019-12-29                  73             2  2019     12   29        6\n",
       "96372 2019-12-29                  78             1  2019     12   29        6\n",
       "96373 2019-12-29                 107             1  2019     12   29        6\n",
       "96374 2019-12-29                 115             1  2019     12   29        6\n",
       "96375 2019-12-30                  13             1  2019     12   30        0\n",
       "96376 2019-12-30                  23             1  2019     12   30        0\n",
       "96377 2019-12-30                  44             2  2019     12   30        0\n",
       "96378 2019-12-30                  60             1  2019     12   30        0\n",
       "96379 2019-12-30                  72             1  2019     12   30        0\n",
       "96380 2019-12-30                 107             1  2019     12   30        0\n",
       "96381 2019-12-31                   0             1  2019     12   31        1\n",
       "96382 2019-12-31                  13             1  2019     12   31        1\n",
       "96383 2019-12-31                  42             1  2019     12   31        1\n",
       "96384 2019-12-31                  45             2  2019     12   31        1\n",
       "96385 2019-12-31                  52             1  2019     12   31        1\n",
       "96386 2019-12-31                  72             1  2019     12   31        1\n",
       "96387 2019-12-31                  75             1  2019     12   31        1\n",
       "96388 2019-12-31                  84             1  2019     12   31        1\n",
       "\n",
       "[76942 rows x 7 columns]"
      ]
     },
     "execution_count": 42,
     "metadata": {},
     "output_type": "execute_result"
    }
   ],
   "source": [
    "dfcombined4.sort_values(by=['Issue Date', 'Violation Precinct'])"
   ]
  },
  {
   "cell_type": "code",
   "execution_count": 134,
   "metadata": {},
   "outputs": [
    {
     "name": "stdout",
     "output_type": "stream",
     "text": [
      "<class 'pandas.core.frame.DataFrame'>\n",
      "Int64Index: 70751 entries, 19448 to 96388\n",
      "Data columns (total 8 columns):\n",
      "Issue Date            70751 non-null datetime64[ns]\n",
      "Violation Precinct    70751 non-null int64\n",
      "N_violations          70751 non-null int64\n",
      "year                  70751 non-null int64\n",
      "month                 70751 non-null int64\n",
      "day                   70751 non-null int64\n",
      "weekday               70751 non-null int64\n",
      "Borough               70751 non-null object\n",
      "dtypes: datetime64[ns](1), int64(6), object(1)\n",
      "memory usage: 4.9+ MB\n"
     ]
    }
   ],
   "source": [
    "dfcombined4.info()"
   ]
  },
  {
   "cell_type": "markdown",
   "metadata": {},
   "source": [
    "#### Defining police precincts"
   ]
  },
  {
   "cell_type": "code",
   "execution_count": 47,
   "metadata": {},
   "outputs": [],
   "source": [
    "precincts_on_map = [1,5,6,7,9,10,13,14,17,18,19,20,22,23,24,25,26,28,30,\n",
    "                    32,33,34,40,41,42,43,44,45,46,47,48,49,50,52,60,61,62,63,\n",
    "                    66,67,68,69,70,71,72,73,75,76,77,78,79,81,83,84,88,90,94,100,\n",
    "                    101,102,103,104,105,106,107,108,109,110,111,112,113,114,115,120,121,122,123]\n",
    "#Manhattan precincts are those from 1 to 34"
   ]
  },
  {
   "cell_type": "code",
   "execution_count": 50,
   "metadata": {},
   "outputs": [],
   "source": [
    "dfcombined4 = dfcombined4[dfcombined4['Violation Precinct'].isin(precincts_on_map)]"
   ]
  },
  {
   "cell_type": "code",
   "execution_count": 66,
   "metadata": {},
   "outputs": [],
   "source": [
    "def f(row):\n",
    "    if row['Violation Precinct'] < 35:\n",
    "        return \"Manhattan\"\n",
    "    else:\n",
    "        return \"Not Manhattan\""
   ]
  },
  {
   "cell_type": "code",
   "execution_count": 67,
   "metadata": {},
   "outputs": [],
   "source": [
    "dfcombined4['Borough'] = dfcombined4.apply(f, axis=1)"
   ]
  },
  {
   "cell_type": "code",
   "execution_count": 68,
   "metadata": {},
   "outputs": [
    {
     "data": {
      "text/html": [
       "<div>\n",
       "<style scoped>\n",
       "    .dataframe tbody tr th:only-of-type {\n",
       "        vertical-align: middle;\n",
       "    }\n",
       "\n",
       "    .dataframe tbody tr th {\n",
       "        vertical-align: top;\n",
       "    }\n",
       "\n",
       "    .dataframe thead th {\n",
       "        text-align: right;\n",
       "    }\n",
       "</style>\n",
       "<table border=\"1\" class=\"dataframe\">\n",
       "  <thead>\n",
       "    <tr style=\"text-align: right;\">\n",
       "      <th></th>\n",
       "      <th>Issue Date</th>\n",
       "      <th>Violation Precinct</th>\n",
       "      <th>N_violations</th>\n",
       "      <th>year</th>\n",
       "      <th>month</th>\n",
       "      <th>day</th>\n",
       "      <th>weekday</th>\n",
       "      <th>Borough</th>\n",
       "    </tr>\n",
       "  </thead>\n",
       "  <tbody>\n",
       "    <tr>\n",
       "      <th>19448</th>\n",
       "      <td>2017-01-01</td>\n",
       "      <td>1</td>\n",
       "      <td>119</td>\n",
       "      <td>2017</td>\n",
       "      <td>1</td>\n",
       "      <td>1</td>\n",
       "      <td>6</td>\n",
       "      <td>Manhattan</td>\n",
       "    </tr>\n",
       "    <tr>\n",
       "      <th>19449</th>\n",
       "      <td>2017-01-01</td>\n",
       "      <td>5</td>\n",
       "      <td>43</td>\n",
       "      <td>2017</td>\n",
       "      <td>1</td>\n",
       "      <td>1</td>\n",
       "      <td>6</td>\n",
       "      <td>Manhattan</td>\n",
       "    </tr>\n",
       "    <tr>\n",
       "      <th>19450</th>\n",
       "      <td>2017-01-01</td>\n",
       "      <td>6</td>\n",
       "      <td>16</td>\n",
       "      <td>2017</td>\n",
       "      <td>1</td>\n",
       "      <td>1</td>\n",
       "      <td>6</td>\n",
       "      <td>Manhattan</td>\n",
       "    </tr>\n",
       "    <tr>\n",
       "      <th>19451</th>\n",
       "      <td>2017-01-01</td>\n",
       "      <td>7</td>\n",
       "      <td>15</td>\n",
       "      <td>2017</td>\n",
       "      <td>1</td>\n",
       "      <td>1</td>\n",
       "      <td>6</td>\n",
       "      <td>Manhattan</td>\n",
       "    </tr>\n",
       "    <tr>\n",
       "      <th>19453</th>\n",
       "      <td>2017-01-01</td>\n",
       "      <td>9</td>\n",
       "      <td>10</td>\n",
       "      <td>2017</td>\n",
       "      <td>1</td>\n",
       "      <td>1</td>\n",
       "      <td>6</td>\n",
       "      <td>Manhattan</td>\n",
       "    </tr>\n",
       "  </tbody>\n",
       "</table>\n",
       "</div>"
      ],
      "text/plain": [
       "      Issue Date  Violation Precinct  N_violations  year  month  day  weekday  \\\n",
       "19448 2017-01-01                   1           119  2017      1    1        6   \n",
       "19449 2017-01-01                   5            43  2017      1    1        6   \n",
       "19450 2017-01-01                   6            16  2017      1    1        6   \n",
       "19451 2017-01-01                   7            15  2017      1    1        6   \n",
       "19453 2017-01-01                   9            10  2017      1    1        6   \n",
       "\n",
       "         Borough  \n",
       "19448  Manhattan  \n",
       "19449  Manhattan  \n",
       "19450  Manhattan  \n",
       "19451  Manhattan  \n",
       "19453  Manhattan  "
      ]
     },
     "execution_count": 68,
     "metadata": {},
     "output_type": "execute_result"
    }
   ],
   "source": [
    "dfcombined4.head()"
   ]
  },
  {
   "cell_type": "code",
   "execution_count": 87,
   "metadata": {},
   "outputs": [],
   "source": [
    "dfcombined4.to_csv(r'C:\\Users\\38150\\Desktop\\CapstoneData\\AggTicketData.csv')"
   ]
  },
  {
   "cell_type": "markdown",
   "metadata": {},
   "source": [
    "#### Add in weather"
   ]
  },
  {
   "cell_type": "code",
   "execution_count": 98,
   "metadata": {},
   "outputs": [],
   "source": [
    "weather = pd.read_csv (r'C:\\Users\\38150\\Desktop\\CapstoneData\\weather.csv', low_memory=False)"
   ]
  },
  {
   "cell_type": "code",
   "execution_count": 103,
   "metadata": {},
   "outputs": [
    {
     "data": {
      "text/html": [
       "<div>\n",
       "<style scoped>\n",
       "    .dataframe tbody tr th:only-of-type {\n",
       "        vertical-align: middle;\n",
       "    }\n",
       "\n",
       "    .dataframe tbody tr th {\n",
       "        vertical-align: top;\n",
       "    }\n",
       "\n",
       "    .dataframe thead th {\n",
       "        text-align: right;\n",
       "    }\n",
       "</style>\n",
       "<table border=\"1\" class=\"dataframe\">\n",
       "  <thead>\n",
       "    <tr style=\"text-align: right;\">\n",
       "      <th></th>\n",
       "      <th>STATION</th>\n",
       "      <th>NAME</th>\n",
       "      <th>DATE</th>\n",
       "      <th>PRCP</th>\n",
       "      <th>SNOW</th>\n",
       "      <th>SNWD</th>\n",
       "      <th>TAVG</th>\n",
       "      <th>TMAX</th>\n",
       "      <th>TMIN</th>\n",
       "    </tr>\n",
       "  </thead>\n",
       "  <tbody>\n",
       "    <tr>\n",
       "      <th>0</th>\n",
       "      <td>USW00094728</td>\n",
       "      <td>NY CITY CENTRAL PARK, NY US</td>\n",
       "      <td>2003-01-01</td>\n",
       "      <td>1.52</td>\n",
       "      <td>0.0</td>\n",
       "      <td>NaN</td>\n",
       "      <td>43.0</td>\n",
       "      <td>50</td>\n",
       "      <td>36</td>\n",
       "    </tr>\n",
       "    <tr>\n",
       "      <th>1</th>\n",
       "      <td>USW00094728</td>\n",
       "      <td>NY CITY CENTRAL PARK, NY US</td>\n",
       "      <td>2003-01-02</td>\n",
       "      <td>0.07</td>\n",
       "      <td>0.0</td>\n",
       "      <td>NaN</td>\n",
       "      <td>33.0</td>\n",
       "      <td>37</td>\n",
       "      <td>29</td>\n",
       "    </tr>\n",
       "    <tr>\n",
       "      <th>2</th>\n",
       "      <td>USW00094728</td>\n",
       "      <td>NY CITY CENTRAL PARK, NY US</td>\n",
       "      <td>2003-01-03</td>\n",
       "      <td>0.41</td>\n",
       "      <td>0.0</td>\n",
       "      <td>NaN</td>\n",
       "      <td>32.0</td>\n",
       "      <td>34</td>\n",
       "      <td>29</td>\n",
       "    </tr>\n",
       "    <tr>\n",
       "      <th>3</th>\n",
       "      <td>USW00094728</td>\n",
       "      <td>NY CITY CENTRAL PARK, NY US</td>\n",
       "      <td>2003-01-04</td>\n",
       "      <td>0.03</td>\n",
       "      <td>0.0</td>\n",
       "      <td>0.0</td>\n",
       "      <td>34.0</td>\n",
       "      <td>36</td>\n",
       "      <td>31</td>\n",
       "    </tr>\n",
       "    <tr>\n",
       "      <th>4</th>\n",
       "      <td>USW00094728</td>\n",
       "      <td>NY CITY CENTRAL PARK, NY US</td>\n",
       "      <td>2003-01-05</td>\n",
       "      <td>0.09</td>\n",
       "      <td>0.3</td>\n",
       "      <td>NaN</td>\n",
       "      <td>34.0</td>\n",
       "      <td>36</td>\n",
       "      <td>32</td>\n",
       "    </tr>\n",
       "  </tbody>\n",
       "</table>\n",
       "</div>"
      ],
      "text/plain": [
       "       STATION                         NAME       DATE  PRCP  SNOW  SNWD  \\\n",
       "0  USW00094728  NY CITY CENTRAL PARK, NY US 2003-01-01  1.52   0.0   NaN   \n",
       "1  USW00094728  NY CITY CENTRAL PARK, NY US 2003-01-02  0.07   0.0   NaN   \n",
       "2  USW00094728  NY CITY CENTRAL PARK, NY US 2003-01-03  0.41   0.0   NaN   \n",
       "3  USW00094728  NY CITY CENTRAL PARK, NY US 2003-01-04  0.03   0.0   0.0   \n",
       "4  USW00094728  NY CITY CENTRAL PARK, NY US 2003-01-05  0.09   0.3   NaN   \n",
       "\n",
       "   TAVG  TMAX  TMIN  \n",
       "0  43.0    50    36  \n",
       "1  33.0    37    29  \n",
       "2  32.0    34    29  \n",
       "3  34.0    36    31  \n",
       "4  34.0    36    32  "
      ]
     },
     "execution_count": 103,
     "metadata": {},
     "output_type": "execute_result"
    }
   ],
   "source": [
    "weather.head()"
   ]
  },
  {
   "cell_type": "code",
   "execution_count": 100,
   "metadata": {},
   "outputs": [],
   "source": [
    "weather['DATE'] =  pd.to_datetime(weather['DATE'],infer_datetime_format=True, format='%Y%m%d')"
   ]
  },
  {
   "cell_type": "code",
   "execution_count": 104,
   "metadata": {},
   "outputs": [],
   "source": [
    "dfcombined5 = dfcombined4.merge(weather, left_on='Issue Date', right_on='DATE')"
   ]
  },
  {
   "cell_type": "markdown",
   "metadata": {},
   "source": [
    "#### Add in special events (based on permit data)"
   ]
  },
  {
   "cell_type": "code",
   "execution_count": 108,
   "metadata": {},
   "outputs": [],
   "source": [
    "NYC_events = pd.read_csv (r'C:\\Users\\38150\\Desktop\\CapstoneData\\NYC_Permitted_Event_Information_-_Historical.csv', low_memory=False)"
   ]
  },
  {
   "cell_type": "code",
   "execution_count": 109,
   "metadata": {},
   "outputs": [
    {
     "data": {
      "text/plain": [
       "(3594100, 12)"
      ]
     },
     "execution_count": 109,
     "metadata": {},
     "output_type": "execute_result"
    }
   ],
   "source": [
    "NYC_events.shape"
   ]
  },
  {
   "cell_type": "code",
   "execution_count": 119,
   "metadata": {},
   "outputs": [],
   "source": [
    "NYC_events.rename(columns={'Event ID':'EventID'}, inplace=True)"
   ]
  },
  {
   "cell_type": "code",
   "execution_count": 133,
   "metadata": {},
   "outputs": [
    {
     "name": "stdout",
     "output_type": "stream",
     "text": [
      "<class 'pandas.core.frame.DataFrame'>\n",
      "Int64Index: 120386 entries, 0 to 3594085\n",
      "Data columns (total 12 columns):\n",
      "EventID                120386 non-null float64\n",
      "Event Name             120386 non-null object\n",
      "Start Date/Time        120385 non-null datetime64[ns]\n",
      "End Date/Time          120385 non-null object\n",
      "Event Agency           120385 non-null object\n",
      "Event Type             120385 non-null object\n",
      "Event Borough          120367 non-null object\n",
      "Event Location         120373 non-null object\n",
      "Event Street Side      45747 non-null object\n",
      "Street Closure Type    46719 non-null object\n",
      "Community Board        116503 non-null object\n",
      "Police Precinct        118987 non-null object\n",
      "dtypes: datetime64[ns](1), float64(1), object(10)\n",
      "memory usage: 11.9+ MB\n"
     ]
    }
   ],
   "source": [
    "NYC_events.info()"
   ]
  },
  {
   "cell_type": "code",
   "execution_count": 125,
   "metadata": {},
   "outputs": [],
   "source": [
    "NYC_events.drop_duplicates(subset =\"EventID\", keep = False, inplace = True) "
   ]
  },
  {
   "cell_type": "code",
   "execution_count": 131,
   "metadata": {},
   "outputs": [],
   "source": [
    "NYC_events['Start Date/Time'] =  pd.to_datetime(NYC_events['Start Date/Time'])"
   ]
  },
  {
   "cell_type": "code",
   "execution_count": 137,
   "metadata": {},
   "outputs": [],
   "source": [
    "NYC_events['Start Date/Time'] = NYC_events['Start Date/Time'].dt.floor('d')"
   ]
  },
  {
   "cell_type": "code",
   "execution_count": 141,
   "metadata": {},
   "outputs": [],
   "source": [
    "NYC_events['year'] = NYC_events['Start Date/Time'].dt.year"
   ]
  },
  {
   "cell_type": "code",
   "execution_count": 143,
   "metadata": {},
   "outputs": [],
   "source": [
    "NYC_events2 = NYC_events[(NYC_events.year == 2017) | (NYC_events.year == 2018) | (NYC_events.year == 2019)]"
   ]
  },
  {
   "cell_type": "code",
   "execution_count": 149,
   "metadata": {},
   "outputs": [
    {
     "data": {
      "text/plain": [
       "Full Street Closure                2723\n",
       "Curb Lane Only                      856\n",
       "Sidewalk and Curb Lane Closure      307\n",
       "Partial Sidewalk Closure            250\n",
       "Pedestrian Plaza                    199\n",
       "Sidewalk and Street Closure         190\n",
       "Full Sidewalk Closure                45\n",
       "Name: Street Closure Type, dtype: int64"
      ]
     },
     "execution_count": 149,
     "metadata": {},
     "output_type": "execute_result"
    }
   ],
   "source": [
    "NYC_events2['Street Closure Type'].value_counts()"
   ]
  },
  {
   "cell_type": "code",
   "execution_count": 150,
   "metadata": {},
   "outputs": [
    {
     "data": {
      "text/html": [
       "<div>\n",
       "<style scoped>\n",
       "    .dataframe tbody tr th:only-of-type {\n",
       "        vertical-align: middle;\n",
       "    }\n",
       "\n",
       "    .dataframe tbody tr th {\n",
       "        vertical-align: top;\n",
       "    }\n",
       "\n",
       "    .dataframe thead th {\n",
       "        text-align: right;\n",
       "    }\n",
       "</style>\n",
       "<table border=\"1\" class=\"dataframe\">\n",
       "  <thead>\n",
       "    <tr style=\"text-align: right;\">\n",
       "      <th></th>\n",
       "      <th>EventID</th>\n",
       "      <th>Event Name</th>\n",
       "      <th>Start Date/Time</th>\n",
       "      <th>End Date/Time</th>\n",
       "      <th>Event Agency</th>\n",
       "      <th>Event Type</th>\n",
       "      <th>Event Borough</th>\n",
       "      <th>Event Location</th>\n",
       "      <th>Event Street Side</th>\n",
       "      <th>Street Closure Type</th>\n",
       "      <th>Community Board</th>\n",
       "      <th>Police Precinct</th>\n",
       "      <th>year</th>\n",
       "    </tr>\n",
       "  </thead>\n",
       "  <tbody>\n",
       "    <tr>\n",
       "      <th>28</th>\n",
       "      <td>356356.0</td>\n",
       "      <td>Celebration</td>\n",
       "      <td>2017-07-08</td>\n",
       "      <td>07/08/2017 07:00:00 PM</td>\n",
       "      <td>Parks Department</td>\n",
       "      <td>Special Event</td>\n",
       "      <td>Brooklyn</td>\n",
       "      <td>Canarsie Park: Lawn Area E 93rd Street and Ski...</td>\n",
       "      <td>NaN</td>\n",
       "      <td>NaN</td>\n",
       "      <td>18,</td>\n",
       "      <td>69,</td>\n",
       "      <td>2017.0</td>\n",
       "    </tr>\n",
       "    <tr>\n",
       "      <th>40</th>\n",
       "      <td>357510.0</td>\n",
       "      <td>Class Picnic</td>\n",
       "      <td>2017-06-21</td>\n",
       "      <td>06/21/2017 08:00:00 PM</td>\n",
       "      <td>Hudson River Park Trust</td>\n",
       "      <td>Special Event</td>\n",
       "      <td>Manhattan</td>\n",
       "      <td>HRPT Piers: Pier 45</td>\n",
       "      <td>NaN</td>\n",
       "      <td>NaN</td>\n",
       "      <td>2,</td>\n",
       "      <td>6,</td>\n",
       "      <td>2017.0</td>\n",
       "    </tr>\n",
       "  </tbody>\n",
       "</table>\n",
       "</div>"
      ],
      "text/plain": [
       "     EventID    Event Name Start Date/Time           End Date/Time  \\\n",
       "28  356356.0  Celebration       2017-07-08  07/08/2017 07:00:00 PM   \n",
       "40  357510.0  Class Picnic      2017-06-21  06/21/2017 08:00:00 PM   \n",
       "\n",
       "               Event Agency     Event Type Event Borough  \\\n",
       "28         Parks Department  Special Event      Brooklyn   \n",
       "40  Hudson River Park Trust  Special Event     Manhattan   \n",
       "\n",
       "                                       Event Location Event Street Side  \\\n",
       "28  Canarsie Park: Lawn Area E 93rd Street and Ski...               NaN   \n",
       "40                             HRPT Piers: Pier 45                  NaN   \n",
       "\n",
       "   Street Closure Type Community Board Police Precinct    year  \n",
       "28                 NaN            18,             69,   2017.0  \n",
       "40                 NaN             2,              6,   2017.0  "
      ]
     },
     "execution_count": 150,
     "metadata": {},
     "output_type": "execute_result"
    }
   ],
   "source": [
    "NYC_events2.head(2)"
   ]
  },
  {
   "cell_type": "code",
   "execution_count": 153,
   "metadata": {},
   "outputs": [],
   "source": [
    "def tidy_split(df, column, sep='|', keep=False):\n",
    "    indexes = list()\n",
    "    new_values = list()\n",
    "    df = df.dropna(subset=[column])\n",
    "    for i, presplit in enumerate(df[column].astype(str)):\n",
    "        values = presplit.split(sep)\n",
    "        if keep and len(values) > 1:\n",
    "            indexes.append(i)\n",
    "            new_values.append(presplit)\n",
    "        for value in values:\n",
    "            indexes.append(i)\n",
    "            new_values.append(value)\n",
    "    new_df = df.iloc[indexes, :].copy()\n",
    "    new_df[column] = new_values\n",
    "    return new_df"
   ]
  },
  {
   "cell_type": "code",
   "execution_count": 155,
   "metadata": {},
   "outputs": [],
   "source": [
    "NYC_events3 = tidy_split(NYC_events2, 'Police Precinct', sep=',')"
   ]
  },
  {
   "cell_type": "code",
   "execution_count": 172,
   "metadata": {},
   "outputs": [],
   "source": [
    "NYC_events3.rename(columns={'Police Precinct':'PolicePrecinct'}, inplace=True)"
   ]
  },
  {
   "cell_type": "code",
   "execution_count": 174,
   "metadata": {},
   "outputs": [],
   "source": [
    "NYC_events3.PolicePrecinct = pd.to_numeric(NYC_events3.PolicePrecinct, errors='coerce').fillna(0).astype(np.int64)"
   ]
  },
  {
   "cell_type": "code",
   "execution_count": 177,
   "metadata": {},
   "outputs": [],
   "source": [
    "NYC_events4 = NYC_events3[NYC_events3['PolicePrecinct'].isin(precincts_on_map)]"
   ]
  },
  {
   "cell_type": "code",
   "execution_count": 184,
   "metadata": {},
   "outputs": [],
   "source": [
    "NYC_events5 = NYC_events4.groupby(['Start Date/Time', 'PolicePrecinct', \n",
    "                                   'Street Closure Type']).size().reset_index(name='N_events')"
   ]
  },
  {
   "cell_type": "code",
   "execution_count": 192,
   "metadata": {},
   "outputs": [],
   "source": [
    "NYC_events6 = NYC_events5.pivot_table('N_events', ['Start Date/Time', 'PolicePrecinct'], 'Street Closure Type')"
   ]
  },
  {
   "cell_type": "code",
   "execution_count": 196,
   "metadata": {},
   "outputs": [],
   "source": [
    "NYC_events6.reset_index(drop=False, inplace=True )"
   ]
  },
  {
   "cell_type": "code",
   "execution_count": 201,
   "metadata": {},
   "outputs": [],
   "source": [
    "dfcombined6 = pd.merge(dfcombined5, NYC_events6,  how='left', left_on=['Issue Date','Violation Precinct'], \n",
    "                       right_on = ['Start Date/Time','PolicePrecinct'])"
   ]
  },
  {
   "cell_type": "code",
   "execution_count": 204,
   "metadata": {},
   "outputs": [
    {
     "data": {
      "text/plain": [
       "(55731, 26)"
      ]
     },
     "execution_count": 204,
     "metadata": {},
     "output_type": "execute_result"
    }
   ],
   "source": [
    "dfcombined6.shape"
   ]
  },
  {
   "cell_type": "markdown",
   "metadata": {},
   "source": [
    "#### Add in federal holidays"
   ]
  },
  {
   "cell_type": "code",
   "execution_count": 206,
   "metadata": {},
   "outputs": [],
   "source": [
    "Holidays = pd.read_csv (r'C:\\Users\\38150\\Desktop\\CapstoneData\\FederalHolidays.csv', low_memory=False)"
   ]
  },
  {
   "cell_type": "code",
   "execution_count": 210,
   "metadata": {},
   "outputs": [],
   "source": [
    "Holidays['FederalHoliday'] =  pd.to_datetime(Holidays['FederalHoliday'])"
   ]
  },
  {
   "cell_type": "code",
   "execution_count": 214,
   "metadata": {},
   "outputs": [],
   "source": [
    "Holidays['FedHoliday'] = 1"
   ]
  },
  {
   "cell_type": "code",
   "execution_count": 281,
   "metadata": {},
   "outputs": [],
   "source": [
    "dfcombined7 = pd.merge(dfcombined6, Holidays,  how='left', left_on=['Issue Date'], \n",
    "                       right_on = ['FederalHoliday'])"
   ]
  },
  {
   "cell_type": "code",
   "execution_count": 282,
   "metadata": {},
   "outputs": [],
   "source": [
    "dfcombined7.rename(columns={'Full Sidewalk Closure ':'FullSidewalkClosure', 'Full Street Closure ':'FullStreetClosure',\n",
    "                            'Partial Sidewalk Closure ':'PartialSidewalkClosure',\n",
    "                           'Pedestrian Plaza ':'PedestrianPlaza', \n",
    "                            'Sidewalk and Curb Lane Closure ':'SidewalkandCurbLaneClosure',\n",
    "                           'Sidewalk and Street Closure ':'SidewalkandStreetClosure'}, inplace=True)"
   ]
  },
  {
   "cell_type": "code",
   "execution_count": 311,
   "metadata": {},
   "outputs": [],
   "source": [
    "dfcombined8 = dfcombined7.drop(columns=['STATION', 'NAME', 'DATE', 'Start Date/Time', 'PolicePrecinct', 'FederalHoliday'])"
   ]
  },
  {
   "cell_type": "code",
   "execution_count": 312,
   "metadata": {},
   "outputs": [
    {
     "name": "stdout",
     "output_type": "stream",
     "text": [
      "Index(['Issue Date', 'Violation Precinct', 'N_violations', 'year', 'month',\n",
      "       'day', 'weekday', 'Borough', 'PRCP', 'SNOW', 'SNWD', 'TAVG', 'TMAX',\n",
      "       'TMIN', 'Curb Lane Only', 'FullSidewalkClosure', 'FullStreetClosure',\n",
      "       'PartialSidewalkClosure', 'PedestrianPlaza',\n",
      "       'SidewalkandCurbLaneClosure', 'SidewalkandStreetClosure', 'FedHoliday'],\n",
      "      dtype='object')\n"
     ]
    }
   ],
   "source": [
    "print(dfcombined8.columns)"
   ]
  },
  {
   "cell_type": "code",
   "execution_count": 316,
   "metadata": {},
   "outputs": [],
   "source": [
    "dfcombined9 = dfcombined8.fillna(0)"
   ]
  },
  {
   "cell_type": "code",
   "execution_count": 317,
   "metadata": {},
   "outputs": [],
   "source": [
    "dfcombined9['Total_Events'] = (dfcombined9['Curb Lane Only'] + dfcombined9['FullSidewalkClosure'] \n",
    "                               + dfcombined9['FullStreetClosure'] + dfcombined9['PartialSidewalkClosure'] \n",
    "                               + dfcombined9['PedestrianPlaza'] + dfcombined9['SidewalkandCurbLaneClosure']\n",
    "                               + dfcombined9['SidewalkandStreetClosure'])"
   ]
  },
  {
   "cell_type": "code",
   "execution_count": 319,
   "metadata": {},
   "outputs": [],
   "source": [
    "dfcombined9.to_csv(r'C:\\Users\\38150\\Desktop\\CapstoneData\\TicketsDataClean.csv')"
   ]
  },
  {
   "cell_type": "markdown",
   "metadata": {},
   "source": [
    "# Cleaned data starting here"
   ]
  },
  {
   "cell_type": "code",
   "execution_count": 3,
   "metadata": {},
   "outputs": [],
   "source": [
    "dfcombined9 = pd.read_csv (r'C:\\Users\\Elliot\\Desktop\\NYC_Parking\\TicketsDataClean.csv', low_memory=False)\n"
   ]
  },
  {
   "cell_type": "code",
   "execution_count": 202,
   "metadata": {},
   "outputs": [
    {
     "data": {
      "text/html": [
       "<div>\n",
       "<style scoped>\n",
       "    .dataframe tbody tr th:only-of-type {\n",
       "        vertical-align: middle;\n",
       "    }\n",
       "\n",
       "    .dataframe tbody tr th {\n",
       "        vertical-align: top;\n",
       "    }\n",
       "\n",
       "    .dataframe thead th {\n",
       "        text-align: right;\n",
       "    }\n",
       "</style>\n",
       "<table border=\"1\" class=\"dataframe\">\n",
       "  <thead>\n",
       "    <tr style=\"text-align: right;\">\n",
       "      <th></th>\n",
       "      <th>Unnamed: 0</th>\n",
       "      <th>Issue Date</th>\n",
       "      <th>Violation Precinct</th>\n",
       "      <th>N_violations</th>\n",
       "      <th>year</th>\n",
       "      <th>month</th>\n",
       "      <th>day</th>\n",
       "      <th>weekday</th>\n",
       "      <th>Borough</th>\n",
       "      <th>PRCP</th>\n",
       "      <th>...</th>\n",
       "      <th>TMIN</th>\n",
       "      <th>Curb Lane Only</th>\n",
       "      <th>FullSidewalkClosure</th>\n",
       "      <th>FullStreetClosure</th>\n",
       "      <th>PartialSidewalkClosure</th>\n",
       "      <th>PedestrianPlaza</th>\n",
       "      <th>SidewalkandCurbLaneClosure</th>\n",
       "      <th>SidewalkandStreetClosure</th>\n",
       "      <th>FedHoliday</th>\n",
       "      <th>Total_Events</th>\n",
       "    </tr>\n",
       "  </thead>\n",
       "  <tbody>\n",
       "    <tr>\n",
       "      <th>0</th>\n",
       "      <td>0</td>\n",
       "      <td>2017-01-01</td>\n",
       "      <td>1</td>\n",
       "      <td>119</td>\n",
       "      <td>2017</td>\n",
       "      <td>1</td>\n",
       "      <td>1</td>\n",
       "      <td>6</td>\n",
       "      <td>Manhattan</td>\n",
       "      <td>0.0</td>\n",
       "      <td>...</td>\n",
       "      <td>40</td>\n",
       "      <td>0.0</td>\n",
       "      <td>0.0</td>\n",
       "      <td>0.0</td>\n",
       "      <td>0.0</td>\n",
       "      <td>0.0</td>\n",
       "      <td>0.0</td>\n",
       "      <td>0.0</td>\n",
       "      <td>1.0</td>\n",
       "      <td>0.0</td>\n",
       "    </tr>\n",
       "    <tr>\n",
       "      <th>1</th>\n",
       "      <td>1</td>\n",
       "      <td>2017-01-01</td>\n",
       "      <td>5</td>\n",
       "      <td>43</td>\n",
       "      <td>2017</td>\n",
       "      <td>1</td>\n",
       "      <td>1</td>\n",
       "      <td>6</td>\n",
       "      <td>Manhattan</td>\n",
       "      <td>0.0</td>\n",
       "      <td>...</td>\n",
       "      <td>40</td>\n",
       "      <td>0.0</td>\n",
       "      <td>0.0</td>\n",
       "      <td>0.0</td>\n",
       "      <td>0.0</td>\n",
       "      <td>0.0</td>\n",
       "      <td>0.0</td>\n",
       "      <td>0.0</td>\n",
       "      <td>1.0</td>\n",
       "      <td>0.0</td>\n",
       "    </tr>\n",
       "    <tr>\n",
       "      <th>2</th>\n",
       "      <td>2</td>\n",
       "      <td>2017-01-01</td>\n",
       "      <td>6</td>\n",
       "      <td>16</td>\n",
       "      <td>2017</td>\n",
       "      <td>1</td>\n",
       "      <td>1</td>\n",
       "      <td>6</td>\n",
       "      <td>Manhattan</td>\n",
       "      <td>0.0</td>\n",
       "      <td>...</td>\n",
       "      <td>40</td>\n",
       "      <td>0.0</td>\n",
       "      <td>0.0</td>\n",
       "      <td>0.0</td>\n",
       "      <td>0.0</td>\n",
       "      <td>0.0</td>\n",
       "      <td>0.0</td>\n",
       "      <td>0.0</td>\n",
       "      <td>1.0</td>\n",
       "      <td>0.0</td>\n",
       "    </tr>\n",
       "    <tr>\n",
       "      <th>3</th>\n",
       "      <td>3</td>\n",
       "      <td>2017-01-01</td>\n",
       "      <td>7</td>\n",
       "      <td>15</td>\n",
       "      <td>2017</td>\n",
       "      <td>1</td>\n",
       "      <td>1</td>\n",
       "      <td>6</td>\n",
       "      <td>Manhattan</td>\n",
       "      <td>0.0</td>\n",
       "      <td>...</td>\n",
       "      <td>40</td>\n",
       "      <td>0.0</td>\n",
       "      <td>0.0</td>\n",
       "      <td>0.0</td>\n",
       "      <td>0.0</td>\n",
       "      <td>0.0</td>\n",
       "      <td>0.0</td>\n",
       "      <td>0.0</td>\n",
       "      <td>1.0</td>\n",
       "      <td>0.0</td>\n",
       "    </tr>\n",
       "    <tr>\n",
       "      <th>4</th>\n",
       "      <td>4</td>\n",
       "      <td>2017-01-01</td>\n",
       "      <td>9</td>\n",
       "      <td>10</td>\n",
       "      <td>2017</td>\n",
       "      <td>1</td>\n",
       "      <td>1</td>\n",
       "      <td>6</td>\n",
       "      <td>Manhattan</td>\n",
       "      <td>0.0</td>\n",
       "      <td>...</td>\n",
       "      <td>40</td>\n",
       "      <td>0.0</td>\n",
       "      <td>0.0</td>\n",
       "      <td>0.0</td>\n",
       "      <td>0.0</td>\n",
       "      <td>0.0</td>\n",
       "      <td>0.0</td>\n",
       "      <td>0.0</td>\n",
       "      <td>1.0</td>\n",
       "      <td>0.0</td>\n",
       "    </tr>\n",
       "  </tbody>\n",
       "</table>\n",
       "<p>5 rows × 24 columns</p>\n",
       "</div>"
      ],
      "text/plain": [
       "   Unnamed: 0  Issue Date  Violation Precinct  N_violations  year  month  day  \\\n",
       "0           0  2017-01-01                   1           119  2017      1    1   \n",
       "1           1  2017-01-01                   5            43  2017      1    1   \n",
       "2           2  2017-01-01                   6            16  2017      1    1   \n",
       "3           3  2017-01-01                   7            15  2017      1    1   \n",
       "4           4  2017-01-01                   9            10  2017      1    1   \n",
       "\n",
       "   weekday    Borough  PRCP  ...  TMIN  Curb Lane Only  FullSidewalkClosure  \\\n",
       "0        6  Manhattan   0.0  ...    40             0.0                  0.0   \n",
       "1        6  Manhattan   0.0  ...    40             0.0                  0.0   \n",
       "2        6  Manhattan   0.0  ...    40             0.0                  0.0   \n",
       "3        6  Manhattan   0.0  ...    40             0.0                  0.0   \n",
       "4        6  Manhattan   0.0  ...    40             0.0                  0.0   \n",
       "\n",
       "   FullStreetClosure  PartialSidewalkClosure  PedestrianPlaza  \\\n",
       "0                0.0                     0.0              0.0   \n",
       "1                0.0                     0.0              0.0   \n",
       "2                0.0                     0.0              0.0   \n",
       "3                0.0                     0.0              0.0   \n",
       "4                0.0                     0.0              0.0   \n",
       "\n",
       "   SidewalkandCurbLaneClosure  SidewalkandStreetClosure  FedHoliday  \\\n",
       "0                         0.0                       0.0         1.0   \n",
       "1                         0.0                       0.0         1.0   \n",
       "2                         0.0                       0.0         1.0   \n",
       "3                         0.0                       0.0         1.0   \n",
       "4                         0.0                       0.0         1.0   \n",
       "\n",
       "   Total_Events  \n",
       "0           0.0  \n",
       "1           0.0  \n",
       "2           0.0  \n",
       "3           0.0  \n",
       "4           0.0  \n",
       "\n",
       "[5 rows x 24 columns]"
      ]
     },
     "execution_count": 202,
     "metadata": {},
     "output_type": "execute_result"
    }
   ],
   "source": [
    "dfcombined9.head()"
   ]
  },
  {
   "cell_type": "code",
   "execution_count": 204,
   "metadata": {},
   "outputs": [
    {
     "data": {
      "text/plain": [
       "(55731, 24)"
      ]
     },
     "execution_count": 204,
     "metadata": {},
     "output_type": "execute_result"
    }
   ],
   "source": [
    "dfcombined9.shape"
   ]
  },
  {
   "cell_type": "code",
   "execution_count": 4,
   "metadata": {},
   "outputs": [],
   "source": [
    "def temperature(example_int):\n",
    "    if example_int < 20:\n",
    "        return '<20'\n",
    "    elif example_int < 40:\n",
    "        return '20 - 40'\n",
    "    elif example_int < 60:\n",
    "        return '40 - 60'\n",
    "    elif example_int < 80:\n",
    "        return '60 - 80'\n",
    "    else:\n",
    "        return '>80'\n",
    "\n",
    "def precipitation(example_float):\n",
    "    if example_float == 0:\n",
    "        return '0'\n",
    "    elif example_float < 0.5:\n",
    "        return '0.1 - 0.5'\n",
    "    elif example_float < 1.0:\n",
    "        return '0.5 - 1.0'\n",
    "    elif example_float < 1.5:\n",
    "        return '1.0 - 1.5'\n",
    "    elif example_float < 2.0:\n",
    "        return '1.5 - 2.0'\n",
    "    elif example_float < 2.5:\n",
    "        return '2.0 - 2.5'\n",
    "    elif example_float < 3.0:\n",
    "        return '2.5 - 3.0'\n",
    "    else:\n",
    "        return '3.0+'\n",
    "\n",
    "def weekday(example_int):\n",
    "    if example_int == 0:\n",
    "        return 'Monday'\n",
    "    elif example_int == 1:\n",
    "        return 'Tuesday'\n",
    "    elif example_int == 2:\n",
    "        return 'Wednesday'\n",
    "    elif example_int == 3:\n",
    "        return 'Thursday'\n",
    "    elif example_int == 4:\n",
    "        return 'Friday'\n",
    "    elif example_int == 5:\n",
    "        return 'Saturday'\n",
    "    elif example_int == 6:\n",
    "        return 'Sunday'"
   ]
  },
  {
   "cell_type": "markdown",
   "metadata": {},
   "source": [
    "#### Set up temporary test dataset for 1 Precinct"
   ]
  },
  {
   "cell_type": "code",
   "execution_count": 561,
   "metadata": {},
   "outputs": [],
   "source": [
    "TestModel = dfcombined9.loc[dfcombined9['Violation Precinct'] == 34] #18 is midtown Manhattan"
   ]
  },
  {
   "cell_type": "code",
   "execution_count": 562,
   "metadata": {},
   "outputs": [],
   "source": [
    "TestModel = TestModel[['N_violations', 'weekday', 'PRCP', 'SNOW', 'TMIN', 'TMAX', 'Total_Events', 'FedHoliday']]"
   ]
  },
  {
   "cell_type": "markdown",
   "metadata": {},
   "source": [
    "# Data Visualizations"
   ]
  },
  {
   "cell_type": "code",
   "execution_count": 563,
   "metadata": {},
   "outputs": [
    {
     "name": "stderr",
     "output_type": "stream",
     "text": [
      "100%|████████████████████████████████████████████████████████████████████████████| 730/730 [00:00<00:00, 359751.14it/s]\n"
     ]
    }
   ],
   "source": [
    "TestModel['TEMP_GROUP'] = TestModel['TMAX'].astype('int').progress_apply(temperature)"
   ]
  },
  {
   "cell_type": "code",
   "execution_count": 564,
   "metadata": {
    "scrolled": true
   },
   "outputs": [
    {
     "name": "stderr",
     "output_type": "stream",
     "text": [
      "100%|████████████████████████████████████████████████████████████████████████████| 730/730 [00:00<00:00, 365942.62it/s]\n"
     ]
    }
   ],
   "source": [
    "TestModel['PRCP_GROUP'] = TestModel['PRCP'].astype('float').progress_apply(precipitation)"
   ]
  },
  {
   "cell_type": "code",
   "execution_count": 565,
   "metadata": {
    "scrolled": true
   },
   "outputs": [
    {
     "name": "stderr",
     "output_type": "stream",
     "text": [
      "100%|████████████████████████████████████████████████████████████████████████████| 730/730 [00:00<00:00, 330795.37it/s]\n"
     ]
    }
   ],
   "source": [
    "TestModel['weekday2'] = TestModel['weekday'].astype('int').progress_apply(weekday)"
   ]
  },
  {
   "cell_type": "code",
   "execution_count": 566,
   "metadata": {},
   "outputs": [
    {
     "data": {
      "text/plain": [
       "<seaborn.axisgrid.FacetGrid at 0x128e825d780>"
      ]
     },
     "execution_count": 566,
     "metadata": {},
     "output_type": "execute_result"
    },
    {
     "data": {
      "image/png": "[encoded data removed]",
      "text/plain": [
       "<Figure size 720x360 with 1 Axes>"
      ]
     },
     "metadata": {},
     "output_type": "display_data"
    }
   ],
   "source": [
    "sns.catplot(x='TEMP_GROUP', y='N_violations', kind=\"box\", order=['<20', '20 - 40', '40 - 60', '60 - 80', '>80'], height=5, \n",
    "            aspect=2, data=TestModel, color = 'wheat').set(title = \"Number of violations by Temperature\", \n",
    "                                                           xlabel = \"Temperature in Farenheit\", ylabel = \"Number of violations\")"
   ]
  },
  {
   "cell_type": "code",
   "execution_count": 567,
   "metadata": {},
   "outputs": [
    {
     "data": {
      "text/plain": [
       "<seaborn.axisgrid.FacetGrid at 0x128e84a7908>"
      ]
     },
     "execution_count": 567,
     "metadata": {},
     "output_type": "execute_result"
    },
    {
     "data": {
      "image/png": "[encoded data removed]",
      "text/plain": [
       "<Figure size 720x360 with 1 Axes>"
      ]
     },
     "metadata": {},
     "output_type": "display_data"
    }
   ],
   "source": [
    "sns.catplot(x='PRCP_GROUP', y='N_violations', kind=\"box\", order=['0','0.1 - 0.5','0.5 - 1.0','1.0 - 1.5','1.5 - 2.0',\n",
    "                                                                   '2.0 - 2.5','2.5 - 3.0','3.0+'] ,\n",
    "            height=5, aspect=2, data=TestModel, color = 'skyblue').set(title = \"Number of violations by Rain\", \n",
    "                                                           xlabel = \"Rainfall in inches\", ylabel = \"Number of violations\")"
   ]
  },
  {
   "cell_type": "code",
   "execution_count": 568,
   "metadata": {
    "scrolled": true
   },
   "outputs": [
    {
     "data": {
      "text/plain": [
       "<seaborn.axisgrid.FacetGrid at 0x128e84f3908>"
      ]
     },
     "execution_count": 568,
     "metadata": {},
     "output_type": "execute_result"
    },
    {
     "data": {
      "image/png": "[encoded data removed]",
      "text/plain": [
       "<Figure size 360x360 with 1 Axes>"
      ]
     },
     "metadata": {},
     "output_type": "display_data"
    }
   ],
   "source": [
    "sns.catplot(x='Total_Events', y='N_violations', kind=\"box\", data=TestModel, \n",
    "            color = 'plum').set(title = \"Number of violations by Events\", xlabel = \"Number of events e.g., parades\", \n",
    "                                ylabel = \"Number of violations\")"
   ]
  },
  {
   "cell_type": "code",
   "execution_count": 569,
   "metadata": {},
   "outputs": [
    {
     "data": {
      "text/plain": [
       "<seaborn.axisgrid.FacetGrid at 0x128e8643dd8>"
      ]
     },
     "execution_count": 569,
     "metadata": {},
     "output_type": "execute_result"
    },
    {
     "data": {
      "image/png": "[encoded data removed]",
      "text/plain": [
       "<Figure size 720x360 with 1 Axes>"
      ]
     },
     "metadata": {},
     "output_type": "display_data"
    }
   ],
   "source": [
    "sns.catplot(x='weekday2', y='N_violations', kind=\"box\", data=TestModel, height=5, aspect= 2,  \n",
    "            color = 'mediumaquamarine').set(title = \"Number of violations by Day of week in Midtown Manhattan (precinct 18)\", \n",
    "                                                           xlabel = \"Day of week\", ylabel = \"Number of violations\")"
   ]
  },
  {
   "cell_type": "markdown",
   "metadata": {},
   "source": [
    "# Modeling"
   ]
  },
  {
   "cell_type": "code",
   "execution_count": 570,
   "metadata": {},
   "outputs": [],
   "source": [
    "TestModel = TestModel.drop(columns=['TEMP_GROUP', 'PRCP_GROUP'])"
   ]
  },
  {
   "cell_type": "code",
   "execution_count": 571,
   "metadata": {},
   "outputs": [],
   "source": [
    "TestModel2 = pd.get_dummies(TestModel)"
   ]
  },
  {
   "cell_type": "markdown",
   "metadata": {},
   "source": [
    "### RF"
   ]
  },
  {
   "cell_type": "code",
   "execution_count": 572,
   "metadata": {},
   "outputs": [],
   "source": [
    "X = TestModel2[['weekday2_Friday', 'weekday2_Monday', 'weekday2_Tuesday', 'weekday2_Wednesday', 'weekday2_Thursday', \n",
    "               'weekday2_Saturday', 'weekday2_Sunday', 'PRCP', 'SNOW', 'TMIN', 'TMAX', 'Total_Events', 'FedHoliday']] \n",
    "        # N features for multiple regression. \n",
    "Y = TestModel2['N_violations']"
   ]
  },
  {
   "cell_type": "code",
   "execution_count": 573,
   "metadata": {},
   "outputs": [
    {
     "data": {
      "text/plain": [
       "((730, 13), (584, 13), (146, 13))"
      ]
     },
     "execution_count": 573,
     "metadata": {},
     "output_type": "execute_result"
    }
   ],
   "source": [
    "X_train, X_test, y_train, y_test = model_selection.train_test_split(X, Y, test_size=0.2, random_state=42)\n",
    "X.shape, X_train.shape, X_test.shape"
   ]
  },
  {
   "cell_type": "code",
   "execution_count": 574,
   "metadata": {},
   "outputs": [],
   "source": [
    "X_train, X_test, y_train, y_test = model_selection.train_test_split(X, Y, test_size = 0.2, random_state = 42)"
   ]
  },
  {
   "cell_type": "code",
   "execution_count": 575,
   "metadata": {},
   "outputs": [],
   "source": [
    "rf = RandomForestRegressor(n_estimators = 100, random_state = 42)\n",
    "rf.fit(X_train, y_train);"
   ]
  },
  {
   "cell_type": "code",
   "execution_count": 576,
   "metadata": {},
   "outputs": [
    {
     "name": "stdout",
     "output_type": "stream",
     "text": [
      "R2: 0.51\n"
     ]
    }
   ],
   "source": [
    "y_model = rf.predict(X_test)\n",
    "acc_score = r2_score(y_model, y_test)\n",
    "print('R2:', round(acc_score, 2))"
   ]
  },
  {
   "cell_type": "code",
   "execution_count": 577,
   "metadata": {},
   "outputs": [
    {
     "data": {
      "image/png": "[encoded data removed]",
      "text/plain": [
       "<Figure size 432x288 with 1 Axes>"
      ]
     },
     "metadata": {},
     "output_type": "display_data"
    }
   ],
   "source": [
    "plt.scatter(y_test, y_model, color='green')\n",
    "plt.title('Midtown Manhattan prediction with Random Forest', fontsize=14)\n",
    "plt.xlabel('Model', fontsize=14)\n",
    "plt.ylabel('Actual', fontsize=14)\n",
    "plt.grid(True)\n",
    "plt.show()"
   ]
  },
  {
   "cell_type": "markdown",
   "metadata": {},
   "source": [
    "### Ridge"
   ]
  },
  {
   "cell_type": "code",
   "execution_count": 578,
   "metadata": {},
   "outputs": [
    {
     "data": {
      "text/plain": [
       "((730, 13), (584, 13), (146, 13))"
      ]
     },
     "execution_count": 578,
     "metadata": {},
     "output_type": "execute_result"
    }
   ],
   "source": [
    "X_train, X_test, y_train, y_test = model_selection.train_test_split(X, Y, test_size=0.2, random_state=42)\n",
    "X.shape, X_train.shape, X_test.shape"
   ]
  },
  {
   "cell_type": "code",
   "execution_count": 579,
   "metadata": {},
   "outputs": [],
   "source": [
    "scaler = StandardScaler()\n",
    "X_std = scaler.fit_transform(X_train)"
   ]
  },
  {
   "cell_type": "code",
   "execution_count": 580,
   "metadata": {},
   "outputs": [
    {
     "data": {
      "text/plain": [
       "10.0"
      ]
     },
     "execution_count": 580,
     "metadata": {},
     "output_type": "execute_result"
    }
   ],
   "source": [
    "regr_cv = RidgeCV(alphas=[0.1, 1.0, 2.0, 3.0, 4.0, 5.0, 6.0, 7.0, 8.0, 9.0, 10.0, 15.0, 20.0, 30.0, 40.0])\n",
    "model_cv = regr_cv.fit(X_std, y_train)\n",
    "model_cv.alpha_"
   ]
  },
  {
   "cell_type": "code",
   "execution_count": 581,
   "metadata": {},
   "outputs": [
    {
     "data": {
      "text/plain": [
       "Ridge(alpha=10.0, copy_X=True, fit_intercept=True, max_iter=None,\n",
       "      normalize=False, random_state=99, solver='auto', tol=0.001)"
      ]
     },
     "execution_count": 581,
     "metadata": {},
     "output_type": "execute_result"
    }
   ],
   "source": [
    "ridge = Ridge(alpha=10.0, fit_intercept=True, random_state=99)\n",
    "ridge.fit(X_train, y_train)"
   ]
  },
  {
   "cell_type": "code",
   "execution_count": 582,
   "metadata": {},
   "outputs": [],
   "source": [
    "y_model = ridge.predict(X_test)"
   ]
  },
  {
   "cell_type": "code",
   "execution_count": 583,
   "metadata": {},
   "outputs": [
    {
     "name": "stdout",
     "output_type": "stream",
     "text": [
      "[0, 0, 0, 0, 0, 0, 1]\n"
     ]
    },
    {
     "data": {
      "text/plain": [
       "295.3504579408959"
      ]
     },
     "execution_count": 583,
     "metadata": {},
     "output_type": "execute_result"
    }
   ],
   "source": [
    "a = [1,0,0,0,0,0,0,0,1,20,100,0,0]\n",
    "\n",
    "b = np.asarray(a)\n",
    "\n",
    "c = b.reshape(1,-1)\n",
    "\n",
    "day = 6\n",
    "\n",
    "day_lookup = {0: 1, 1: 2, 2: 3, 3: 4, 4: 0, 5: 5, 6: 6}\n",
    "day_array = [0]*7\n",
    "day_array[day_lookup[day]] = 1\n",
    "print(day_array)\n",
    "\n",
    "ridge.predict(c)[0]"
   ]
  },
  {
   "cell_type": "code",
   "execution_count": 103,
   "metadata": {},
   "outputs": [
    {
     "data": {
      "text/plain": [
       "34"
      ]
     },
     "execution_count": 103,
     "metadata": {},
     "output_type": "execute_result"
    }
   ],
   "source": [
    "1\n",
    "5X\n",
    "6X\n",
    "9X\n",
    "10X\n",
    "13X\n",
    "14X\n",
    "17X\n",
    "18X\n",
    "19X\n",
    "20X\n",
    "23X\n",
    "24X\n",
    "25X\n",
    "26X\n",
    "28X\n",
    "30X\n",
    "32X\n",
    "33X\n",
    "34X"
   ]
  },
  {
   "cell_type": "code",
   "execution_count": 584,
   "metadata": {},
   "outputs": [],
   "source": [
    "pickle.dump(ridge,open('parking_model34.pk', 'wb')) #write, save"
   ]
  },
  {
   "cell_type": "code",
   "execution_count": 77,
   "metadata": {},
   "outputs": [],
   "source": [
    "ridge2 = pickle.load(open('parking_model17.pk', 'rb')) #read"
   ]
  },
  {
   "cell_type": "code",
   "execution_count": 249,
   "metadata": {},
   "outputs": [
    {
     "data": {
      "text/plain": [
       "1057.5537745083398"
      ]
     },
     "execution_count": 249,
     "metadata": {},
     "output_type": "execute_result"
    }
   ],
   "source": [
    "ridge2.predict(c)[0]"
   ]
  },
  {
   "cell_type": "code",
   "execution_count": 585,
   "metadata": {},
   "outputs": [
    {
     "data": {
      "text/plain": [
       "0.6921593512724524"
      ]
     },
     "execution_count": 585,
     "metadata": {},
     "output_type": "execute_result"
    }
   ],
   "source": [
    "r2_score(y_test, y_model)"
   ]
  },
  {
   "cell_type": "code",
   "execution_count": 309,
   "metadata": {
    "scrolled": true
   },
   "outputs": [
    {
     "data": {
      "image/png": "[encoded data removed]",
      "text/plain": [
       "<Figure size 432x288 with 1 Axes>"
      ]
     },
     "metadata": {},
     "output_type": "display_data"
    }
   ],
   "source": [
    "plt.scatter(y_model, y_test, color='blue')\n",
    "plt.title('Midtown Manhattan prediction with Ridge Regression', fontsize=14)\n",
    "plt.xlabel('Model', fontsize=14)\n",
    "plt.ylabel('Actual', fontsize=14)\n",
    "plt.grid(True)\n",
    "plt.show()"
   ]
  },
  {
   "cell_type": "code",
   "execution_count": 106,
   "metadata": {},
   "outputs": [],
   "source": [
    "models = []\n",
    "#models.append(('LR', LogisticRegression()))\n",
    "#models.append(('LDA', LinearDiscriminantAnalysis()))\n",
    "models.append(('LinR', LinearRegression()))\n",
    "#models.append(('KNN', KNeighborsClassifier()))\n",
    "#models.append(('CART', DecisionTreeClassifier()))\n",
    "#models.append(('NB', GaussianNB()))\n",
    "#models.append(('SVM', SVC( kernel='rbf')))\n",
    "models.append(('RF', RandomForestRegressor()))"
   ]
  },
  {
   "cell_type": "code",
   "execution_count": 107,
   "metadata": {},
   "outputs": [
    {
     "data": {
      "text/plain": [
       "((584, 7), (584,))"
      ]
     },
     "execution_count": 107,
     "metadata": {},
     "output_type": "execute_result"
    }
   ],
   "source": [
    "X_train.shape, y_train.shape"
   ]
  },
  {
   "cell_type": "code",
   "execution_count": 327,
   "metadata": {},
   "outputs": [
    {
     "name": "stdout",
     "output_type": "stream",
     "text": [
      "LinR: 0.723292 0.697848 (0.055074)\n",
      "RF: 0.696845 0.663892 (0.038790)\n"
     ]
    }
   ],
   "source": [
    "cv_res = pd.DataFrame()\n",
    "results = []\n",
    "names = []\n",
    "for name, model in models:\n",
    "    model.fit(X_train,y_train)\n",
    "    cv_results = model_selection.cross_val_score(model, X_train, y_train, cv=6, scoring='r2')\n",
    "    results.append(cv_results)\n",
    "    names.append(name)\n",
    "    y_pred = model.predict(X_test)\n",
    "    acc_score = r2_score(y_test, y_pred)\n",
    "    msg = \"%s: %f %f (%f)\" % (name, cv_results.mean(),acc_score, cv_results.std())\n",
    "    print(msg)"
   ]
  },
  {
   "cell_type": "markdown",
   "metadata": {},
   "source": [
    "### Full test model"
   ]
  },
  {
   "cell_type": "code",
   "execution_count": 207,
   "metadata": {},
   "outputs": [
    {
     "data": {
      "text/html": [
       "<div>\n",
       "<style scoped>\n",
       "    .dataframe tbody tr th:only-of-type {\n",
       "        vertical-align: middle;\n",
       "    }\n",
       "\n",
       "    .dataframe tbody tr th {\n",
       "        vertical-align: top;\n",
       "    }\n",
       "\n",
       "    .dataframe thead th {\n",
       "        text-align: right;\n",
       "    }\n",
       "</style>\n",
       "<table border=\"1\" class=\"dataframe\">\n",
       "  <thead>\n",
       "    <tr style=\"text-align: right;\">\n",
       "      <th></th>\n",
       "      <th>Unnamed: 0</th>\n",
       "      <th>Issue Date</th>\n",
       "      <th>Violation Precinct</th>\n",
       "      <th>N_violations</th>\n",
       "      <th>year</th>\n",
       "      <th>month</th>\n",
       "      <th>day</th>\n",
       "      <th>weekday</th>\n",
       "      <th>Borough</th>\n",
       "      <th>PRCP</th>\n",
       "      <th>...</th>\n",
       "      <th>TMIN</th>\n",
       "      <th>Curb Lane Only</th>\n",
       "      <th>FullSidewalkClosure</th>\n",
       "      <th>FullStreetClosure</th>\n",
       "      <th>PartialSidewalkClosure</th>\n",
       "      <th>PedestrianPlaza</th>\n",
       "      <th>SidewalkandCurbLaneClosure</th>\n",
       "      <th>SidewalkandStreetClosure</th>\n",
       "      <th>FedHoliday</th>\n",
       "      <th>Total_Events</th>\n",
       "    </tr>\n",
       "  </thead>\n",
       "  <tbody>\n",
       "    <tr>\n",
       "      <th>0</th>\n",
       "      <td>0</td>\n",
       "      <td>2017-01-01</td>\n",
       "      <td>1</td>\n",
       "      <td>119</td>\n",
       "      <td>2017</td>\n",
       "      <td>1</td>\n",
       "      <td>1</td>\n",
       "      <td>6</td>\n",
       "      <td>Manhattan</td>\n",
       "      <td>0.0</td>\n",
       "      <td>...</td>\n",
       "      <td>40</td>\n",
       "      <td>0.0</td>\n",
       "      <td>0.0</td>\n",
       "      <td>0.0</td>\n",
       "      <td>0.0</td>\n",
       "      <td>0.0</td>\n",
       "      <td>0.0</td>\n",
       "      <td>0.0</td>\n",
       "      <td>1.0</td>\n",
       "      <td>0.0</td>\n",
       "    </tr>\n",
       "    <tr>\n",
       "      <th>1</th>\n",
       "      <td>1</td>\n",
       "      <td>2017-01-01</td>\n",
       "      <td>5</td>\n",
       "      <td>43</td>\n",
       "      <td>2017</td>\n",
       "      <td>1</td>\n",
       "      <td>1</td>\n",
       "      <td>6</td>\n",
       "      <td>Manhattan</td>\n",
       "      <td>0.0</td>\n",
       "      <td>...</td>\n",
       "      <td>40</td>\n",
       "      <td>0.0</td>\n",
       "      <td>0.0</td>\n",
       "      <td>0.0</td>\n",
       "      <td>0.0</td>\n",
       "      <td>0.0</td>\n",
       "      <td>0.0</td>\n",
       "      <td>0.0</td>\n",
       "      <td>1.0</td>\n",
       "      <td>0.0</td>\n",
       "    </tr>\n",
       "    <tr>\n",
       "      <th>2</th>\n",
       "      <td>2</td>\n",
       "      <td>2017-01-01</td>\n",
       "      <td>6</td>\n",
       "      <td>16</td>\n",
       "      <td>2017</td>\n",
       "      <td>1</td>\n",
       "      <td>1</td>\n",
       "      <td>6</td>\n",
       "      <td>Manhattan</td>\n",
       "      <td>0.0</td>\n",
       "      <td>...</td>\n",
       "      <td>40</td>\n",
       "      <td>0.0</td>\n",
       "      <td>0.0</td>\n",
       "      <td>0.0</td>\n",
       "      <td>0.0</td>\n",
       "      <td>0.0</td>\n",
       "      <td>0.0</td>\n",
       "      <td>0.0</td>\n",
       "      <td>1.0</td>\n",
       "      <td>0.0</td>\n",
       "    </tr>\n",
       "    <tr>\n",
       "      <th>3</th>\n",
       "      <td>3</td>\n",
       "      <td>2017-01-01</td>\n",
       "      <td>7</td>\n",
       "      <td>15</td>\n",
       "      <td>2017</td>\n",
       "      <td>1</td>\n",
       "      <td>1</td>\n",
       "      <td>6</td>\n",
       "      <td>Manhattan</td>\n",
       "      <td>0.0</td>\n",
       "      <td>...</td>\n",
       "      <td>40</td>\n",
       "      <td>0.0</td>\n",
       "      <td>0.0</td>\n",
       "      <td>0.0</td>\n",
       "      <td>0.0</td>\n",
       "      <td>0.0</td>\n",
       "      <td>0.0</td>\n",
       "      <td>0.0</td>\n",
       "      <td>1.0</td>\n",
       "      <td>0.0</td>\n",
       "    </tr>\n",
       "    <tr>\n",
       "      <th>4</th>\n",
       "      <td>4</td>\n",
       "      <td>2017-01-01</td>\n",
       "      <td>9</td>\n",
       "      <td>10</td>\n",
       "      <td>2017</td>\n",
       "      <td>1</td>\n",
       "      <td>1</td>\n",
       "      <td>6</td>\n",
       "      <td>Manhattan</td>\n",
       "      <td>0.0</td>\n",
       "      <td>...</td>\n",
       "      <td>40</td>\n",
       "      <td>0.0</td>\n",
       "      <td>0.0</td>\n",
       "      <td>0.0</td>\n",
       "      <td>0.0</td>\n",
       "      <td>0.0</td>\n",
       "      <td>0.0</td>\n",
       "      <td>0.0</td>\n",
       "      <td>1.0</td>\n",
       "      <td>0.0</td>\n",
       "    </tr>\n",
       "  </tbody>\n",
       "</table>\n",
       "<p>5 rows × 24 columns</p>\n",
       "</div>"
      ],
      "text/plain": [
       "   Unnamed: 0  Issue Date  Violation Precinct  N_violations  year  month  day  \\\n",
       "0           0  2017-01-01                   1           119  2017      1    1   \n",
       "1           1  2017-01-01                   5            43  2017      1    1   \n",
       "2           2  2017-01-01                   6            16  2017      1    1   \n",
       "3           3  2017-01-01                   7            15  2017      1    1   \n",
       "4           4  2017-01-01                   9            10  2017      1    1   \n",
       "\n",
       "   weekday    Borough  PRCP  ...  TMIN  Curb Lane Only  FullSidewalkClosure  \\\n",
       "0        6  Manhattan   0.0  ...    40             0.0                  0.0   \n",
       "1        6  Manhattan   0.0  ...    40             0.0                  0.0   \n",
       "2        6  Manhattan   0.0  ...    40             0.0                  0.0   \n",
       "3        6  Manhattan   0.0  ...    40             0.0                  0.0   \n",
       "4        6  Manhattan   0.0  ...    40             0.0                  0.0   \n",
       "\n",
       "   FullStreetClosure  PartialSidewalkClosure  PedestrianPlaza  \\\n",
       "0                0.0                     0.0              0.0   \n",
       "1                0.0                     0.0              0.0   \n",
       "2                0.0                     0.0              0.0   \n",
       "3                0.0                     0.0              0.0   \n",
       "4                0.0                     0.0              0.0   \n",
       "\n",
       "   SidewalkandCurbLaneClosure  SidewalkandStreetClosure  FedHoliday  \\\n",
       "0                         0.0                       0.0         1.0   \n",
       "1                         0.0                       0.0         1.0   \n",
       "2                         0.0                       0.0         1.0   \n",
       "3                         0.0                       0.0         1.0   \n",
       "4                         0.0                       0.0         1.0   \n",
       "\n",
       "   Total_Events  \n",
       "0           0.0  \n",
       "1           0.0  \n",
       "2           0.0  \n",
       "3           0.0  \n",
       "4           0.0  \n",
       "\n",
       "[5 rows x 24 columns]"
      ]
     },
     "execution_count": 207,
     "metadata": {},
     "output_type": "execute_result"
    }
   ],
   "source": [
    "dfcombined9.head()"
   ]
  },
  {
   "cell_type": "code",
   "execution_count": 212,
   "metadata": {},
   "outputs": [],
   "source": [
    "FullTestModel = dfcombined9[['N_violations', 'weekday', 'PRCP', 'SNOW', 'TMIN', 'TMAX', 'Total_Events', 'FedHoliday']]"
   ]
  },
  {
   "cell_type": "code",
   "execution_count": 215,
   "metadata": {},
   "outputs": [
    {
     "data": {
      "text/html": [
       "<div>\n",
       "<style scoped>\n",
       "    .dataframe tbody tr th:only-of-type {\n",
       "        vertical-align: middle;\n",
       "    }\n",
       "\n",
       "    .dataframe tbody tr th {\n",
       "        vertical-align: top;\n",
       "    }\n",
       "\n",
       "    .dataframe thead th {\n",
       "        text-align: right;\n",
       "    }\n",
       "</style>\n",
       "<table border=\"1\" class=\"dataframe\">\n",
       "  <thead>\n",
       "    <tr style=\"text-align: right;\">\n",
       "      <th></th>\n",
       "      <th>N_violations</th>\n",
       "      <th>weekday</th>\n",
       "      <th>PRCP</th>\n",
       "      <th>SNOW</th>\n",
       "      <th>TMIN</th>\n",
       "      <th>TMAX</th>\n",
       "      <th>Total_Events</th>\n",
       "      <th>FedHoliday</th>\n",
       "      <th>weekday2</th>\n",
       "    </tr>\n",
       "  </thead>\n",
       "  <tbody>\n",
       "    <tr>\n",
       "      <th>0</th>\n",
       "      <td>119</td>\n",
       "      <td>6</td>\n",
       "      <td>0.0</td>\n",
       "      <td>0.0</td>\n",
       "      <td>40</td>\n",
       "      <td>48</td>\n",
       "      <td>0.0</td>\n",
       "      <td>1.0</td>\n",
       "      <td>Sunday</td>\n",
       "    </tr>\n",
       "    <tr>\n",
       "      <th>1</th>\n",
       "      <td>43</td>\n",
       "      <td>6</td>\n",
       "      <td>0.0</td>\n",
       "      <td>0.0</td>\n",
       "      <td>40</td>\n",
       "      <td>48</td>\n",
       "      <td>0.0</td>\n",
       "      <td>1.0</td>\n",
       "      <td>Sunday</td>\n",
       "    </tr>\n",
       "    <tr>\n",
       "      <th>2</th>\n",
       "      <td>16</td>\n",
       "      <td>6</td>\n",
       "      <td>0.0</td>\n",
       "      <td>0.0</td>\n",
       "      <td>40</td>\n",
       "      <td>48</td>\n",
       "      <td>0.0</td>\n",
       "      <td>1.0</td>\n",
       "      <td>Sunday</td>\n",
       "    </tr>\n",
       "    <tr>\n",
       "      <th>3</th>\n",
       "      <td>15</td>\n",
       "      <td>6</td>\n",
       "      <td>0.0</td>\n",
       "      <td>0.0</td>\n",
       "      <td>40</td>\n",
       "      <td>48</td>\n",
       "      <td>0.0</td>\n",
       "      <td>1.0</td>\n",
       "      <td>Sunday</td>\n",
       "    </tr>\n",
       "    <tr>\n",
       "      <th>4</th>\n",
       "      <td>10</td>\n",
       "      <td>6</td>\n",
       "      <td>0.0</td>\n",
       "      <td>0.0</td>\n",
       "      <td>40</td>\n",
       "      <td>48</td>\n",
       "      <td>0.0</td>\n",
       "      <td>1.0</td>\n",
       "      <td>Sunday</td>\n",
       "    </tr>\n",
       "  </tbody>\n",
       "</table>\n",
       "</div>"
      ],
      "text/plain": [
       "   N_violations  weekday  PRCP  SNOW  TMIN  TMAX  Total_Events  FedHoliday  \\\n",
       "0           119        6   0.0   0.0    40    48           0.0         1.0   \n",
       "1            43        6   0.0   0.0    40    48           0.0         1.0   \n",
       "2            16        6   0.0   0.0    40    48           0.0         1.0   \n",
       "3            15        6   0.0   0.0    40    48           0.0         1.0   \n",
       "4            10        6   0.0   0.0    40    48           0.0         1.0   \n",
       "\n",
       "  weekday2  \n",
       "0   Sunday  \n",
       "1   Sunday  \n",
       "2   Sunday  \n",
       "3   Sunday  \n",
       "4   Sunday  "
      ]
     },
     "execution_count": 215,
     "metadata": {},
     "output_type": "execute_result"
    }
   ],
   "source": [
    "FullTestModel.head()"
   ]
  },
  {
   "cell_type": "code",
   "execution_count": 214,
   "metadata": {},
   "outputs": [
    {
     "name": "stderr",
     "output_type": "stream",
     "text": [
      "100%|████████████████████████████████████████████████████████████████████████| 55731/55731 [00:00<00:00, 598983.61it/s]\n",
      "C:\\Users\\Elliot\\Anaconda3\\lib\\site-packages\\ipykernel_launcher.py:1: SettingWithCopyWarning: \n",
      "A value is trying to be set on a copy of a slice from a DataFrame.\n",
      "Try using .loc[row_indexer,col_indexer] = value instead\n",
      "\n",
      "See the caveats in the documentation: http://pandas.pydata.org/pandas-docs/stable/indexing.html#indexing-view-versus-copy\n",
      "  \"\"\"Entry point for launching an IPython kernel.\n"
     ]
    }
   ],
   "source": [
    "FullTestModel['weekday2'] = FullTestModel['weekday'].astype('int').progress_apply(weekday)"
   ]
  },
  {
   "cell_type": "code",
   "execution_count": 216,
   "metadata": {},
   "outputs": [],
   "source": [
    "FullTestModel = pd.get_dummies(FullTestModel)"
   ]
  },
  {
   "cell_type": "code",
   "execution_count": 217,
   "metadata": {},
   "outputs": [
    {
     "data": {
      "text/html": [
       "<div>\n",
       "<style scoped>\n",
       "    .dataframe tbody tr th:only-of-type {\n",
       "        vertical-align: middle;\n",
       "    }\n",
       "\n",
       "    .dataframe tbody tr th {\n",
       "        vertical-align: top;\n",
       "    }\n",
       "\n",
       "    .dataframe thead th {\n",
       "        text-align: right;\n",
       "    }\n",
       "</style>\n",
       "<table border=\"1\" class=\"dataframe\">\n",
       "  <thead>\n",
       "    <tr style=\"text-align: right;\">\n",
       "      <th></th>\n",
       "      <th>N_violations</th>\n",
       "      <th>weekday</th>\n",
       "      <th>PRCP</th>\n",
       "      <th>SNOW</th>\n",
       "      <th>TMIN</th>\n",
       "      <th>TMAX</th>\n",
       "      <th>Total_Events</th>\n",
       "      <th>FedHoliday</th>\n",
       "      <th>weekday2_Friday</th>\n",
       "      <th>weekday2_Monday</th>\n",
       "      <th>weekday2_Saturday</th>\n",
       "      <th>weekday2_Sunday</th>\n",
       "      <th>weekday2_Thursday</th>\n",
       "      <th>weekday2_Tuesday</th>\n",
       "      <th>weekday2_Wednesday</th>\n",
       "    </tr>\n",
       "  </thead>\n",
       "  <tbody>\n",
       "    <tr>\n",
       "      <th>0</th>\n",
       "      <td>119</td>\n",
       "      <td>6</td>\n",
       "      <td>0.0</td>\n",
       "      <td>0.0</td>\n",
       "      <td>40</td>\n",
       "      <td>48</td>\n",
       "      <td>0.0</td>\n",
       "      <td>1.0</td>\n",
       "      <td>0</td>\n",
       "      <td>0</td>\n",
       "      <td>0</td>\n",
       "      <td>1</td>\n",
       "      <td>0</td>\n",
       "      <td>0</td>\n",
       "      <td>0</td>\n",
       "    </tr>\n",
       "    <tr>\n",
       "      <th>1</th>\n",
       "      <td>43</td>\n",
       "      <td>6</td>\n",
       "      <td>0.0</td>\n",
       "      <td>0.0</td>\n",
       "      <td>40</td>\n",
       "      <td>48</td>\n",
       "      <td>0.0</td>\n",
       "      <td>1.0</td>\n",
       "      <td>0</td>\n",
       "      <td>0</td>\n",
       "      <td>0</td>\n",
       "      <td>1</td>\n",
       "      <td>0</td>\n",
       "      <td>0</td>\n",
       "      <td>0</td>\n",
       "    </tr>\n",
       "    <tr>\n",
       "      <th>2</th>\n",
       "      <td>16</td>\n",
       "      <td>6</td>\n",
       "      <td>0.0</td>\n",
       "      <td>0.0</td>\n",
       "      <td>40</td>\n",
       "      <td>48</td>\n",
       "      <td>0.0</td>\n",
       "      <td>1.0</td>\n",
       "      <td>0</td>\n",
       "      <td>0</td>\n",
       "      <td>0</td>\n",
       "      <td>1</td>\n",
       "      <td>0</td>\n",
       "      <td>0</td>\n",
       "      <td>0</td>\n",
       "    </tr>\n",
       "    <tr>\n",
       "      <th>3</th>\n",
       "      <td>15</td>\n",
       "      <td>6</td>\n",
       "      <td>0.0</td>\n",
       "      <td>0.0</td>\n",
       "      <td>40</td>\n",
       "      <td>48</td>\n",
       "      <td>0.0</td>\n",
       "      <td>1.0</td>\n",
       "      <td>0</td>\n",
       "      <td>0</td>\n",
       "      <td>0</td>\n",
       "      <td>1</td>\n",
       "      <td>0</td>\n",
       "      <td>0</td>\n",
       "      <td>0</td>\n",
       "    </tr>\n",
       "    <tr>\n",
       "      <th>4</th>\n",
       "      <td>10</td>\n",
       "      <td>6</td>\n",
       "      <td>0.0</td>\n",
       "      <td>0.0</td>\n",
       "      <td>40</td>\n",
       "      <td>48</td>\n",
       "      <td>0.0</td>\n",
       "      <td>1.0</td>\n",
       "      <td>0</td>\n",
       "      <td>0</td>\n",
       "      <td>0</td>\n",
       "      <td>1</td>\n",
       "      <td>0</td>\n",
       "      <td>0</td>\n",
       "      <td>0</td>\n",
       "    </tr>\n",
       "  </tbody>\n",
       "</table>\n",
       "</div>"
      ],
      "text/plain": [
       "   N_violations  weekday  PRCP  SNOW  TMIN  TMAX  Total_Events  FedHoliday  \\\n",
       "0           119        6   0.0   0.0    40    48           0.0         1.0   \n",
       "1            43        6   0.0   0.0    40    48           0.0         1.0   \n",
       "2            16        6   0.0   0.0    40    48           0.0         1.0   \n",
       "3            15        6   0.0   0.0    40    48           0.0         1.0   \n",
       "4            10        6   0.0   0.0    40    48           0.0         1.0   \n",
       "\n",
       "   weekday2_Friday  weekday2_Monday  weekday2_Saturday  weekday2_Sunday  \\\n",
       "0                0                0                  0                1   \n",
       "1                0                0                  0                1   \n",
       "2                0                0                  0                1   \n",
       "3                0                0                  0                1   \n",
       "4                0                0                  0                1   \n",
       "\n",
       "   weekday2_Thursday  weekday2_Tuesday  weekday2_Wednesday  \n",
       "0                  0                 0                   0  \n",
       "1                  0                 0                   0  \n",
       "2                  0                 0                   0  \n",
       "3                  0                 0                   0  \n",
       "4                  0                 0                   0  "
      ]
     },
     "execution_count": 217,
     "metadata": {},
     "output_type": "execute_result"
    }
   ],
   "source": [
    "FullTestModel.head()"
   ]
  },
  {
   "cell_type": "code",
   "execution_count": 218,
   "metadata": {},
   "outputs": [],
   "source": [
    "X = FullTestModel[['weekday2_Friday', 'weekday2_Monday', 'weekday2_Tuesday', 'weekday2_Wednesday', 'weekday2_Thursday', \n",
    "               'weekday2_Saturday', 'weekday2_Sunday', 'PRCP', 'SNOW', 'TMIN', 'TMAX', 'Total_Events', 'FedHoliday']] \n",
    "        # N features for multiple regression. \n",
    "Y = FullTestModel['N_violations']"
   ]
  },
  {
   "cell_type": "code",
   "execution_count": 119,
   "metadata": {},
   "outputs": [
    {
     "data": {
      "text/plain": [
       "((730, 13), (584, 13), (146, 13))"
      ]
     },
     "execution_count": 119,
     "metadata": {},
     "output_type": "execute_result"
    }
   ],
   "source": [
    "X_train, X_test, y_train, y_test = model_selection.train_test_split(X, Y, test_size=0.2, random_state=42)\n",
    "X.shape, X_train.shape, X_test.shape"
   ]
  },
  {
   "cell_type": "code",
   "execution_count": 219,
   "metadata": {},
   "outputs": [],
   "source": [
    "X_train, X_test, y_train, y_test = model_selection.train_test_split(X, Y, test_size = 0.2, random_state = 42)"
   ]
  },
  {
   "cell_type": "code",
   "execution_count": 220,
   "metadata": {},
   "outputs": [],
   "source": [
    "rf = RandomForestRegressor(n_estimators = 100, random_state = 42)\n",
    "rf.fit(X_train, y_train);"
   ]
  },
  {
   "cell_type": "code",
   "execution_count": 221,
   "metadata": {},
   "outputs": [
    {
     "name": "stdout",
     "output_type": "stream",
     "text": [
      "R2: -2.51\n"
     ]
    }
   ],
   "source": [
    "y_model = rf.predict(X_test)\n",
    "acc_score = r2_score(y_model, y_test)\n",
    "print('R2:', round(acc_score, 2))"
   ]
  },
  {
   "cell_type": "code",
   "execution_count": 222,
   "metadata": {},
   "outputs": [
    {
     "data": {
      "image/png": "[encoded data removed]",
      "text/plain": [
       "<Figure size 432x288 with 1 Axes>"
      ]
     },
     "metadata": {},
     "output_type": "display_data"
    }
   ],
   "source": [
    "plt.scatter(y_test, y_model, color='green')\n",
    "plt.title('NYC prediction with Random Forest', fontsize=14)\n",
    "plt.xlabel('Model', fontsize=14)\n",
    "plt.ylabel('Actual', fontsize=14)\n",
    "plt.grid(True)\n",
    "plt.show()"
   ]
  },
  {
   "cell_type": "markdown",
   "metadata": {},
   "source": [
    "# Mapping"
   ]
  },
  {
   "cell_type": "code",
   "execution_count": 166,
   "metadata": {},
   "outputs": [
    {
     "name": "stdout",
     "output_type": "stream",
     "text": [
      "Collecting package metadata (current_repodata.json): ...working... done\n",
      "Solving environment: ...working... done\n",
      "\n",
      "# All requested packages already installed.\n",
      "\n",
      "\n",
      "Note: you may need to restart the kernel to use updated packages.\n"
     ]
    }
   ],
   "source": [
    "conda install -c conda-forge folium"
   ]
  },
  {
   "cell_type": "code",
   "execution_count": 167,
   "metadata": {},
   "outputs": [],
   "source": [
    "import webbrowser\n",
    "import folium"
   ]
  },
  {
   "cell_type": "code",
   "execution_count": 161,
   "metadata": {},
   "outputs": [
    {
     "data": {
      "text/html": [
       "<div>\n",
       "<style scoped>\n",
       "    .dataframe tbody tr th:only-of-type {\n",
       "        vertical-align: middle;\n",
       "    }\n",
       "\n",
       "    .dataframe tbody tr th {\n",
       "        vertical-align: top;\n",
       "    }\n",
       "\n",
       "    .dataframe thead th {\n",
       "        text-align: right;\n",
       "    }\n",
       "</style>\n",
       "<table border=\"1\" class=\"dataframe\">\n",
       "  <thead>\n",
       "    <tr style=\"text-align: right;\">\n",
       "      <th></th>\n",
       "      <th>Unnamed: 0</th>\n",
       "      <th>Issue Date</th>\n",
       "      <th>Violation Precinct</th>\n",
       "      <th>N_violations</th>\n",
       "      <th>year</th>\n",
       "      <th>month</th>\n",
       "      <th>day</th>\n",
       "      <th>weekday</th>\n",
       "      <th>Borough</th>\n",
       "      <th>PRCP</th>\n",
       "      <th>...</th>\n",
       "      <th>TMIN</th>\n",
       "      <th>Curb Lane Only</th>\n",
       "      <th>FullSidewalkClosure</th>\n",
       "      <th>FullStreetClosure</th>\n",
       "      <th>PartialSidewalkClosure</th>\n",
       "      <th>PedestrianPlaza</th>\n",
       "      <th>SidewalkandCurbLaneClosure</th>\n",
       "      <th>SidewalkandStreetClosure</th>\n",
       "      <th>FedHoliday</th>\n",
       "      <th>Total_Events</th>\n",
       "    </tr>\n",
       "  </thead>\n",
       "  <tbody>\n",
       "    <tr>\n",
       "      <th>0</th>\n",
       "      <td>0</td>\n",
       "      <td>2017-01-01</td>\n",
       "      <td>1</td>\n",
       "      <td>119</td>\n",
       "      <td>2017</td>\n",
       "      <td>1</td>\n",
       "      <td>1</td>\n",
       "      <td>6</td>\n",
       "      <td>Manhattan</td>\n",
       "      <td>0.0</td>\n",
       "      <td>...</td>\n",
       "      <td>40</td>\n",
       "      <td>0.0</td>\n",
       "      <td>0.0</td>\n",
       "      <td>0.0</td>\n",
       "      <td>0.0</td>\n",
       "      <td>0.0</td>\n",
       "      <td>0.0</td>\n",
       "      <td>0.0</td>\n",
       "      <td>1.0</td>\n",
       "      <td>0.0</td>\n",
       "    </tr>\n",
       "    <tr>\n",
       "      <th>1</th>\n",
       "      <td>1</td>\n",
       "      <td>2017-01-01</td>\n",
       "      <td>5</td>\n",
       "      <td>43</td>\n",
       "      <td>2017</td>\n",
       "      <td>1</td>\n",
       "      <td>1</td>\n",
       "      <td>6</td>\n",
       "      <td>Manhattan</td>\n",
       "      <td>0.0</td>\n",
       "      <td>...</td>\n",
       "      <td>40</td>\n",
       "      <td>0.0</td>\n",
       "      <td>0.0</td>\n",
       "      <td>0.0</td>\n",
       "      <td>0.0</td>\n",
       "      <td>0.0</td>\n",
       "      <td>0.0</td>\n",
       "      <td>0.0</td>\n",
       "      <td>1.0</td>\n",
       "      <td>0.0</td>\n",
       "    </tr>\n",
       "    <tr>\n",
       "      <th>2</th>\n",
       "      <td>2</td>\n",
       "      <td>2017-01-01</td>\n",
       "      <td>6</td>\n",
       "      <td>16</td>\n",
       "      <td>2017</td>\n",
       "      <td>1</td>\n",
       "      <td>1</td>\n",
       "      <td>6</td>\n",
       "      <td>Manhattan</td>\n",
       "      <td>0.0</td>\n",
       "      <td>...</td>\n",
       "      <td>40</td>\n",
       "      <td>0.0</td>\n",
       "      <td>0.0</td>\n",
       "      <td>0.0</td>\n",
       "      <td>0.0</td>\n",
       "      <td>0.0</td>\n",
       "      <td>0.0</td>\n",
       "      <td>0.0</td>\n",
       "      <td>1.0</td>\n",
       "      <td>0.0</td>\n",
       "    </tr>\n",
       "    <tr>\n",
       "      <th>3</th>\n",
       "      <td>3</td>\n",
       "      <td>2017-01-01</td>\n",
       "      <td>7</td>\n",
       "      <td>15</td>\n",
       "      <td>2017</td>\n",
       "      <td>1</td>\n",
       "      <td>1</td>\n",
       "      <td>6</td>\n",
       "      <td>Manhattan</td>\n",
       "      <td>0.0</td>\n",
       "      <td>...</td>\n",
       "      <td>40</td>\n",
       "      <td>0.0</td>\n",
       "      <td>0.0</td>\n",
       "      <td>0.0</td>\n",
       "      <td>0.0</td>\n",
       "      <td>0.0</td>\n",
       "      <td>0.0</td>\n",
       "      <td>0.0</td>\n",
       "      <td>1.0</td>\n",
       "      <td>0.0</td>\n",
       "    </tr>\n",
       "    <tr>\n",
       "      <th>4</th>\n",
       "      <td>4</td>\n",
       "      <td>2017-01-01</td>\n",
       "      <td>9</td>\n",
       "      <td>10</td>\n",
       "      <td>2017</td>\n",
       "      <td>1</td>\n",
       "      <td>1</td>\n",
       "      <td>6</td>\n",
       "      <td>Manhattan</td>\n",
       "      <td>0.0</td>\n",
       "      <td>...</td>\n",
       "      <td>40</td>\n",
       "      <td>0.0</td>\n",
       "      <td>0.0</td>\n",
       "      <td>0.0</td>\n",
       "      <td>0.0</td>\n",
       "      <td>0.0</td>\n",
       "      <td>0.0</td>\n",
       "      <td>0.0</td>\n",
       "      <td>1.0</td>\n",
       "      <td>0.0</td>\n",
       "    </tr>\n",
       "  </tbody>\n",
       "</table>\n",
       "<p>5 rows × 24 columns</p>\n",
       "</div>"
      ],
      "text/plain": [
       "   Unnamed: 0  Issue Date  Violation Precinct  N_violations  year  month  day  \\\n",
       "0           0  2017-01-01                   1           119  2017      1    1   \n",
       "1           1  2017-01-01                   5            43  2017      1    1   \n",
       "2           2  2017-01-01                   6            16  2017      1    1   \n",
       "3           3  2017-01-01                   7            15  2017      1    1   \n",
       "4           4  2017-01-01                   9            10  2017      1    1   \n",
       "\n",
       "   weekday    Borough  PRCP  ...  TMIN  Curb Lane Only  FullSidewalkClosure  \\\n",
       "0        6  Manhattan   0.0  ...    40             0.0                  0.0   \n",
       "1        6  Manhattan   0.0  ...    40             0.0                  0.0   \n",
       "2        6  Manhattan   0.0  ...    40             0.0                  0.0   \n",
       "3        6  Manhattan   0.0  ...    40             0.0                  0.0   \n",
       "4        6  Manhattan   0.0  ...    40             0.0                  0.0   \n",
       "\n",
       "   FullStreetClosure  PartialSidewalkClosure  PedestrianPlaza  \\\n",
       "0                0.0                     0.0              0.0   \n",
       "1                0.0                     0.0              0.0   \n",
       "2                0.0                     0.0              0.0   \n",
       "3                0.0                     0.0              0.0   \n",
       "4                0.0                     0.0              0.0   \n",
       "\n",
       "   SidewalkandCurbLaneClosure  SidewalkandStreetClosure  FedHoliday  \\\n",
       "0                         0.0                       0.0         1.0   \n",
       "1                         0.0                       0.0         1.0   \n",
       "2                         0.0                       0.0         1.0   \n",
       "3                         0.0                       0.0         1.0   \n",
       "4                         0.0                       0.0         1.0   \n",
       "\n",
       "   Total_Events  \n",
       "0           0.0  \n",
       "1           0.0  \n",
       "2           0.0  \n",
       "3           0.0  \n",
       "4           0.0  \n",
       "\n",
       "[5 rows x 24 columns]"
      ]
     },
     "execution_count": 161,
     "metadata": {},
     "output_type": "execute_result"
    }
   ],
   "source": [
    "dfcombined9.head()"
   ]
  },
  {
   "cell_type": "code",
   "execution_count": 162,
   "metadata": {},
   "outputs": [],
   "source": [
    "df_map = dfcombined9.groupby(['Violation Precinct'])['N_violations'].sum().reset_index(name='counts')\n",
    "df_map['Violation Precinct'] = df_map['Violation Precinct'].astype(str)"
   ]
  },
  {
   "cell_type": "code",
   "execution_count": 163,
   "metadata": {},
   "outputs": [],
   "source": [
    "nyc_coor = [40.738, -73.98]\n",
    "precincts_data = r'C:\\Users\\Elliot\\Desktop\\NYC_Parking\\PolicePrecincts.geojson'"
   ]
  },
  {
   "cell_type": "code",
   "execution_count": 168,
   "metadata": {},
   "outputs": [
    {
     "name": "stderr",
     "output_type": "stream",
     "text": [
      "C:\\Users\\Elliot\\Anaconda3\\lib\\site-packages\\folium\\folium.py:415: FutureWarning: The choropleth  method has been deprecated. Instead use the new Choropleth class, which has the same arguments. See the example notebook 'GeoJSON_and_choropleth' for how to do this.\n",
      "  FutureWarning\n"
     ]
    }
   ],
   "source": [
    "df_map2 = folium.Map(location=nyc_coor,zoom_start=11)\n",
    "df_map2.choropleth(geo_data=precincts_data,\n",
    "                        data=df_map,\n",
    "                        key_on='feature.properties.precinct',\n",
    "                        columns=['Violation Precinct', 'counts'],\n",
    "                        fill_color='BuGn', \n",
    "                        fill_opacity=.7, \n",
    "                        line_opacity=0.5)\n",
    "df_map2.save('df_map2.html')"
   ]
  },
  {
   "cell_type": "code",
   "execution_count": 391,
   "metadata": {},
   "outputs": [
    {
     "data": {
      "text/plain": [
       "True"
      ]
     },
     "execution_count": 391,
     "metadata": {},
     "output_type": "execute_result"
    }
   ],
   "source": [
    "webbrowser.open('df_map2.html')"
   ]
  }
 ],
 "metadata": {
  "kernelspec": {
   "display_name": "Python 3",
   "language": "python",
   "name": "python3"
  },
  "language_info": {
   "codemirror_mode": {
    "name": "ipython",
    "version": 3
   },
   "file_extension": ".py",
   "mimetype": "text/x-python",
   "name": "python",
   "nbconvert_exporter": "python",
   "pygments_lexer": "ipython3",
   "version": "3.7.3"
  }
 },
 "nbformat": 4,
 "nbformat_minor": 2
}
